{
 "cells": [
  {
   "cell_type": "markdown",
   "metadata": {},
   "source": [
    "# Part II: Introduction to workflow management and computational reproducibility"
   ]
  },
  {
   "cell_type": "markdown",
   "metadata": {},
   "source": [
    "## Workflow Management \n",
    "\n",
    "In the middle of working through Part 1 of this week's assignment, you may have asked yourself the following questions: \n",
    "\n",
    "1. *Where* did I get this data file? \n",
    "2. *Why* did I drop those samples? \n",
    "3. *How* did I make that figure? *In an inspired moment of EDA, I created an interesting graph, but I can't remember how I did it... \n",
    "4. My script is now giving an error :( But it was working last week\n",
    "\n",
    "*Examples from [Karl Broman](https://www.biostat.wisc.edu/~kbroman/presentations/repro_research_JSM2016_withnotes.pdf)\n",
    "\n",
    "With good workflow management, we won't have the problems above. What is more, with good workflow management, we move a step closer towards computational reproducibility. "
   ]
  },
  {
   "cell_type": "markdown",
   "metadata": {},
   "source": [
    "### Some simple recommendations for workflow management \n",
    "\n",
    "More explanation can be found on [Karl's website](https://kbroman.org/steps2rr/pages/organize.html)\n",
    "1. Folder organisation - separate data and code. For data, separate `raw` data from `derived` data, with a script detailing the steps used to get from `raw` to `derived`. For code, separate scripts from notebooks. Notebooks are for iterating, but the final analyses can be captured more formally in a script or set of Python modules. \n",
    "\n",
    "2. Record everything in a script. This includes steps for converting data files, cleaning data and analyzing data.\n",
    "\n",
    "3. If you plan on running an analysis multiple times with different datasets, turn the operation into a one-button operation with automation tools like `GNU Make`\n",
    "\n",
    "4. Turn repeated code into functions. Turn repeated functions into packages. \n",
    "\n",
    "5. `git commit` often. Nuff said. "
   ]
  },
  {
   "cell_type": "markdown",
   "metadata": {},
   "source": [
    "### Deliverable #2: \n",
    "\n",
    "For the ecommerce dataset we have been using, create a script or Python library that can run all the necessary data cleaning and feature engineering steps in a reusable manner. \n",
    "\n",
    "`python run.py`"
   ]
  },
  {
   "cell_type": "markdown",
   "metadata": {},
   "source": [
    "## Computational Reproducibility \n",
    "\n",
    "A research project is computationally reproducible if a second investigator (including you in the future) can recreate the final reported results of the project, including key quantitative findings, tables, and figures, given only a set of files and written instructions. [source](https://www.practicereproducibleresearch.org)\n",
    "\n",
    "Reproducibility is an indicator of your projects quality and trustworthiness. However, creating a project that is computationally reproducible can introduce more overhead than you would like. Inevitably, this overhead eats into time you could be spending on improving your model. Hence, we don't mandate that you practice full computational reproducibility now. Rather, we want to introduce you to this idea so that when the time comes for handing over a project or analysis, you will have some rules of thumb to work from. "
   ]
  },
  {
   "cell_type": "markdown",
   "metadata": {},
   "source": [
    "[Ten Simple Rules for Reproducible Computational Research](https://www.ncbi.nlm.nih.gov/pmc/articles/PMC3812051/)\n",
    "\n",
    "1. For every result, keep track of how it was produced. This includes the full sequence of pre- and post-processing steps. Scripts are handy here. Within scripts, informative function names and good indentation are useful.\n",
    "\n",
    "2. Avoid manual data manipulation steps. Use scripts and functions instead of, say, manually converting a csv file in Excel \n",
    "\n",
    "3. Archive the exact versions of all external programs used. This includes package versions of `pip` and `conda` \n",
    "\n",
    "4. Version control all custom scripts \n",
    "\n",
    "5. Record all intermediate results, when possible in standardised format. \n",
    "\n",
    "6. For analyses that include randomness, note underlying random seeds. \n",
    "\n",
    "7. <mark>Always store raw data behind plots. </mark>\n",
    "\n",
    "8. Generate Hierarchical Analysis Output\n",
    "\n",
    "9. Connect your experimental results with a textual explanation. This will allow you to connect for findings with existing theories, interpretations or hypotheses you are exploring.\n",
    "\n",
    "10. Provide public access to scripts, runs and results. "
   ]
  },
  {
   "cell_type": "markdown",
   "metadata": {},
   "source": [
    "### Case Studies of how reproducible research is practiced: \n",
    "\n",
    "[practicereproducibleresearch.org](https://www.practicereproducibleresearch.org/core-chapters/1-intro.html) from UC Berkeley"
   ]
  },
  {
   "cell_type": "markdown",
   "metadata": {},
   "source": [
    "### Deliverable #3: \n",
    "Include a README.md with your project repo. Some pointers on how to write a good README.md can be found [here](https://help.github.com/articles/about-readmes/)\n",
    "\n",
    "### Deliverable #4 \n",
    "Include a `requirements.txt` or `environment.yml` with your project repo"
   ]
  },
  {
   "cell_type": "markdown",
   "metadata": {},
   "source": [
    "`conda list -e > requirements.txt` #Save all the info about packages to your folder  \n",
    "`conda env export > <environment-name>.yml `"
   ]
  }
 ],
 "metadata": {
  "kernelspec": {
   "display_name": "Python 3",
   "language": "python",
   "name": "python3"
  },
  "language_info": {
   "codemirror_mode": {
    "name": "ipython",
    "version": 3
   },
   "file_extension": ".py",
   "mimetype": "text/x-python",
   "name": "python",
   "nbconvert_exporter": "python",
   "pygments_lexer": "ipython3",
   "version": "3.7.0"
  },
  "toc": {
   "base_numbering": 1,
   "nav_menu": {},
   "number_sections": true,
   "sideBar": true,
   "skip_h1_title": false,
   "title_cell": "Table of Contents",
   "title_sidebar": "Contents",
   "toc_cell": false,
   "toc_position": {},
   "toc_section_display": true,
   "toc_window_display": false
  }
 },
 "nbformat": 4,
 "nbformat_minor": 2
}
