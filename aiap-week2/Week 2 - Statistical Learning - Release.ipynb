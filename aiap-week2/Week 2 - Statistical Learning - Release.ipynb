{
 "cells": [
  {
   "cell_type": "markdown",
   "metadata": {},
   "source": [
    "# Welcome to Week 2\n",
    "Last week you played with data and built models in a very practical way. This week, you will go deeper into theory and spend time on some foundational concepts.  This notebook is divided into two sections:\n",
    "\n",
    "1. The Theory: an introduction to bias and variance - two key concepts in machine learning - and how they affect model performance\n",
    "2. The Practice: a chance for you to experiment with how we deal with these concepts in practice\n",
    "\n",
    "**You may finish the coding questions fairly quickly, but we expect you to spend most of your time teaching yourself the theoretical concepts** that come up in this notebook. We will use the 2-on-1 review session to test you on these concepts. Consequently, you should spend your time going through the below **resources** and playing with these concepts beyond this notebook.\n",
    "### Resources (spend your time here!)\n",
    "- [Caltech Learn from data](http://work.caltech.edu/telecourse.html \"\"): Seminal online course that introduces the theory of machine learning\n",
    "- [Introduction to Statistical Learning](https://www-bcf.usc.edu/~gareth/ISL/ \"\"): Landmark textbook (and videos) on machine learning theory\n",
    "- *Machine Learning* by Tom M. Mitchell: See chapters 5.2 & 5.3 (textbook available on our bookshelf)\n",
    "- [Datacamp Supervised learning with scikit-learn](https://www.datacamp.com/courses/supervised-learning-with-scikit-learn \"\"): Practical walkthrough of some key concepts and their application\n",
    "- [Understanding the Bias Variance Tradeoff](http://scott.fortmann-roe.com/docs/BiasVariance.html \"\"): Blog post on the topic of bias and variance\n",
    "- [Kaggle Ensembling Guide](https://mlwave.com/kaggle-ensembling-guide/ \"\"): Ensembling guide\n",
    "- [XGBoost tutorials](https://xgboost.readthedocs.io/en/latest/tutorials/model.html \"\"): XGBoost guide\n",
    "\n",
    "### Collaboration Policy\n",
    "\n",
    "Collaboration is the best way to learn. Try everything yourself first, then discuss your method with your teammates. Do not directly copy their code, unless you are trying to learn a programming technique. Do your own thinking and write your own code.\n",
    "\n",
    "If you believe referring to someone's answer is the best way to learn, we recommend looking at the code, then walking away for a few minutes, and come back to write your own version of the code. There will be minimum policing, but we will check for direct copying of code.\n",
    "\n",
    "Please list your collaborators:"
   ]
  },
  {
   "cell_type": "markdown",
   "metadata": {},
   "source": [
    "1. Tupac Shakur\n",
    "2. DQ"
   ]
  },
  {
   "cell_type": "markdown",
   "metadata": {},
   "source": [
    "### Imports\n",
    "This section should be reserved for packages/libraries you that you would normally use (you can add models/functions/libraries as you go along)"
   ]
  },
  {
   "cell_type": "code",
   "execution_count": 73,
   "metadata": {},
   "outputs": [],
   "source": [
    "from sklearn.datasets import load_boston\n",
    "from sklearn import model_selection\n",
    "from sklearn import preprocessing\n",
    "from sklearn import metrics\n",
    "from sklearn import neighbors\n",
    "from sklearn import tree\n",
    "import numpy as np\n",
    "import matplotlib.pyplot as plt\n",
    "import pandas as pd"
   ]
  },
  {
   "cell_type": "markdown",
   "metadata": {},
   "source": [
    "### Dataset\n",
    "Begin by loading the Boston House Prices dataset, or simply the Boston dataset, for our exploration. <br>\n",
    "You can find it on Kaggle, or simply import it from the scikit-learn build-in datasets."
   ]
  },
  {
   "cell_type": "code",
   "execution_count": 55,
   "metadata": {},
   "outputs": [
    {
     "data": {
      "text/html": [
       "<div>\n",
       "<style scoped>\n",
       "    .dataframe tbody tr th:only-of-type {\n",
       "        vertical-align: middle;\n",
       "    }\n",
       "\n",
       "    .dataframe tbody tr th {\n",
       "        vertical-align: top;\n",
       "    }\n",
       "\n",
       "    .dataframe thead th {\n",
       "        text-align: right;\n",
       "    }\n",
       "</style>\n",
       "<table border=\"1\" class=\"dataframe\">\n",
       "  <thead>\n",
       "    <tr style=\"text-align: right;\">\n",
       "      <th></th>\n",
       "      <th>CRIM</th>\n",
       "      <th>ZN</th>\n",
       "      <th>INDUS</th>\n",
       "      <th>CHAS</th>\n",
       "      <th>NOX</th>\n",
       "      <th>RM</th>\n",
       "      <th>AGE</th>\n",
       "      <th>DIS</th>\n",
       "      <th>RAD</th>\n",
       "      <th>TAX</th>\n",
       "      <th>PTRATIO</th>\n",
       "      <th>B</th>\n",
       "      <th>LSTAT</th>\n",
       "      <th>target</th>\n",
       "    </tr>\n",
       "  </thead>\n",
       "  <tbody>\n",
       "    <tr>\n",
       "      <th>0</th>\n",
       "      <td>0.00632</td>\n",
       "      <td>18.0</td>\n",
       "      <td>2.31</td>\n",
       "      <td>0.0</td>\n",
       "      <td>0.538</td>\n",
       "      <td>6.575</td>\n",
       "      <td>65.2</td>\n",
       "      <td>4.0900</td>\n",
       "      <td>1.0</td>\n",
       "      <td>296.0</td>\n",
       "      <td>15.3</td>\n",
       "      <td>396.90</td>\n",
       "      <td>4.98</td>\n",
       "      <td>24.0</td>\n",
       "    </tr>\n",
       "    <tr>\n",
       "      <th>1</th>\n",
       "      <td>0.02731</td>\n",
       "      <td>0.0</td>\n",
       "      <td>7.07</td>\n",
       "      <td>0.0</td>\n",
       "      <td>0.469</td>\n",
       "      <td>6.421</td>\n",
       "      <td>78.9</td>\n",
       "      <td>4.9671</td>\n",
       "      <td>2.0</td>\n",
       "      <td>242.0</td>\n",
       "      <td>17.8</td>\n",
       "      <td>396.90</td>\n",
       "      <td>9.14</td>\n",
       "      <td>21.6</td>\n",
       "    </tr>\n",
       "    <tr>\n",
       "      <th>2</th>\n",
       "      <td>0.02729</td>\n",
       "      <td>0.0</td>\n",
       "      <td>7.07</td>\n",
       "      <td>0.0</td>\n",
       "      <td>0.469</td>\n",
       "      <td>7.185</td>\n",
       "      <td>61.1</td>\n",
       "      <td>4.9671</td>\n",
       "      <td>2.0</td>\n",
       "      <td>242.0</td>\n",
       "      <td>17.8</td>\n",
       "      <td>392.83</td>\n",
       "      <td>4.03</td>\n",
       "      <td>34.7</td>\n",
       "    </tr>\n",
       "    <tr>\n",
       "      <th>3</th>\n",
       "      <td>0.03237</td>\n",
       "      <td>0.0</td>\n",
       "      <td>2.18</td>\n",
       "      <td>0.0</td>\n",
       "      <td>0.458</td>\n",
       "      <td>6.998</td>\n",
       "      <td>45.8</td>\n",
       "      <td>6.0622</td>\n",
       "      <td>3.0</td>\n",
       "      <td>222.0</td>\n",
       "      <td>18.7</td>\n",
       "      <td>394.63</td>\n",
       "      <td>2.94</td>\n",
       "      <td>33.4</td>\n",
       "    </tr>\n",
       "    <tr>\n",
       "      <th>4</th>\n",
       "      <td>0.06905</td>\n",
       "      <td>0.0</td>\n",
       "      <td>2.18</td>\n",
       "      <td>0.0</td>\n",
       "      <td>0.458</td>\n",
       "      <td>7.147</td>\n",
       "      <td>54.2</td>\n",
       "      <td>6.0622</td>\n",
       "      <td>3.0</td>\n",
       "      <td>222.0</td>\n",
       "      <td>18.7</td>\n",
       "      <td>396.90</td>\n",
       "      <td>5.33</td>\n",
       "      <td>36.2</td>\n",
       "    </tr>\n",
       "  </tbody>\n",
       "</table>\n",
       "</div>"
      ],
      "text/plain": [
       "      CRIM    ZN  INDUS  CHAS    NOX     RM   AGE     DIS  RAD    TAX  \\\n",
       "0  0.00632  18.0   2.31   0.0  0.538  6.575  65.2  4.0900  1.0  296.0   \n",
       "1  0.02731   0.0   7.07   0.0  0.469  6.421  78.9  4.9671  2.0  242.0   \n",
       "2  0.02729   0.0   7.07   0.0  0.469  7.185  61.1  4.9671  2.0  242.0   \n",
       "3  0.03237   0.0   2.18   0.0  0.458  6.998  45.8  6.0622  3.0  222.0   \n",
       "4  0.06905   0.0   2.18   0.0  0.458  7.147  54.2  6.0622  3.0  222.0   \n",
       "\n",
       "   PTRATIO       B  LSTAT  target  \n",
       "0     15.3  396.90   4.98    24.0  \n",
       "1     17.8  396.90   9.14    21.6  \n",
       "2     17.8  392.83   4.03    34.7  \n",
       "3     18.7  394.63   2.94    33.4  \n",
       "4     18.7  396.90   5.33    36.2  "
      ]
     },
     "execution_count": 55,
     "metadata": {},
     "output_type": "execute_result"
    }
   ],
   "source": [
    "sam_adams = load_boston()\n",
    "df_raw = pd.DataFrame(sam_adams['data'],columns = sam_adams['feature_names'])\n",
    "df_raw['target'] = sam_adams['target']\n",
    "df_raw.head()"
   ]
  },
  {
   "cell_type": "code",
   "execution_count": 3,
   "metadata": {
    "scrolled": true
   },
   "outputs": [
    {
     "name": "stdout",
     "output_type": "stream",
     "text": [
      "Boston House Prices dataset\n",
      "===========================\n",
      "\n",
      "Notes\n",
      "------\n",
      "Data Set Characteristics:  \n",
      "\n",
      "    :Number of Instances: 506 \n",
      "\n",
      "    :Number of Attributes: 13 numeric/categorical predictive\n",
      "    \n",
      "    :Median Value (attribute 14) is usually the target\n",
      "\n",
      "    :Attribute Information (in order):\n",
      "        - CRIM     per capita crime rate by town\n",
      "        - ZN       proportion of residential land zoned for lots over 25,000 sq.ft.\n",
      "        - INDUS    proportion of non-retail business acres per town\n",
      "        - CHAS     Charles River dummy variable (= 1 if tract bounds river; 0 otherwise)\n",
      "        - NOX      nitric oxides concentration (parts per 10 million)\n",
      "        - RM       average number of rooms per dwelling\n",
      "        - AGE      proportion of owner-occupied units built prior to 1940\n",
      "        - DIS      weighted distances to five Boston employment centres\n",
      "        - RAD      index of accessibility to radial highways\n",
      "        - TAX      full-value property-tax rate per $10,000\n",
      "        - PTRATIO  pupil-teacher ratio by town\n",
      "        - B        1000(Bk - 0.63)^2 where Bk is the proportion of blacks by town\n",
      "        - LSTAT    % lower status of the population\n",
      "        - MEDV     Median value of owner-occupied homes in $1000's\n",
      "\n",
      "    :Missing Attribute Values: None\n",
      "\n",
      "    :Creator: Harrison, D. and Rubinfeld, D.L.\n",
      "\n",
      "This is a copy of UCI ML housing dataset.\n",
      "http://archive.ics.uci.edu/ml/datasets/Housing\n",
      "\n",
      "\n",
      "This dataset was taken from the StatLib library which is maintained at Carnegie Mellon University.\n",
      "\n",
      "The Boston house-price data of Harrison, D. and Rubinfeld, D.L. 'Hedonic\n",
      "prices and the demand for clean air', J. Environ. Economics & Management,\n",
      "vol.5, 81-102, 1978.   Used in Belsley, Kuh & Welsch, 'Regression diagnostics\n",
      "...', Wiley, 1980.   N.B. Various transformations are used in the table on\n",
      "pages 244-261 of the latter.\n",
      "\n",
      "The Boston house-price data has been used in many machine learning papers that address regression\n",
      "problems.   \n",
      "     \n",
      "**References**\n",
      "\n",
      "   - Belsley, Kuh & Welsch, 'Regression diagnostics: Identifying Influential Data and Sources of Collinearity', Wiley, 1980. 244-261.\n",
      "   - Quinlan,R. (1993). Combining Instance-Based and Model-Based Learning. In Proceedings on the Tenth International Conference of Machine Learning, 236-243, University of Massachusetts, Amherst. Morgan Kaufmann.\n",
      "   - many more! (see http://archive.ics.uci.edu/ml/datasets/Housing)\n",
      "\n"
     ]
    }
   ],
   "source": [
    "#print out the description\n",
    "description = sam_adams['DESCR'].split('\\n')\n",
    "for des in description:\n",
    "    print(des)\n",
    "    "
   ]
  },
  {
   "cell_type": "markdown",
   "metadata": {},
   "source": [
    "# The Theoretical Side"
   ]
  },
  {
   "cell_type": "markdown",
   "metadata": {},
   "source": [
    "In the first week, you learned about how to use some supervised learning algorithms. In this second week, we will go slightly deeper, to appreciate why machine learning works. We still stay in the realm of supervised learning, but many of the concepts learned here are applicable to general machine learning."
   ]
  },
  {
   "cell_type": "markdown",
   "metadata": {},
   "source": [
    "# 1. Model Complexity"
   ]
  },
  {
   "cell_type": "markdown",
   "metadata": {},
   "source": [
    "We want to demonstrate the impact of implementing complicated models. <br> __Explore the dataset and choose one variable that you think can be most predictive of the target variable (price) in the Boston dataset.__ <br> (Please provide justification to the variable you chose in writing).  \n",
    "<font color='blue'>The most predictie target variable would be the variable that has the greatest correlation with the target. As such, we can plot the correlation coefficients between each variable and the target, and choose the one with the largest absolute value.</font>"
   ]
  },
  {
   "cell_type": "code",
   "execution_count": 4,
   "metadata": {},
   "outputs": [
    {
     "name": "stdout",
     "output_type": "stream",
     "text": [
      "CRIM -0.3858316898839905\n",
      "ZN 0.36044534245054327\n",
      "INDUS -0.4837251600283728\n",
      "CHAS 0.1752601771902985\n",
      "NOX -0.42732077237328275\n",
      "RM 0.6953599470715394\n",
      "AGE -0.3769545650045963\n",
      "DIS 0.24992873408590394\n",
      "RAD -0.38162623063977813\n",
      "TAX -0.468535933567767\n",
      "PTRATIO -0.5077866855375622\n",
      "B 0.3334608196570664\n",
      "LSTAT -0.737662726174015\n",
      "target 1.0\n"
     ]
    }
   ],
   "source": [
    "features = df_raw.columns\n",
    "for feature in features:\n",
    "    print(feature,np.corrcoef(df_raw[feature],df_raw['target'])[0,1])"
   ]
  },
  {
   "cell_type": "markdown",
   "metadata": {},
   "source": [
    "_(Provide your verbal answer here)_\n",
    "<font color='blue'>From the correlation coefficient plots, it appears that the feature with the strongest absolute correlation to the target is LSTAT, which is the % of lower status of the population in that house. A strong negative correlation is still a correlation!</font>"
   ]
  },
  {
   "cell_type": "markdown",
   "metadata": {},
   "source": [
    "__Create a linear regression model, and try to predict the price based on the parameter you chose:__"
   ]
  },
  {
   "cell_type": "code",
   "execution_count": 5,
   "metadata": {},
   "outputs": [],
   "source": [
    "from sklearn.linear_model import LinearRegression\n",
    "lr = LinearRegression()\n",
    "lr.fit(df_raw['LSTAT'].iloc[:int(0.8*len(df_raw))].values.reshape(-1, 1),df_raw['target'].iloc[:int(0.8*len(df_raw))])\n",
    "prediction = lr.predict(df_raw['LSTAT'].iloc[int(0.8*len(df_raw)):].values.reshape(-1,1))"
   ]
  },
  {
   "cell_type": "markdown",
   "metadata": {},
   "source": [
    "__Extract the coefficients or weights of the linear model interpret what they mean.__ <br> Make sure you visualise the linear regression line and comment on how the line fits the data."
   ]
  },
  {
   "cell_type": "code",
   "execution_count": 6,
   "metadata": {},
   "outputs": [
    {
     "name": "stdout",
     "output_type": "stream",
     "text": [
      "coefficient:-0.9617, intercept:35.0962\n",
      "Train score 0.5021017168938468\n",
      "Test score 0.1448676443361736\n"
     ]
    },
    {
     "data": {
      "image/png": "[encoded data removed]",
      "text/plain": [
       "<Figure size 432x288 with 1 Axes>"
      ]
     },
     "metadata": {
      "needs_background": "light"
     },
     "output_type": "display_data"
    }
   ],
   "source": [
    "# plt.scatter(df_raw['target'].iloc[int(0.8*len(df_raw)):],prediction)\n",
    "plt.scatter(df_raw['LSTAT'],df_raw['target'],color='r',alpha=0.5)\n",
    "plt.plot(lr.predict(np.arange(35).reshape(-1,1)),color='k')\n",
    "plt.xlabel('LSTAT value')\n",
    "plt.ylabel('Price')\n",
    "print('coefficient:{:.4f}, intercept:{:.4f}'.format(lr.coef_[0],lr.intercept_))\n",
    "print('Train score',lr.score(df_raw['LSTAT'].iloc[:int(0.8*len(df_raw))].values.reshape(-1,1),df_raw['target'].iloc[:int(0.8*len(df_raw))]))\n",
    "print('Test score',lr.score(df_raw['LSTAT'].iloc[int(0.8*len(df_raw)):].values.reshape(-1,1),df_raw['target'].iloc[int(0.8*len(df_raw)):]))"
   ]
  },
  {
   "cell_type": "markdown",
   "metadata": {},
   "source": [
    "<font color='blue'>The best-fit line fits the data reasonably well in intermediate values of LSTAT, but it is obvious that the distribution of LSTAT values in relation to prices are non-linear. There is a general linear trend between LSTAT values of 10-25, with prices rising up rapidly at LSTAT values below 10, and prices bottoming out above LSTAT values above 30.</font>"
   ]
  },
  {
   "cell_type": "markdown",
   "metadata": {},
   "source": [
    "Linear regression is considered a simple model, using a polynomial model introduces a higher complexity. <br>\n",
    "__Find and implement two more models (with medium and high complexity) to predict the target variable, using the same variable you chose for the previous part__ (Be sure to visualize your result and comment about the fit).\n",
    "\n",
    "Fit and plot your medium complexity model here:"
   ]
  },
  {
   "cell_type": "code",
   "execution_count": 7,
   "metadata": {},
   "outputs": [
    {
     "name": "stdout",
     "output_type": "stream",
     "text": [
      "coefficient,intercept [ 0.         -2.44319997  0.04767261] 43.55741498079278\n",
      "Train Score: 0.6075690225775301\n",
      "Test Score: 0.3270102092991529\n"
     ]
    },
    {
     "data": {
      "image/png": "[encoded data removed]",
      "text/plain": [
       "<Figure size 432x288 with 1 Axes>"
      ]
     },
     "metadata": {
      "needs_background": "light"
     },
     "output_type": "display_data"
    }
   ],
   "source": [
    "def medium_complexity(x_val):\n",
    "#     x_val2 = np.log(x_val)\n",
    "#     return np.array([x_val2]).T\n",
    "    return preprocessing.PolynomialFeatures(degree=2).fit_transform(x_val.reshape(-1,1))\n",
    "\n",
    "def medium_complex():\n",
    "    x_in = medium_complexity(df_raw['LSTAT'].values)\n",
    "    y_val = df_raw['target'].iloc[:int(0.8*len(df_raw))]\n",
    "    lr.fit(x_in[:int(0.8*len(df_raw))],y_val)\n",
    "    prediction = lr.predict(x_in[int(0.8*len(df_raw)):])\n",
    "    plt.scatter(df_raw['LSTAT'],df_raw['target'],color='r',alpha=0.5)\n",
    "    plt.plot(lr.predict(medium_complexity(np.arange(1,36))),color='k')\n",
    "    plt.xlabel('LSTAT value')\n",
    "    plt.ylabel('Price')\n",
    "#     print('coefficient:{:.4f}, intercept:{:.4f}'.format(lr.coef_[0],lr.intercept_))\n",
    "    print('coefficient,intercept',lr.coef_,lr.intercept_)\n",
    "    print('Train Score:',lr.score(x_in[:int(0.8*len(df_raw))],df_raw['target'].iloc[:int(0.8*len(df_raw))]))\n",
    "    print('Test Score:',lr.score(x_in[int(0.8*len(df_raw)):],df_raw['target'].iloc[int(0.8*len(df_raw)):]))\n",
    "medium_complex()"
   ]
  },
  {
   "cell_type": "markdown",
   "metadata": {},
   "source": [
    "<font color='blue'>Introducing a squared function gives the model a much better fit!</font>"
   ]
  },
  {
   "cell_type": "markdown",
   "metadata": {},
   "source": [
    "Fit and plot your high complexity model here:"
   ]
  },
  {
   "cell_type": "code",
   "execution_count": 8,
   "metadata": {},
   "outputs": [
    {
     "name": "stdout",
     "output_type": "stream",
     "text": [
      "coefficient,intercept [ 0.00000000e+00 -1.14424850e+01  1.17939901e+00 -6.13715708e-02\n",
      "  1.50820279e-03 -1.38818610e-05] 66.71217401116732\n",
      "Train score: 0.653149995105269\n",
      "Test score: 0.3796705349626388\n"
     ]
    },
    {
     "data": {
      "image/png": "[encoded data removed]",
      "text/plain": [
       "<Figure size 432x288 with 1 Axes>"
      ]
     },
     "metadata": {
      "needs_background": "light"
     },
     "output_type": "display_data"
    }
   ],
   "source": [
    "def high_complexity(x_val):\n",
    "#     x_val2 = x_val**2\n",
    "#     x_val3 = x_val**3\n",
    "#     x_vallog = np.log(x_val)\n",
    "#     return np.array([x_val,x_val2,x_val3,x_vallog]).T\n",
    "    return preprocessing.PolynomialFeatures(degree=5).fit_transform(x_val.reshape(-1,1))\n",
    "\n",
    "def high_complex():\n",
    "    x_in = high_complexity(df_raw['LSTAT'].values)\n",
    "    y_val = df_raw['target'].iloc[:int(0.8*len(df_raw))]\n",
    "    lr.fit(x_in[:int(0.8*len(df_raw))],y_val)\n",
    "    prediction = lr.predict(x_in[int(0.8*len(df_raw)):])\n",
    "    plt.scatter(df_raw['LSTAT'],df_raw['target'],color='r',alpha=0.5)\n",
    "    plt.plot(lr.predict(high_complexity(np.arange(1,36))),color='k')\n",
    "    plt.xlabel('LSTAT value')\n",
    "    plt.ylabel('Price')\n",
    "    print('coefficient,intercept',lr.coef_,lr.intercept_)\n",
    "    print('Train score:',lr.score(x_in[:int(0.8*len(df_raw))],df_raw['target'].iloc[:int(0.8*len(df_raw))]))\n",
    "    print('Test score:',lr.score(x_in[int(0.8*len(df_raw)):],df_raw['target'].iloc[int(0.8*len(df_raw)):]))\n",
    "high_complex()"
   ]
  },
  {
   "cell_type": "markdown",
   "metadata": {},
   "source": [
    "<font color='blue'>Introducing both a logarithmic function and some power functions improved the training set fit.</font>"
   ]
  },
  {
   "cell_type": "markdown",
   "metadata": {},
   "source": [
    "Use the following section to answer: which of the models has the best fit and why?"
   ]
  },
  {
   "cell_type": "markdown",
   "metadata": {},
   "source": [
    "<font color='blue'><s>It appears that the pure logarithmic model has the best fit.</s> The polynomial model with terms up to the 5th power appears to have the best fit!</font>"
   ]
  },
  {
   "cell_type": "markdown",
   "metadata": {},
   "source": [
    "__Find a quantitative way of measuring the model fit__ <br>\n",
    "Calculate it for each one of the models and compare the results to your visual inspection interpretation:"
   ]
  },
  {
   "cell_type": "markdown",
   "metadata": {},
   "source": [
    "<font color='blue'>The $r^2$ score is used for measuring the model's fit. <s> $r^2$ scores are printed above.  \n",
    "    $r^2$ goes from 0.50 to 0.63 to 0.65 with increasing model complexity.</s> The training score improves with increasing model complexity, from 0.50 to 0.61, to 0.65 as the powers increase from 1 to 2 to 5.</font>"
   ]
  },
  {
   "cell_type": "markdown",
   "metadata": {},
   "source": [
    "If you did the exercise right, you should see the visual and quantative fit increase in the same direction as the model complexity. \n",
    "\n",
    "\n",
    "##### But is fitness a good measure of a model?\n",
    "In order to put this question to the test, __perform a cross-validation test for the three models and compare between them:__"
   ]
  },
  {
   "cell_type": "code",
   "execution_count": 9,
   "metadata": {},
   "outputs": [
    {
     "name": "stdout",
     "output_type": "stream",
     "text": [
      "Poly degree 1 (0.29710984600668633, 42.618472789410596)\n",
      "Poly degree 2 (0.4337910696940484, 33.88330525749241)\n",
      "3\n",
      "Poly degree 5 (0.5011849272365574, 29.92570038634355)\n",
      "6\n"
     ]
    }
   ],
   "source": [
    "def score_model(X,y,lr,printraw=False):\n",
    "    kf = model_selection.KFold(n_splits=5)\n",
    "    validation_score=[]\n",
    "    mse=[]\n",
    "    for train_index, test_index in kf.split(X):\n",
    "        X_train, X_test = X[train_index], X[test_index]\n",
    "        y_train, y_test = y[train_index], y[test_index]\n",
    "        lr.fit(X_train,y_train)\n",
    "        validation_score.append(lr.score(X_test,y_test))\n",
    "        prediction = lr.predict(X_test)\n",
    "        mse.append(metrics.mean_squared_error(prediction,y_test))\n",
    "    if printraw:\n",
    "        print(validation_score)\n",
    "    return np.mean(validation_score),np.mean(mse)\n",
    "\n",
    "print('Poly degree 1',score_model(df_raw['LSTAT'].values.reshape(-1,1),df_raw['target'],lr))\n",
    "poly = preprocessing.PolynomialFeatures(degree=2)\n",
    "print('Poly degree 2',score_model(poly.fit_transform(df_raw['LSTAT'].values.reshape(-1,1)),df_raw['target'],lr))\n",
    "print(poly.n_output_features_)\n",
    "poly = preprocessing.PolynomialFeatures(degree=5)\n",
    "print('Poly degree 5',score_model(poly.fit_transform(df_raw['LSTAT'].values.reshape(-1,1)),df_raw['target'],lr))\n",
    "print(poly.n_output_features_)"
   ]
  },
  {
   "cell_type": "markdown",
   "metadata": {},
   "source": [
    "What measure did you use to compare between the models and why? <br>\n",
    "Which one fits the data the best? Explain that result"
   ]
  },
  {
   "cell_type": "markdown",
   "metadata": {},
   "source": [
    "<font color='blue'>The $r^2$ score is used to compare fit. In this sense, the higher the model complexity (up to 5), the better the fit. However, if the model is measured by the mean squared error, the model with a complexity of 2 is the best performer.</font>"
   ]
  },
  {
   "cell_type": "markdown",
   "metadata": {},
   "source": [
    "Let's try to extend this discussion by including all the remaining variables in the Boston dataset. <br> __Fit the three models, use _all_ the variables in the Boston dataset and compare their cross validation scores.__ <br> See if you observe the same patterns as when using one variable."
   ]
  },
  {
   "cell_type": "code",
   "execution_count": 10,
   "metadata": {
    "scrolled": true
   },
   "outputs": [
    {
     "name": "stdout",
     "output_type": "stream",
     "text": [
      "Poly degree 1 (0.3507413509325278, 37.22284363713827)\n",
      "Poly degree 2 (-7.150875122590082, 275.19381737255037)\n",
      "nfeatures  105\n",
      "Poly degree 5 (-1692552.5374785098, 45111444.94035606)\n",
      "nfeatures  8568\n"
     ]
    }
   ],
   "source": [
    "print('Poly degree 1',score_model(df_raw.drop(labels='target',axis=1).values,df_raw['target'],lr))\n",
    "poly = preprocessing.PolynomialFeatures(degree=2)\n",
    "print('Poly degree 2',score_model(poly.fit_transform(df_raw.drop(labels='target',axis=1)),df_raw['target'],lr))\n",
    "print('nfeatures ', poly.n_output_features_)\n",
    "poly = preprocessing.PolynomialFeatures(degree=5)\n",
    "print('Poly degree 5',score_model(poly.fit_transform(df_raw.drop(labels='target',axis=1)),df_raw['target'],lr))\n",
    "print('nfeatures ',poly.n_output_features_)"
   ]
  },
  {
   "cell_type": "markdown",
   "metadata": {},
   "source": [
    "- For each model, explain the differences you encountered when expanding the dataset.<br>\n",
    "- Compare the current result between models and try to explain it."
   ]
  },
  {
   "cell_type": "markdown",
   "metadata": {},
   "source": [
    "<font color='blue'>When doing a polynomial expansion, the power features increase at an exponential rate. The model features very quickly start to overwhelm the data, and at the 5th degree, there are already 8568 features.</color>"
   ]
  },
  {
   "cell_type": "markdown",
   "metadata": {},
   "source": [
    "Share your thoughts/conclusions regarding complexity in modeling:"
   ]
  },
  {
   "cell_type": "markdown",
   "metadata": {},
   "source": [
    "<font color='blue'>Model complexity in general decreases the bias at the expense of increasing the variance of the model. It can capture non-linear complexities of the underlying data, but at the same time, it is prone to overfitting, and the expansion of the number of terms lead to an excess of features.</font>"
   ]
  },
  {
   "cell_type": "markdown",
   "metadata": {},
   "source": [
    "__Expending our discussion on model complexity, comment below how one can decrease/increase complexity in the following families of algorithms:__ \n",
    "- Decision tree \n",
    "- Artificial neural network \n",
    "- Support vector machine\n",
    "- K-nearest neighbour\n",
    "- Bayesian method (optional)"
   ]
  },
  {
   "cell_type": "markdown",
   "metadata": {},
   "source": [
    "<font color='blue'>\n",
    "    \n",
    "1. Model complexity can be increased by increasing the max_depth, decreasing the minimum samples in a leaf, and increasing maximum number of leaf nodes.\n",
    "2. ANN complexity can be increased by increasing the number of neurons, and adding more hidden layers.\n",
    "3. If the SVM is using a polynomial kernel, model complexity can be increased by increasing the degree. \n",
    "4. Increasing K will increase model complexity. \n",
    "5. Bayesian method. In a gaussian process, the selection of more and higher level kernels can increase model complexity.\n",
    "</font>"
   ]
  },
  {
   "cell_type": "markdown",
   "metadata": {},
   "source": [
    "__Provide the best explanation/definition (using your own words) of over/under-fitting:__"
   ]
  },
  {
   "cell_type": "markdown",
   "metadata": {},
   "source": [
    "<font color='blue'>In an over fitted model, the model performance on the training set is much higher than its performance on the test set. It is an indication that the model is 'memorizing' the answers in the train set, and is not as generalizable to data not within the training set.  \n",
    "In an under-fitted model, the model performance on both the training and test set is low.</font>"
   ]
  },
  {
   "cell_type": "markdown",
   "metadata": {},
   "source": [
    "# 2. Bias Variance Trade-Off"
   ]
  },
  {
   "cell_type": "markdown",
   "metadata": {},
   "source": [
    "One might claim machine learning is about balancing. If that's the case, what measure can we use to find the right balance? \n",
    "\n",
    "From a more theoretical perspective, two useful measures are bias and variance.<br>\n",
    "In an intuitive sense, __bias__ is how off-the-mark our prediction/estimate tends to be with respect to the true value we are trying to predict. Usually we get bias because of inherent limitation in the model/algorithm we choose, for example linear regression is limited only to fit linear patterns, and hence \"biased\" towards linearity. <br>\n",
    "__Variance__ is how flexible the predictions made by the model can be to fit more complicated patterns in data. Highly complex models tend to have high variance. This comes as a cost; as flexibility increases, the sensitivity of the models to the training data that they try to fit increases, resulting in the predictions being more distributed away from the true values. \n",
    "\n",
    "__This is just the tip of the iceberg, we encourage you to pause your work on the notebook for now and seek more information about the relationship to get a better understanding before we dive in.__\n",
    "\n",
    "Bias and variance is a trade-off, increasing one decreases the other.<br> __Provide an explanation to why this is so:__\n"
   ]
  },
  {
   "cell_type": "markdown",
   "metadata": {},
   "source": [
    "<font color='blue'>A high bias is a result of the model not capturing the underlying features within the data. However, it can be hard for a model to tell what is a underlying feature, and what is a statistical fluke. Increasing the complexity of the model helps to reduce the model bias, but at the same time might result in the model learning features that are not generalizable outside the training dataset.  \n",
    "After completing the tests below, I have a new understanding. Given some data, and given some model to predict that data, bias will be 0 if the model prediction exactly fits the curve of the data. However, variance will be 0 if the model predicts the exact same value every time. Therefore, as the model prediction moves from predicting the same vale every single time to something more like the shape of the data, the bias will drop, but the variance will increase.</font>"
   ]
  },
  {
   "cell_type": "markdown",
   "metadata": {},
   "source": [
    "__Provide mathematical formulas for the bias, the variance and the overall prediction error of a model:__"
   ]
  },
  {
   "cell_type": "markdown",
   "metadata": {},
   "source": [
    "<font color='blue'>\n",
    "For a training set with data drawn from a function $y=f(x)+\\epsilon$, we attempt to learn the model $\\hat{f}(x)$ that best approximates the true function.  \n",
    "We can decompose the model's error on an unseen sample $x$ as \n",
    "$$E[(y-\\hat{f}(x))^2]=(Bias[\\hat{f}(x)])^2+Var[\\hat{f}(x)]+\\sigma^2 $$\n",
    "where\n",
    "$$Bias[\\hat{f}(x)]=E[\\hat{f}(x)-f(x)]$$\n",
    "and\n",
    "$$Var[\\hat{f}(x)]=E[\\hat{f}(x)^2]-(E[\\hat{f}(x)])^2$$\n",
    "</font>"
   ]
  },
  {
   "cell_type": "markdown",
   "metadata": {},
   "source": [
    "Shifting our focus to a more practical approach, we will now try and demonstrate how to find the right balance between bias variance when fitting a model. \n",
    "\n",
    "__Define a high order polynomial curve to fit:__ <br>\n",
    "(One example is: $f(x)=0.2x^{5}-3.5x^{4}+21x^{3}-53x^{2}+37x+0.6$ (you are free to define another function)"
   ]
  },
  {
   "cell_type": "code",
   "execution_count": 11,
   "metadata": {},
   "outputs": [],
   "source": [
    "def make_y(x):\n",
    "    return 0.2*x**5 - 3.5*x**4 + 21*x**3 -53*x**2 + 37*x + 0.6"
   ]
  },
  {
   "cell_type": "markdown",
   "metadata": {},
   "source": [
    "Plot the function you created:"
   ]
  },
  {
   "cell_type": "code",
   "execution_count": 12,
   "metadata": {},
   "outputs": [
    {
     "data": {
      "text/plain": [
       "[<matplotlib.lines.Line2D at 0xfa7576bc88>]"
      ]
     },
     "execution_count": 12,
     "metadata": {},
     "output_type": "execute_result"
    },
    {
     "data": {
      "image/png": "[encoded data removed]",
      "text/plain": [
       "<Figure size 432x288 with 1 Axes>"
      ]
     },
     "metadata": {
      "needs_background": "light"
     },
     "output_type": "display_data"
    }
   ],
   "source": [
    "input_x=np.arange(0,10,0.01)\n",
    "output = make_y(input_x)\n",
    "plt.plot(input_x,output)"
   ]
  },
  {
   "cell_type": "markdown",
   "metadata": {},
   "source": [
    "Our goal is to estimate this function using polynomial regression. In real-life cases, the true function is not accessible to us, only noisy estimates around it.\n",
    "\n",
    "__Now, simulate a training data by introducing random errors on the curve.__<br>The training data should look like the figure below (make sure you have at least a 1000 observations)."
   ]
  },
  {
   "cell_type": "markdown",
   "metadata": {},
   "source": [
    "<img src=\"./training_data.png\">"
   ]
  },
  {
   "cell_type": "code",
   "execution_count": 13,
   "metadata": {},
   "outputs": [
    {
     "data": {
      "text/plain": [
       "<matplotlib.collections.PathCollection at 0xfa01ae7b70>"
      ]
     },
     "execution_count": 13,
     "metadata": {},
     "output_type": "execute_result"
    },
    {
     "data": {
      "image/png": "[encoded data removed]",
      "text/plain": [
       "<Figure size 432x288 with 1 Axes>"
      ]
     },
     "metadata": {
      "needs_background": "light"
     },
     "output_type": "display_data"
    }
   ],
   "source": [
    "noise = np.random.normal(0,20,len(output))\n",
    "noisy = output+noise\n",
    "plt.scatter(input_x,noisy,alpha=0.5)"
   ]
  },
  {
   "cell_type": "markdown",
   "metadata": {},
   "source": [
    "Spare a few hundreds samples to use as the validation set (and plot it):"
   ]
  },
  {
   "cell_type": "code",
   "execution_count": 18,
   "metadata": {},
   "outputs": [
    {
     "name": "stdout",
     "output_type": "stream",
     "text": [
      "200 800\n"
     ]
    },
    {
     "data": {
      "text/plain": [
       "<matplotlib.collections.PathCollection at 0xfa01e03710>"
      ]
     },
     "execution_count": 18,
     "metadata": {},
     "output_type": "execute_result"
    },
    {
     "data": {
      "image/png": "[encoded data removed]",
      "text/plain": [
       "<Figure size 432x288 with 1 Axes>"
      ]
     },
     "metadata": {
      "needs_background": "light"
     },
     "output_type": "display_data"
    }
   ],
   "source": [
    "shuffleindex=np.arange(len(noisy))\n",
    "np.random.shuffle(shuffleindex)\n",
    "X_all = input_x[shuffleindex]\n",
    "y_all = noisy[shuffleindex]\n",
    "\n",
    "X_test = X_all[:200]\n",
    "y_test = y_all[:200]\n",
    "X_train = X_all[200:]\n",
    "y_train = y_all[200:]\n",
    "print(len(y_test),len(y_train))\n",
    "plt.scatter(X_test,y_test)"
   ]
  },
  {
   "cell_type": "markdown",
   "metadata": {},
   "source": [
    "Using the remaining data, build 500 linear regression models, each by randomly sampling 80 observations from the pool:"
   ]
  },
  {
   "cell_type": "code",
   "execution_count": 15,
   "metadata": {
    "scrolled": false
   },
   "outputs": [],
   "source": [
    "def biassq_calc(x,y):\n",
    "    return (np.mean(x-y))**2\n",
    "def var_calc(x):\n",
    "    return np.mean(x**2)-np.mean(x)**2\n",
    "\n",
    "bias=[]\n",
    "variance=[]\n",
    "for i in range(500):\n",
    "    sampleindex = np.random.choice(len(y_train),80,replace=False)\n",
    "    xx_train = X_train[sampleindex]\n",
    "    yy_train = y_train[sampleindex]\n",
    "    lm = LinearRegression()\n",
    "    lm.fit(xx_train.reshape(-1,1),yy_train)\n",
    "    prediction = lm.predict(X_test.reshape(-1,1))\n",
    "    bias.append(biassq_calc(prediction,y_test))\n",
    "    variance.append(var_calc(prediction))\n"
   ]
  },
  {
   "cell_type": "markdown",
   "metadata": {},
   "source": [
    "__Calculate the bias square and variance of linear regression by predicting (using the 500 models) the values of the validation set above, and comparing them against the true values from the polynomial curve defined earlier.__ <br> (refer to the bias variance formula to do the calculation)"
   ]
  },
  {
   "cell_type": "code",
   "execution_count": 16,
   "metadata": {},
   "outputs": [
    {
     "name": "stdout",
     "output_type": "stream",
     "text": [
      "model biassq 814.0520756931575 var 5047.933990045463\n",
      "true biassq 0.3751694379069555 var 46261.7333289376\n"
     ]
    }
   ],
   "source": [
    "print('model biassq' ,np.mean(bias), 'var',np.mean(variance))\n",
    "truebiassq = biassq_calc(noisy,output)\n",
    "truevar = var_calc(output)\n",
    "print('true biassq', truebiassq, 'var',truevar)"
   ]
  },
  {
   "cell_type": "markdown",
   "metadata": {},
   "source": [
    "Repeat the whole procedure of calculating bias variance, but this time using polynomial of degrees 2, 3, 4, ..., 15"
   ]
  },
  {
   "cell_type": "code",
   "execution_count": 46,
   "metadata": {},
   "outputs": [
    {
     "name": "stdout",
     "output_type": "stream",
     "text": [
      "degree:  2\n",
      "220.45819046139184 24803.76019194817 22236.11918723906\n",
      "degree:  3\n",
      "111.79633808556979 39405.3228199043 6222.489630044503\n",
      "degree:  4\n",
      "20.151503595134688 44941.710024410844 992.2663074720626\n",
      "degree:  5\n",
      "5.7134069411520505 45864.00418543168 451.0928589207772\n",
      "degree:  6\n",
      "6.9518839873751 45954.477213394806 468.9106108656927\n",
      "degree:  7\n",
      "6.290177560595042 46000.74171279422 470.41206348573894\n",
      "degree:  8\n",
      "5.624455331279313 46013.766851818145 477.7716667334476\n",
      "degree:  9\n",
      "8.896584582466469 46136.709455015814 539.7181467441326\n",
      "degree:  10\n",
      "10.680882178581845 46174.329959769966 600.9289570910812\n",
      "degree:  11\n",
      "10.455167872886012 46315.95082069484 592.5804558951359\n",
      "degree:  12\n",
      "39.24301368939614 46892.82093440213 1311.2983561907554\n",
      "degree:  13\n",
      "46.58918309234227 47373.41692616408 1453.6316721150567\n",
      "degree:  14\n",
      "16.37956396251223 46005.90354086841 772.9681456969017\n",
      "degree:  15\n",
      "29.850978500418634 46001.39458040777 1223.503843741504\n"
     ]
    }
   ],
   "source": [
    "bias_all=[]\n",
    "variance_all=[]\n",
    "mse_all=[]\n",
    "\n",
    "def mse_calc(y_pred,y):\n",
    "    return np.mean((y_pred-y)**2)\n",
    "\n",
    "def run_experiment(X_train,y_train,X_test,y_test):\n",
    "    bias=[]\n",
    "    variance=[]\n",
    "    mse=[]\n",
    "    for i in range(500):\n",
    "        sampleindex = np.random.choice(len(y_train),80,replace=False)\n",
    "        xx_train = X_train[sampleindex]\n",
    "        yy_train = y_train[sampleindex]\n",
    "        lm = LinearRegression()\n",
    "        lm.fit(xx_train,yy_train)\n",
    "        prediction = lm.predict(X_test)\n",
    "        bias.append(biassq_calc(prediction,y_test))\n",
    "        variance.append(var_calc(prediction))\n",
    "        mse.append(mse_calc(prediction,y_test))\n",
    "    print(np.mean(bias),np.mean(variance),np.mean(mse))    \n",
    "    return np.mean(bias),np.mean(variance),np.mean(mse)\n",
    "\n",
    "for degree in range(2,16):\n",
    "    print('degree: ',degree)\n",
    "    X_all_new = preprocessing.PolynomialFeatures(degree=degree).fit_transform(X_all.reshape(-1,1))\n",
    "    X_test = X_all_new[:200]\n",
    "    y_test = y_all[:200]\n",
    "    X_train = X_all_new[200:]\n",
    "    y_train = y_all[200:]\n",
    "#     print(np.shape(X_test),np.shape(X_train),np.shape(y_test),np.shape(y_train))\n",
    "    biass,variancee,msee = run_experiment(X_train,y_train,X_test,y_test)\n",
    "    bias_all.append(biass)\n",
    "    variance_all.append(variancee)\n",
    "    mse_all.append(msee)"
   ]
  },
  {
   "cell_type": "markdown",
   "metadata": {},
   "source": [
    "Plot the bias and variance (as y) vs. the model complexity/polynomial degree (as x)"
   ]
  },
  {
   "cell_type": "code",
   "execution_count": 47,
   "metadata": {},
   "outputs": [
    {
     "data": {
      "image/png": "[encoded data removed]",
      "text/plain": [
       "<Figure size 432x288 with 2 Axes>"
      ]
     },
     "metadata": {
      "needs_background": "light"
     },
     "output_type": "display_data"
    }
   ],
   "source": [
    "fig,ax1=plt.subplots()\n",
    "ax1.plot(np.arange(2,16),bias_all,color='blue',label='bias')\n",
    "ax1.set_ylabel('Bias')\n",
    "plt.legend(bbox_to_anchor=(0.75, 0.85), loc=2, borderaxespad=0.)\n",
    "ax2=ax1.twinx()\n",
    "ax2.plot(np.arange(2,16),variance_all,color='red',label='variance')\n",
    "ax2.set_ylabel('Variance')\n",
    "ax1.grid(which='both',axis='x')\n",
    "ax1.set_xlabel('Polynomial degree')\n",
    "plt.legend(bbox_to_anchor=(0.75, 0.75), loc=2, borderaxespad=0.)\n",
    "plt.show()"
   ]
  },
  {
   "cell_type": "markdown",
   "metadata": {},
   "source": [
    "Where is the optimal balance point? Which polynomial degree is that? <br>\n",
    "Find out more and elaborate on the meaning and importance that point of balance."
   ]
  },
  {
   "cell_type": "markdown",
   "metadata": {},
   "source": [
    "<font color='blue'>It appears that the optimal balance is at polynomial degree 5. Beyond that point, the bias does not drop further with increasing complexity. At very high values (>10), both the bias and variance actually increases.</font>"
   ]
  },
  {
   "cell_type": "markdown",
   "metadata": {},
   "source": [
    "# The Practical Side "
   ]
  },
  {
   "cell_type": "markdown",
   "metadata": {},
   "source": [
    "Bias-variance trade-off is one of the most critical components of model tuning. You will need to find the right point in terms of model complexity to derive the best results for your model.\n",
    "\n",
    "In practice, however, it is impossible to calculate bias and variance for an actual dataset. Try to explain why this is impossible below:"
   ]
  },
  {
   "cell_type": "markdown",
   "metadata": {},
   "source": [
    "<font color='blue'> You will never know what the real value of unavoidable variance. </font>"
   ]
  },
  {
   "cell_type": "markdown",
   "metadata": {},
   "source": [
    "Repeat the procedure you used to calculate bias-variance above, but this time calculate mean squared error instead. <br> Overlay the MSE on the bias variance plot earlier and comment on the observation."
   ]
  },
  {
   "cell_type": "code",
   "execution_count": 54,
   "metadata": {},
   "outputs": [
    {
     "data": {
      "image/png": "[encoded data removed]",
      "text/plain": [
       "<Figure size 432x288 with 3 Axes>"
      ]
     },
     "metadata": {
      "needs_background": "light"
     },
     "output_type": "display_data"
    }
   ],
   "source": [
    "fig,ax1=plt.subplots()\n",
    "ax1.plot(np.arange(2,16),bias_all,color='blue',label='bias')\n",
    "ax1.set_ylabel('Bias')\n",
    "plt.legend(bbox_to_anchor=(0.75, 0.85), loc=2, borderaxespad=0.)\n",
    "ax2=ax1.twinx()\n",
    "ax2.plot(np.arange(2,16),variance_all,color='red',label='variance')\n",
    "ax2.set_ylabel('Variance')\n",
    "plt.legend(bbox_to_anchor=(0.75, 0.75), loc=2, borderaxespad=0.)\n",
    "ax3=ax1.twinx()\n",
    "ax3.plot(np.arange(2,16),mse_all,color='green',label='mse')\n",
    "ax3.spines[\"right\"].set_position((\"axes\", 1.2))\n",
    "ax3.set_ylabel('mse')\n",
    "ax1.grid(which='both',axis='x')\n",
    "ax1.set_xlabel('Polynomial degree')\n",
    "plt.legend(bbox_to_anchor=(0.75, 0.65), loc=2, borderaxespad=0.)\n",
    "plt.show()"
   ]
  },
  {
   "cell_type": "markdown",
   "metadata": {},
   "source": [
    "<font color='blue'>The mse follows the bias, since bias is simply the non-squared mean error.</font>"
   ]
  },
  {
   "cell_type": "markdown",
   "metadata": {},
   "source": [
    "# 3. Out-of-sample Validation"
   ]
  },
  {
   "cell_type": "markdown",
   "metadata": {},
   "source": [
    "Hence, we will go back to using mean squared errors (MSE) to tune our models. In reality, validation error is the most reliable source of information you can get, provided you do validation properly. You might have realised that MSE scores are negative when you put them through the `cross_val_score` method - do think about why this is so as well.\n",
    "\n",
    "If you would like to do any data exploration, you can do them here."
   ]
  },
  {
   "cell_type": "code",
   "execution_count": null,
   "metadata": {},
   "outputs": [],
   "source": []
  },
  {
   "cell_type": "markdown",
   "metadata": {},
   "source": [
    "We will begin by building simple baseline models for our dataset. We will start with 3 baseline models: linear regression, k-nearest neighbours and decision trees. Build a simple regression model for each of them. Evaluate and report their performance, and identify the best model by preliminary performance."
   ]
  },
  {
   "cell_type": "markdown",
   "metadata": {},
   "source": [
    "## 3.1 Linear Regression"
   ]
  },
  {
   "cell_type": "code",
   "execution_count": 72,
   "metadata": {},
   "outputs": [
    {
     "name": "stdout",
     "output_type": "stream",
     "text": [
      "[-12.48065021 -26.09620267 -33.11995587 -80.83305378 -33.58435565]\n"
     ]
    },
    {
     "data": {
      "text/plain": [
       "-37.222843637138396"
      ]
     },
     "execution_count": 72,
     "metadata": {},
     "output_type": "execute_result"
    }
   ],
   "source": [
    "def linear_regression_test():\n",
    "    lr = LinearRegression()\n",
    "    X=df_raw.drop('target',axis=1)\n",
    "    y=df_raw['target']\n",
    "    results = model_selection.cross_val_score(lr,X,y,cv=5,scoring='neg_mean_squared_error')\n",
    "    print(results)\n",
    "    return(results)\n",
    "np.mean(linear_regression_test())"
   ]
  },
  {
   "cell_type": "markdown",
   "metadata": {},
   "source": [
    "## 3.2 K-Nearest Neighbours"
   ]
  },
  {
   "cell_type": "code",
   "execution_count": 71,
   "metadata": {},
   "outputs": [
    {
     "name": "stdout",
     "output_type": "stream",
     "text": [
      "[ -72.84204314  -77.44044752 -114.19790495  -89.00506931  -31.22948515]\n"
     ]
    },
    {
     "data": {
      "text/plain": [
       "-76.9429900135896"
      ]
     },
     "execution_count": 71,
     "metadata": {},
     "output_type": "execute_result"
    }
   ],
   "source": [
    "def knn_regression_test():\n",
    "    knn = neighbors.KNeighborsRegressor()\n",
    "    X=df_raw.drop('target',axis=1)\n",
    "    y=df_raw['target']\n",
    "    results = model_selection.cross_val_score(knn,X,y,cv=5,scoring='neg_mean_squared_error')\n",
    "    print(results)\n",
    "    return results\n",
    "np.mean(knn_regression_test())\n"
   ]
  },
  {
   "cell_type": "markdown",
   "metadata": {},
   "source": [
    "## 3.3 Decision Tree"
   ]
  },
  {
   "cell_type": "code",
   "execution_count": 75,
   "metadata": {},
   "outputs": [
    {
     "name": "stdout",
     "output_type": "stream",
     "text": [
      "[-12.2095098  -51.84683168 -28.97920792 -55.12841584 -65.68683168]\n"
     ]
    },
    {
     "data": {
      "text/plain": [
       "-42.770159386526885"
      ]
     },
     "execution_count": 75,
     "metadata": {},
     "output_type": "execute_result"
    }
   ],
   "source": [
    "def tree_regression_test():\n",
    "    dt = tree.DecisionTreeRegressor()\n",
    "    X=df_raw.drop('target',axis=1)\n",
    "    y=df_raw['target']\n",
    "    results = model_selection.cross_val_score(dt,X,y,cv=5,scoring='neg_mean_squared_error')\n",
    "    print(results)\n",
    "    return results\n",
    "np.mean(tree_regression_test())"
   ]
  },
  {
   "cell_type": "markdown",
   "metadata": {},
   "source": [
    "## Theoretical Considerations"
   ]
  },
  {
   "cell_type": "markdown",
   "metadata": {},
   "source": [
    "How do we ensure that our models are reliably evaluated? Specifically, in the area of out-of-sample validation, how do we decide to use `train_test_split` vs `cross_val_score`?"
   ]
  },
  {
   "cell_type": "code",
   "execution_count": null,
   "metadata": {},
   "outputs": [],
   "source": []
  },
  {
   "cell_type": "markdown",
   "metadata": {},
   "source": [
    "Given that the dataset has only ~500 rows of data, what are the challenges we face, and how can we best mitigate these issues?"
   ]
  },
  {
   "cell_type": "code",
   "execution_count": null,
   "metadata": {},
   "outputs": [],
   "source": []
  },
  {
   "cell_type": "markdown",
   "metadata": {},
   "source": [
    "# 4. Hyperparameter exploration"
   ]
  },
  {
   "cell_type": "markdown",
   "metadata": {},
   "source": [
    "We will now start to look at hyperparameters for these models. Considering between the 3 models, k-nearest neighbours probably has the least hyperparameters to tune, and is also the simplest computationally. Hence, let's start with k-nearest neighbours. You might not want to try all of these parameters, considering limited time. This is a good time to do some research with respect to what parameters to optimise.\n",
    "\n",
    "When conducting a parameter search, the idea of grid search immediately comes to mind. Why do we usually use grid search, and in what situations should we use other search options?"
   ]
  },
  {
   "cell_type": "code",
   "execution_count": null,
   "metadata": {},
   "outputs": [],
   "source": []
  },
  {
   "cell_type": "markdown",
   "metadata": {},
   "source": [
    "Why do we not use gradient descent to identify the right parameters?"
   ]
  },
  {
   "cell_type": "code",
   "execution_count": null,
   "metadata": {},
   "outputs": [],
   "source": []
  },
  {
   "cell_type": "markdown",
   "metadata": {},
   "source": [
    "## 4.1 KNN"
   ]
  },
  {
   "cell_type": "code",
   "execution_count": 162,
   "metadata": {
    "scrolled": true
   },
   "outputs": [
    {
     "data": {
      "text/plain": [
       "{'algorithm': 'auto',\n",
       " 'leaf_size': 30,\n",
       " 'metric': 'minkowski',\n",
       " 'metric_params': None,\n",
       " 'n_jobs': 1,\n",
       " 'n_neighbors': 5,\n",
       " 'p': 2,\n",
       " 'weights': 'uniform'}"
      ]
     },
     "execution_count": 162,
     "metadata": {},
     "output_type": "execute_result"
    }
   ],
   "source": [
    "neighbors.KNeighborsRegressor().get_params()"
   ]
  },
  {
   "cell_type": "code",
   "execution_count": null,
   "metadata": {},
   "outputs": [],
   "source": []
  },
  {
   "cell_type": "markdown",
   "metadata": {},
   "source": [
    "Apart from the `n_neighbors` and `n_jobs` parameters, pick out 1-2 more which you are unfamiliar with and do some research. Explain what they do with language intended for a lay person. You may also wish to spend some time thinking about how you might want to implement such a model algorithmically."
   ]
  },
  {
   "cell_type": "code",
   "execution_count": null,
   "metadata": {},
   "outputs": [],
   "source": []
  },
  {
   "cell_type": "markdown",
   "metadata": {},
   "source": [
    "## 4.2 Decision Trees"
   ]
  },
  {
   "cell_type": "markdown",
   "metadata": {},
   "source": [
    "Now we can proceed to a more complicated model, try to tune the hyperparameter of a decision tree regressor."
   ]
  },
  {
   "cell_type": "code",
   "execution_count": 163,
   "metadata": {},
   "outputs": [
    {
     "data": {
      "text/plain": [
       "{'criterion': 'mse',\n",
       " 'max_depth': None,\n",
       " 'max_features': None,\n",
       " 'max_leaf_nodes': None,\n",
       " 'min_impurity_decrease': 0.0,\n",
       " 'min_impurity_split': None,\n",
       " 'min_samples_leaf': 1,\n",
       " 'min_samples_split': 2,\n",
       " 'min_weight_fraction_leaf': 0.0,\n",
       " 'presort': False,\n",
       " 'random_state': None,\n",
       " 'splitter': 'best'}"
      ]
     },
     "execution_count": 163,
     "metadata": {},
     "output_type": "execute_result"
    }
   ],
   "source": [
    "tree.DecisionTreeRegressor().get_params()"
   ]
  },
  {
   "cell_type": "code",
   "execution_count": null,
   "metadata": {},
   "outputs": [],
   "source": []
  },
  {
   "cell_type": "markdown",
   "metadata": {},
   "source": [
    "The linear model also requires tuning, but the current API we are using (linear_model.LinearRegression) is relatively weak and lacks the parameters we are looking for. Instead, we will work with elastic nets, and go beyond linear model complexity to build a better linear regression model. We will look at this in detail in the next session."
   ]
  },
  {
   "cell_type": "markdown",
   "metadata": {},
   "source": [
    "# 5. Feature Selection"
   ]
  },
  {
   "cell_type": "markdown",
   "metadata": {},
   "source": [
    "We will begin by taking the model beyond linearity. In statistical languages more tuned towards modelling like R, we introduce polynomial features/covariates through a parameter within the model, as such:  \n",
    "\n",
    "`lr = lm(y ~ poly(X, 3))`  \n",
    "\n",
    "However, in the context of sklearn, the `LinearRegression` class solely focuses on optimising a set of regression coefficients for you, and does not look at coefficients. We will need to use modules from `sklearn.preprocessing` to help us develop polynomial features.\n",
    "\n",
    "To start off, develop sets of polynomials features to different degrees. It is up to you to decide what power to raise for the features, but keep it mind that high numbers put additional strain on your machine at an exponential rate, so be mindful of what your machine is capable of."
   ]
  },
  {
   "cell_type": "code",
   "execution_count": null,
   "metadata": {},
   "outputs": [],
   "source": []
  },
  {
   "cell_type": "markdown",
   "metadata": {},
   "source": [
    "## 5.1 RFE Feature Selection"
   ]
  },
  {
   "cell_type": "markdown",
   "metadata": {},
   "source": [
    "One way of working with a large quantity of features is by using the Recursive Feature Elimination (RFE) algorithm. The name may provide us with a hint of what it does, but do explain ,with the language for a layperson, what RFE is doing and how it is executed algorithmically. Then, run the code to execute the model."
   ]
  },
  {
   "cell_type": "code",
   "execution_count": null,
   "metadata": {},
   "outputs": [],
   "source": []
  },
  {
   "cell_type": "markdown",
   "metadata": {},
   "source": [
    "Fit a linear regression on the model. How can we go beyond the final variables remaining in RFE to further improve the performance of the model?"
   ]
  },
  {
   "cell_type": "code",
   "execution_count": null,
   "metadata": {},
   "outputs": [],
   "source": []
  },
  {
   "cell_type": "markdown",
   "metadata": {},
   "source": [
    "Consider the drawbacks of RFE, and explain them below:"
   ]
  },
  {
   "cell_type": "code",
   "execution_count": null,
   "metadata": {},
   "outputs": [],
   "source": []
  },
  {
   "cell_type": "markdown",
   "metadata": {},
   "source": [
    "## 5.2 Regularisation"
   ]
  },
  {
   "cell_type": "markdown",
   "metadata": {},
   "source": [
    "Another method to reduce model complexity is through regularisation. Regularisation is the idea of penalising large weights as part of the model fitting process, and forcing the model to trade-off between large weights and model accuracy.\n",
    "\n",
    "In your own words, explain why forcing the model to not adapt large weights can somehow help with feature selection and model fitting in general. How does the algorithm help the model to learn to recognise the best set of weights with a regularisation term?"
   ]
  },
  {
   "cell_type": "code",
   "execution_count": null,
   "metadata": {},
   "outputs": [],
   "source": []
  },
  {
   "cell_type": "markdown",
   "metadata": {},
   "source": [
    "Build a L1 regression model through feature selection by regularisation. Tune your model to achieve optimal results."
   ]
  },
  {
   "cell_type": "code",
   "execution_count": null,
   "metadata": {},
   "outputs": [],
   "source": []
  },
  {
   "cell_type": "markdown",
   "metadata": {},
   "source": [
    "Repeat this process for a elastic net model."
   ]
  },
  {
   "cell_type": "code",
   "execution_count": null,
   "metadata": {},
   "outputs": [],
   "source": []
  },
  {
   "cell_type": "markdown",
   "metadata": {},
   "source": [
    "Consider the differences between each type of regression - in this case, which is a superior model to use?"
   ]
  },
  {
   "cell_type": "code",
   "execution_count": null,
   "metadata": {},
   "outputs": [],
   "source": []
  },
  {
   "cell_type": "markdown",
   "metadata": {},
   "source": [
    "For ease of use, build pipelines using `sklearn.pipeline` so that these models can be better consumed later for meta-model ensembling."
   ]
  },
  {
   "cell_type": "code",
   "execution_count": null,
   "metadata": {},
   "outputs": [],
   "source": []
  },
  {
   "cell_type": "markdown",
   "metadata": {},
   "source": [
    "How do RFE and regularisation-based models compare? Think about the strengths and weaknesses of regularisation, as compared to RFE."
   ]
  },
  {
   "cell_type": "code",
   "execution_count": null,
   "metadata": {},
   "outputs": [],
   "source": []
  },
  {
   "cell_type": "markdown",
   "metadata": {},
   "source": [
    "# 6. Ensemble methods"
   ]
  },
  {
   "cell_type": "markdown",
   "metadata": {},
   "source": [
    "Ensembling is the process of combining prediction models to improve overall performence. In this section, we'll look at various ways this can be done to achieve better resultings."
   ]
  },
  {
   "cell_type": "markdown",
   "metadata": {},
   "source": [
    "## 6.1 Bagging"
   ]
  },
  {
   "cell_type": "markdown",
   "metadata": {},
   "source": [
    "The term \"bag\" is the abbreviation for \"bootstrap aggregation\", in which we build a boostrap for a dataset, then train a model for each dataset we produce, after which we aggregate the score. If you are not yet familiar with any of these concepts, do some research and appreciate the process. We will not go into detail here as we already have done that last week."
   ]
  },
  {
   "cell_type": "markdown",
   "metadata": {},
   "source": [
    "Using your tuned Decision Tree model from a previous section as the base model, implement and tune a model with bagging technique. Compare this result with a random forest model built from scratch."
   ]
  },
  {
   "cell_type": "code",
   "execution_count": null,
   "metadata": {},
   "outputs": [],
   "source": []
  },
  {
   "cell_type": "markdown",
   "metadata": {},
   "source": [
    "## 6.2 Boosting"
   ]
  },
  {
   "cell_type": "markdown",
   "metadata": {},
   "source": [
    "Boosting, as explained earlier this week, uses an aggregation of weak learners to reduce the total variance. It operates on a single model sequentially. At each iteration, it tries to rectify the errors made in the previous iteration.\n",
    "\n",
    "a) Explain the term \"weak learner\".  \n",
    "b) Explain how adaptive boosting (AdaBoost) and gradient boosting (GBM) work and highlight their differences."
   ]
  },
  {
   "cell_type": "code",
   "execution_count": null,
   "metadata": {},
   "outputs": [],
   "source": []
  },
  {
   "cell_type": "markdown",
   "metadata": {},
   "source": [
    "Perform AdaBoost and Gradient Boosting on Boston, and compare the accuracies. Comment on the performances as well."
   ]
  },
  {
   "cell_type": "code",
   "execution_count": null,
   "metadata": {},
   "outputs": [],
   "source": []
  },
  {
   "cell_type": "markdown",
   "metadata": {},
   "source": [
    "In practice, we use an XGBoost (eXtreme Gradient Boosting) model, which outperforms typical boosting models due to its ability to be parallelized AND having the appropriate tunable regularisation and tree parameters. Try reading up the documentation on `xgboost` and tune an `xgboost model`."
   ]
  },
  {
   "cell_type": "code",
   "execution_count": null,
   "metadata": {},
   "outputs": [],
   "source": []
  },
  {
   "cell_type": "markdown",
   "metadata": {},
   "source": [
    "## 6.3 Stacking"
   ]
  },
  {
   "cell_type": "markdown",
   "metadata": {},
   "source": [
    "Finally, stacking helps us bring all the models we have done from all the past attempts into one big model. Before this, we have been evaluating models at an individual level. How can we best bring the performance of all these models together, into one even stronger model?\n",
    "\n",
    "One such approach is stacking. Stacking is building a meta-level model that can take the results of each model, and combine them in an appropriate manner to create a even stronger model. Stacking-based meta-models have seen [success on modelling competitions](https://blogs.sas.com/content/subconsciousmusings/2017/05/18/stacked-ensemble-models-win-data-science-competitions/) in recent years, due to availability of compute power to data scientists.\n",
    "\n",
    "Build a linear regression meta model stacking on top of all the models you've built so far. Report on your accuracy - this is the final accuracy we are looking at."
   ]
  },
  {
   "cell_type": "code",
   "execution_count": null,
   "metadata": {},
   "outputs": [],
   "source": []
  },
  {
   "cell_type": "markdown",
   "metadata": {},
   "source": [
    "We can observe that the minimum MSE corresponds to the point where the balance between bias and variance is met. MSE is accessible by us. This is the reason why cross-validation and outsample test methods used in Week 1 can be used not only for validation, but also for us to tune our model complexity. In the following sections, we will explore how we use them to guide model selection, hyperparameter tuning, regularisation and ensemble methods; all to get the best generalisation capability possible (i.e. the balancing act)."
   ]
  },
  {
   "cell_type": "markdown",
   "metadata": {},
   "source": [
    "# Congratulations! \n",
    "### You have reached the end of our notebook :)\n",
    "#### Now what?\n",
    "If you still have time and you're considering what would be the best use of it, <br>\n",
    "please continue and try your luck with the next (and optional) section of the notebook.<br>\n",
    "Alternatively, if you have yet to completed the previous notebook, or if there are parts you wish to go back to and revisit/revise/tune or read up more about, feel free to do so..."
   ]
  },
  {
   "cell_type": "markdown",
   "metadata": {},
   "source": [
    "<img src=\"./Fireworks.jpg\">"
   ]
  },
  {
   "cell_type": "markdown",
   "metadata": {},
   "source": [
    "# 7. Other directions (Optional)"
   ]
  },
  {
   "cell_type": "markdown",
   "metadata": {},
   "source": [
    "1. Try and repeat the notebook's process, only this time use classification models/problem instead of regression.\n",
    "2. Bias-variance is only one means of model profiling we looked into in this notebookt. Try to research and look into  other measures of model profiling, i.e. by vc dimension, induction bias, empirical risk minimisation.\n"
   ]
  }
 ],
 "metadata": {
  "kernelspec": {
   "display_name": "Python 3",
   "language": "python",
   "name": "python3"
  },
  "language_info": {
   "codemirror_mode": {
    "name": "ipython",
    "version": 3
   },
   "file_extension": ".py",
   "mimetype": "text/x-python",
   "name": "python",
   "nbconvert_exporter": "python",
   "pygments_lexer": "ipython3",
   "version": "3.7.0"
  }
 },
 "nbformat": 4,
 "nbformat_minor": 2
}
