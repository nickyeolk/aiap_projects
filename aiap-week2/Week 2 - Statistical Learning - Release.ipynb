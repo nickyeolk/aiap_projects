{
 "cells": [
  {
   "cell_type": "markdown",
   "metadata": {},
   "source": [
    "# Welcome to Week 2\n",
    "Last week you played with data and built models in a very practical way. This week, you will go deeper into theory and spend time on some foundational concepts.  This notebook is divided into two sections:\n",
    "\n",
    "1. The Theory: an introduction to bias and variance - two key concepts in machine learning - and how they affect model performance\n",
    "2. The Practice: a chance for you to experiment with how we deal with these concepts in practice\n",
    "\n",
    "**You may finish the coding questions fairly quickly, but we expect you to spend most of your time teaching yourself the theoretical concepts** that come up in this notebook. We will use the 2-on-1 review session to test you on these concepts. Consequently, you should spend your time going through the below **resources** and playing with these concepts beyond this notebook.\n",
    "### Resources (spend your time here!)\n",
    "- [Caltech Learn from data](http://work.caltech.edu/telecourse.html \"\"): Seminal online course that introduces the theory of machine learning\n",
    "- [Introduction to Statistical Learning](https://www-bcf.usc.edu/~gareth/ISL/ \"\"): Landmark textbook (and videos) on machine learning theory\n",
    "- *Machine Learning* by Tom M. Mitchell: See chapters 5.2 & 5.3 (textbook available on our bookshelf)\n",
    "- [Datacamp Supervised learning with scikit-learn](https://www.datacamp.com/courses/supervised-learning-with-scikit-learn \"\"): Practical walkthrough of some key concepts and their application\n",
    "- [Understanding the Bias Variance Tradeoff](http://scott.fortmann-roe.com/docs/BiasVariance.html \"\"): Blog post on the topic of bias and variance\n",
    "- [Kaggle Ensembling Guide](https://mlwave.com/kaggle-ensembling-guide/ \"\"): Ensembling guide\n",
    "- [XGBoost tutorials](https://xgboost.readthedocs.io/en/latest/tutorials/model.html \"\"): XGBoost guide\n",
    "\n",
    "### Collaboration Policy\n",
    "\n",
    "Collaboration is the best way to learn. Try everything yourself first, then discuss your method with your teammates. Do not directly copy their code, unless you are trying to learn a programming technique. Do your own thinking and write your own code.\n",
    "\n",
    "If you believe referring to someone's answer is the best way to learn, we recommend looking at the code, then walking away for a few minutes, and come back to write your own version of the code. There will be minimum policing, but we will check for direct copying of code.\n",
    "\n",
    "Please list your collaborators:"
   ]
  },
  {
   "cell_type": "markdown",
   "metadata": {},
   "source": [
    "1. Tupac Shakur\n",
    "2. DQ"
   ]
  },
  {
   "cell_type": "markdown",
   "metadata": {},
   "source": [
    "### Imports\n",
    "This section should be reserved for packages/libraries you that you would normally use (you can add models/functions/libraries as you go along)"
   ]
  },
  {
   "cell_type": "code",
   "execution_count": 530,
   "metadata": {},
   "outputs": [],
   "source": [
    "from sklearn.datasets import load_boston\n",
    "from sklearn import model_selection\n",
    "from sklearn import preprocessing\n",
    "from sklearn import metrics\n",
    "from sklearn import neighbors\n",
    "from sklearn import tree\n",
    "from sklearn import utils\n",
    "from sklearn import feature_selection\n",
    "import numpy as np\n",
    "import matplotlib.pyplot as plt\n",
    "import pandas as pd\n",
    "import seaborn as sns"
   ]
  },
  {
   "cell_type": "markdown",
   "metadata": {},
   "source": [
    "### Dataset\n",
    "Begin by loading the Boston House Prices dataset, or simply the Boston dataset, for our exploration. <br>\n",
    "You can find it on Kaggle, or simply import it from the scikit-learn build-in datasets."
   ]
  },
  {
   "cell_type": "code",
   "execution_count": 55,
   "metadata": {},
   "outputs": [
    {
     "data": {
      "text/html": [
       "<div>\n",
       "<style scoped>\n",
       "    .dataframe tbody tr th:only-of-type {\n",
       "        vertical-align: middle;\n",
       "    }\n",
       "\n",
       "    .dataframe tbody tr th {\n",
       "        vertical-align: top;\n",
       "    }\n",
       "\n",
       "    .dataframe thead th {\n",
       "        text-align: right;\n",
       "    }\n",
       "</style>\n",
       "<table border=\"1\" class=\"dataframe\">\n",
       "  <thead>\n",
       "    <tr style=\"text-align: right;\">\n",
       "      <th></th>\n",
       "      <th>CRIM</th>\n",
       "      <th>ZN</th>\n",
       "      <th>INDUS</th>\n",
       "      <th>CHAS</th>\n",
       "      <th>NOX</th>\n",
       "      <th>RM</th>\n",
       "      <th>AGE</th>\n",
       "      <th>DIS</th>\n",
       "      <th>RAD</th>\n",
       "      <th>TAX</th>\n",
       "      <th>PTRATIO</th>\n",
       "      <th>B</th>\n",
       "      <th>LSTAT</th>\n",
       "      <th>target</th>\n",
       "    </tr>\n",
       "  </thead>\n",
       "  <tbody>\n",
       "    <tr>\n",
       "      <th>0</th>\n",
       "      <td>0.00632</td>\n",
       "      <td>18.0</td>\n",
       "      <td>2.31</td>\n",
       "      <td>0.0</td>\n",
       "      <td>0.538</td>\n",
       "      <td>6.575</td>\n",
       "      <td>65.2</td>\n",
       "      <td>4.0900</td>\n",
       "      <td>1.0</td>\n",
       "      <td>296.0</td>\n",
       "      <td>15.3</td>\n",
       "      <td>396.90</td>\n",
       "      <td>4.98</td>\n",
       "      <td>24.0</td>\n",
       "    </tr>\n",
       "    <tr>\n",
       "      <th>1</th>\n",
       "      <td>0.02731</td>\n",
       "      <td>0.0</td>\n",
       "      <td>7.07</td>\n",
       "      <td>0.0</td>\n",
       "      <td>0.469</td>\n",
       "      <td>6.421</td>\n",
       "      <td>78.9</td>\n",
       "      <td>4.9671</td>\n",
       "      <td>2.0</td>\n",
       "      <td>242.0</td>\n",
       "      <td>17.8</td>\n",
       "      <td>396.90</td>\n",
       "      <td>9.14</td>\n",
       "      <td>21.6</td>\n",
       "    </tr>\n",
       "    <tr>\n",
       "      <th>2</th>\n",
       "      <td>0.02729</td>\n",
       "      <td>0.0</td>\n",
       "      <td>7.07</td>\n",
       "      <td>0.0</td>\n",
       "      <td>0.469</td>\n",
       "      <td>7.185</td>\n",
       "      <td>61.1</td>\n",
       "      <td>4.9671</td>\n",
       "      <td>2.0</td>\n",
       "      <td>242.0</td>\n",
       "      <td>17.8</td>\n",
       "      <td>392.83</td>\n",
       "      <td>4.03</td>\n",
       "      <td>34.7</td>\n",
       "    </tr>\n",
       "    <tr>\n",
       "      <th>3</th>\n",
       "      <td>0.03237</td>\n",
       "      <td>0.0</td>\n",
       "      <td>2.18</td>\n",
       "      <td>0.0</td>\n",
       "      <td>0.458</td>\n",
       "      <td>6.998</td>\n",
       "      <td>45.8</td>\n",
       "      <td>6.0622</td>\n",
       "      <td>3.0</td>\n",
       "      <td>222.0</td>\n",
       "      <td>18.7</td>\n",
       "      <td>394.63</td>\n",
       "      <td>2.94</td>\n",
       "      <td>33.4</td>\n",
       "    </tr>\n",
       "    <tr>\n",
       "      <th>4</th>\n",
       "      <td>0.06905</td>\n",
       "      <td>0.0</td>\n",
       "      <td>2.18</td>\n",
       "      <td>0.0</td>\n",
       "      <td>0.458</td>\n",
       "      <td>7.147</td>\n",
       "      <td>54.2</td>\n",
       "      <td>6.0622</td>\n",
       "      <td>3.0</td>\n",
       "      <td>222.0</td>\n",
       "      <td>18.7</td>\n",
       "      <td>396.90</td>\n",
       "      <td>5.33</td>\n",
       "      <td>36.2</td>\n",
       "    </tr>\n",
       "  </tbody>\n",
       "</table>\n",
       "</div>"
      ],
      "text/plain": [
       "      CRIM    ZN  INDUS  CHAS    NOX     RM   AGE     DIS  RAD    TAX  \\\n",
       "0  0.00632  18.0   2.31   0.0  0.538  6.575  65.2  4.0900  1.0  296.0   \n",
       "1  0.02731   0.0   7.07   0.0  0.469  6.421  78.9  4.9671  2.0  242.0   \n",
       "2  0.02729   0.0   7.07   0.0  0.469  7.185  61.1  4.9671  2.0  242.0   \n",
       "3  0.03237   0.0   2.18   0.0  0.458  6.998  45.8  6.0622  3.0  222.0   \n",
       "4  0.06905   0.0   2.18   0.0  0.458  7.147  54.2  6.0622  3.0  222.0   \n",
       "\n",
       "   PTRATIO       B  LSTAT  target  \n",
       "0     15.3  396.90   4.98    24.0  \n",
       "1     17.8  396.90   9.14    21.6  \n",
       "2     17.8  392.83   4.03    34.7  \n",
       "3     18.7  394.63   2.94    33.4  \n",
       "4     18.7  396.90   5.33    36.2  "
      ]
     },
     "execution_count": 55,
     "metadata": {},
     "output_type": "execute_result"
    }
   ],
   "source": [
    "sam_adams = load_boston()\n",
    "df_raw = pd.DataFrame(sam_adams['data'],columns = sam_adams['feature_names'])\n",
    "df_raw['target'] = sam_adams['target']\n",
    "df_raw.head()"
   ]
  },
  {
   "cell_type": "code",
   "execution_count": 3,
   "metadata": {
    "scrolled": true
   },
   "outputs": [
    {
     "name": "stdout",
     "output_type": "stream",
     "text": [
      "Boston House Prices dataset\n",
      "===========================\n",
      "\n",
      "Notes\n",
      "------\n",
      "Data Set Characteristics:  \n",
      "\n",
      "    :Number of Instances: 506 \n",
      "\n",
      "    :Number of Attributes: 13 numeric/categorical predictive\n",
      "    \n",
      "    :Median Value (attribute 14) is usually the target\n",
      "\n",
      "    :Attribute Information (in order):\n",
      "        - CRIM     per capita crime rate by town\n",
      "        - ZN       proportion of residential land zoned for lots over 25,000 sq.ft.\n",
      "        - INDUS    proportion of non-retail business acres per town\n",
      "        - CHAS     Charles River dummy variable (= 1 if tract bounds river; 0 otherwise)\n",
      "        - NOX      nitric oxides concentration (parts per 10 million)\n",
      "        - RM       average number of rooms per dwelling\n",
      "        - AGE      proportion of owner-occupied units built prior to 1940\n",
      "        - DIS      weighted distances to five Boston employment centres\n",
      "        - RAD      index of accessibility to radial highways\n",
      "        - TAX      full-value property-tax rate per $10,000\n",
      "        - PTRATIO  pupil-teacher ratio by town\n",
      "        - B        1000(Bk - 0.63)^2 where Bk is the proportion of blacks by town\n",
      "        - LSTAT    % lower status of the population\n",
      "        - MEDV     Median value of owner-occupied homes in $1000's\n",
      "\n",
      "    :Missing Attribute Values: None\n",
      "\n",
      "    :Creator: Harrison, D. and Rubinfeld, D.L.\n",
      "\n",
      "This is a copy of UCI ML housing dataset.\n",
      "http://archive.ics.uci.edu/ml/datasets/Housing\n",
      "\n",
      "\n",
      "This dataset was taken from the StatLib library which is maintained at Carnegie Mellon University.\n",
      "\n",
      "The Boston house-price data of Harrison, D. and Rubinfeld, D.L. 'Hedonic\n",
      "prices and the demand for clean air', J. Environ. Economics & Management,\n",
      "vol.5, 81-102, 1978.   Used in Belsley, Kuh & Welsch, 'Regression diagnostics\n",
      "...', Wiley, 1980.   N.B. Various transformations are used in the table on\n",
      "pages 244-261 of the latter.\n",
      "\n",
      "The Boston house-price data has been used in many machine learning papers that address regression\n",
      "problems.   \n",
      "     \n",
      "**References**\n",
      "\n",
      "   - Belsley, Kuh & Welsch, 'Regression diagnostics: Identifying Influential Data and Sources of Collinearity', Wiley, 1980. 244-261.\n",
      "   - Quinlan,R. (1993). Combining Instance-Based and Model-Based Learning. In Proceedings on the Tenth International Conference of Machine Learning, 236-243, University of Massachusetts, Amherst. Morgan Kaufmann.\n",
      "   - many more! (see http://archive.ics.uci.edu/ml/datasets/Housing)\n",
      "\n"
     ]
    }
   ],
   "source": [
    "#print out the description\n",
    "description = sam_adams['DESCR'].split('\\n')\n",
    "for des in description:\n",
    "    print(des)\n",
    "    "
   ]
  },
  {
   "cell_type": "code",
   "execution_count": 83,
   "metadata": {},
   "outputs": [
    {
     "data": {
      "text/plain": [
       "<seaborn.axisgrid.PairGrid at 0xfa1b940e10>"
      ]
     },
     "execution_count": 83,
     "metadata": {},
     "output_type": "execute_result"
    },
    {
     "data": {
      "image/png": "[encoded data removed]",
      "text/plain": [
       "<Figure size 900x900 with 30 Axes>"
      ]
     },
     "metadata": {
      "needs_background": "light"
     },
     "output_type": "display_data"
    }
   ],
   "source": [
    "sns.pairplot(df_raw.iloc[:,:5])\n",
    "# df_raw"
   ]
  },
  {
   "cell_type": "markdown",
   "metadata": {},
   "source": [
    "# The Theoretical Side"
   ]
  },
  {
   "cell_type": "markdown",
   "metadata": {},
   "source": [
    "In the first week, you learned about how to use some supervised learning algorithms. In this second week, we will go slightly deeper, to appreciate why machine learning works. We still stay in the realm of supervised learning, but many of the concepts learned here are applicable to general machine learning."
   ]
  },
  {
   "cell_type": "markdown",
   "metadata": {},
   "source": [
    "# 1. Model Complexity"
   ]
  },
  {
   "cell_type": "markdown",
   "metadata": {},
   "source": [
    "We want to demonstrate the impact of implementing complicated models. <br> __Explore the dataset and choose one variable that you think can be most predictive of the target variable (price) in the Boston dataset.__ <br> (Please provide justification to the variable you chose in writing).  \n",
    "<font color='blue'>The most predictie target variable would be the variable that has the greatest correlation with the target. As such, we can plot the correlation coefficients between each variable and the target, and choose the one with the largest absolute value.</font>"
   ]
  },
  {
   "cell_type": "code",
   "execution_count": 4,
   "metadata": {},
   "outputs": [
    {
     "name": "stdout",
     "output_type": "stream",
     "text": [
      "CRIM -0.3858316898839905\n",
      "ZN 0.36044534245054327\n",
      "INDUS -0.4837251600283728\n",
      "CHAS 0.1752601771902985\n",
      "NOX -0.42732077237328275\n",
      "RM 0.6953599470715394\n",
      "AGE -0.3769545650045963\n",
      "DIS 0.24992873408590394\n",
      "RAD -0.38162623063977813\n",
      "TAX -0.468535933567767\n",
      "PTRATIO -0.5077866855375622\n",
      "B 0.3334608196570664\n",
      "LSTAT -0.737662726174015\n",
      "target 1.0\n"
     ]
    }
   ],
   "source": [
    "features = df_raw.columns\n",
    "for feature in features:\n",
    "    print(feature,np.corrcoef(df_raw[feature],df_raw['target'])[0,1])"
   ]
  },
  {
   "cell_type": "markdown",
   "metadata": {},
   "source": [
    "_(Provide your verbal answer here)_\n",
    "<font color='blue'>From the correlation coefficient plots, it appears that the feature with the strongest absolute correlation to the target is LSTAT, which is the % of lower status of the population in that house. A strong negative correlation is still a correlation!</font>"
   ]
  },
  {
   "cell_type": "markdown",
   "metadata": {},
   "source": [
    "__Create a linear regression model, and try to predict the price based on the parameter you chose:__"
   ]
  },
  {
   "cell_type": "code",
   "execution_count": 5,
   "metadata": {},
   "outputs": [],
   "source": [
    "from sklearn.linear_model import LinearRegression\n",
    "lr = LinearRegression()\n",
    "lr.fit(df_raw['LSTAT'].iloc[:int(0.8*len(df_raw))].values.reshape(-1, 1),df_raw['target'].iloc[:int(0.8*len(df_raw))])\n",
    "prediction = lr.predict(df_raw['LSTAT'].iloc[int(0.8*len(df_raw)):].values.reshape(-1,1))"
   ]
  },
  {
   "cell_type": "markdown",
   "metadata": {},
   "source": [
    "__Extract the coefficients or weights of the linear model interpret what they mean.__ <br> Make sure you visualise the linear regression line and comment on how the line fits the data."
   ]
  },
  {
   "cell_type": "code",
   "execution_count": 6,
   "metadata": {},
   "outputs": [
    {
     "name": "stdout",
     "output_type": "stream",
     "text": [
      "coefficient:-0.9617, intercept:35.0962\n",
      "Train score 0.5021017168938468\n",
      "Test score 0.1448676443361736\n"
     ]
    },
    {
     "data": {
      "image/png": "[encoded data removed]",
      "text/plain": [
       "<Figure size 432x288 with 1 Axes>"
      ]
     },
     "metadata": {
      "needs_background": "light"
     },
     "output_type": "display_data"
    }
   ],
   "source": [
    "# plt.scatter(df_raw['target'].iloc[int(0.8*len(df_raw)):],prediction)\n",
    "plt.scatter(df_raw['LSTAT'],df_raw['target'],color='r',alpha=0.5)\n",
    "plt.plot(lr.predict(np.arange(35).reshape(-1,1)),color='k')\n",
    "plt.xlabel('LSTAT value')\n",
    "plt.ylabel('Price')\n",
    "print('coefficient:{:.4f}, intercept:{:.4f}'.format(lr.coef_[0],lr.intercept_))\n",
    "print('Train score',lr.score(df_raw['LSTAT'].iloc[:int(0.8*len(df_raw))].values.reshape(-1,1),df_raw['target'].iloc[:int(0.8*len(df_raw))]))\n",
    "print('Test score',lr.score(df_raw['LSTAT'].iloc[int(0.8*len(df_raw)):].values.reshape(-1,1),df_raw['target'].iloc[int(0.8*len(df_raw)):]))"
   ]
  },
  {
   "cell_type": "markdown",
   "metadata": {},
   "source": [
    "<font color='blue'>The best-fit line fits the data reasonably well in intermediate values of LSTAT, but it is obvious that the distribution of LSTAT values in relation to prices are non-linear. There is a general linear trend between LSTAT values of 10-25, with prices rising up rapidly at LSTAT values below 10, and prices bottoming out above LSTAT values above 30.</font>"
   ]
  },
  {
   "cell_type": "markdown",
   "metadata": {},
   "source": [
    "Linear regression is considered a simple model, using a polynomial model introduces a higher complexity. <br>\n",
    "__Find and implement two more models (with medium and high complexity) to predict the target variable, using the same variable you chose for the previous part__ (Be sure to visualize your result and comment about the fit).\n",
    "\n",
    "Fit and plot your medium complexity model here:"
   ]
  },
  {
   "cell_type": "code",
   "execution_count": 7,
   "metadata": {},
   "outputs": [
    {
     "name": "stdout",
     "output_type": "stream",
     "text": [
      "coefficient,intercept [ 0.         -2.44319997  0.04767261] 43.55741498079278\n",
      "Train Score: 0.6075690225775301\n",
      "Test Score: 0.3270102092991529\n"
     ]
    },
    {
     "data": {
      "image/png": "[encoded data removed]",
      "text/plain": [
       "<Figure size 432x288 with 1 Axes>"
      ]
     },
     "metadata": {
      "needs_background": "light"
     },
     "output_type": "display_data"
    }
   ],
   "source": [
    "def medium_complexity(x_val):\n",
    "#     x_val2 = np.log(x_val)\n",
    "#     return np.array([x_val2]).T\n",
    "    return preprocessing.PolynomialFeatures(degree=2).fit_transform(x_val.reshape(-1,1))\n",
    "\n",
    "def medium_complex():\n",
    "    x_in = medium_complexity(df_raw['LSTAT'].values)\n",
    "    y_val = df_raw['target'].iloc[:int(0.8*len(df_raw))]\n",
    "    lr.fit(x_in[:int(0.8*len(df_raw))],y_val)\n",
    "    prediction = lr.predict(x_in[int(0.8*len(df_raw)):])\n",
    "    plt.scatter(df_raw['LSTAT'],df_raw['target'],color='r',alpha=0.5)\n",
    "    plt.plot(lr.predict(medium_complexity(np.arange(1,36))),color='k')\n",
    "    plt.xlabel('LSTAT value')\n",
    "    plt.ylabel('Price')\n",
    "#     print('coefficient:{:.4f}, intercept:{:.4f}'.format(lr.coef_[0],lr.intercept_))\n",
    "    print('coefficient,intercept',lr.coef_,lr.intercept_)\n",
    "    print('Train Score:',lr.score(x_in[:int(0.8*len(df_raw))],df_raw['target'].iloc[:int(0.8*len(df_raw))]))\n",
    "    print('Test Score:',lr.score(x_in[int(0.8*len(df_raw)):],df_raw['target'].iloc[int(0.8*len(df_raw)):]))\n",
    "medium_complex()"
   ]
  },
  {
   "cell_type": "markdown",
   "metadata": {},
   "source": [
    "<font color='blue'>Introducing a squared function gives the model a much better fit!</font>"
   ]
  },
  {
   "cell_type": "markdown",
   "metadata": {},
   "source": [
    "Fit and plot your high complexity model here:"
   ]
  },
  {
   "cell_type": "code",
   "execution_count": 8,
   "metadata": {},
   "outputs": [
    {
     "name": "stdout",
     "output_type": "stream",
     "text": [
      "coefficient,intercept [ 0.00000000e+00 -1.14424850e+01  1.17939901e+00 -6.13715708e-02\n",
      "  1.50820279e-03 -1.38818610e-05] 66.71217401116732\n",
      "Train score: 0.653149995105269\n",
      "Test score: 0.3796705349626388\n"
     ]
    },
    {
     "data": {
      "image/png": "[encoded data removed]",
      "text/plain": [
       "<Figure size 432x288 with 1 Axes>"
      ]
     },
     "metadata": {
      "needs_background": "light"
     },
     "output_type": "display_data"
    }
   ],
   "source": [
    "def high_complexity(x_val):\n",
    "#     x_val2 = x_val**2\n",
    "#     x_val3 = x_val**3\n",
    "#     x_vallog = np.log(x_val)\n",
    "#     return np.array([x_val,x_val2,x_val3,x_vallog]).T\n",
    "    return preprocessing.PolynomialFeatures(degree=5).fit_transform(x_val.reshape(-1,1))\n",
    "\n",
    "def high_complex():\n",
    "    x_in = high_complexity(df_raw['LSTAT'].values)\n",
    "    y_val = df_raw['target'].iloc[:int(0.8*len(df_raw))]\n",
    "    lr.fit(x_in[:int(0.8*len(df_raw))],y_val)\n",
    "    prediction = lr.predict(x_in[int(0.8*len(df_raw)):])\n",
    "    plt.scatter(df_raw['LSTAT'],df_raw['target'],color='r',alpha=0.5)\n",
    "    plt.plot(lr.predict(high_complexity(np.arange(1,36))),color='k')\n",
    "    plt.xlabel('LSTAT value')\n",
    "    plt.ylabel('Price')\n",
    "    print('coefficient,intercept',lr.coef_,lr.intercept_)\n",
    "    print('Train score:',lr.score(x_in[:int(0.8*len(df_raw))],df_raw['target'].iloc[:int(0.8*len(df_raw))]))\n",
    "    print('Test score:',lr.score(x_in[int(0.8*len(df_raw)):],df_raw['target'].iloc[int(0.8*len(df_raw)):]))\n",
    "high_complex()"
   ]
  },
  {
   "cell_type": "markdown",
   "metadata": {},
   "source": [
    "<font color='blue'>Introducing both a logarithmic function and some power functions improved the training set fit.</font>"
   ]
  },
  {
   "cell_type": "markdown",
   "metadata": {},
   "source": [
    "Use the following section to answer: which of the models has the best fit and why?"
   ]
  },
  {
   "cell_type": "markdown",
   "metadata": {},
   "source": [
    "<font color='blue'><s>It appears that the pure logarithmic model has the best fit.</s> The polynomial model with terms up to the 5th power appears to have the best fit!</font>"
   ]
  },
  {
   "cell_type": "markdown",
   "metadata": {},
   "source": [
    "__Find a quantitative way of measuring the model fit__ <br>\n",
    "Calculate it for each one of the models and compare the results to your visual inspection interpretation:"
   ]
  },
  {
   "cell_type": "markdown",
   "metadata": {},
   "source": [
    "<font color='blue'>The $r^2$ score is used for measuring the model's fit. <s> $r^2$ scores are printed above.  \n",
    "    $r^2$ goes from 0.50 to 0.63 to 0.65 with increasing model complexity.</s> The training score improves with increasing model complexity, from 0.50 to 0.61, to 0.65 as the powers increase from 1 to 2 to 5.</font>"
   ]
  },
  {
   "cell_type": "markdown",
   "metadata": {},
   "source": [
    "If you did the exercise right, you should see the visual and quantative fit increase in the same direction as the model complexity. \n",
    "\n",
    "\n",
    "##### But is fitness a good measure of a model?\n",
    "In order to put this question to the test, __perform a cross-validation test for the three models and compare between them:__"
   ]
  },
  {
   "cell_type": "code",
   "execution_count": 76,
   "metadata": {},
   "outputs": [
    {
     "name": "stdout",
     "output_type": "stream",
     "text": [
      "Poly degree 1 (0.29710984600668633, 42.618472789410596)\n",
      "Poly degree 2 (0.4337910696940484, 33.88330525749241)\n",
      "3\n",
      "Poly degree 3 (0.45794903499044876, 32.01645288778347)\n",
      "4\n",
      "Poly degree 5 (0.5011849272365574, 29.92570038634355)\n",
      "6\n"
     ]
    }
   ],
   "source": [
    "def score_model(X,y,lr,printraw=False):\n",
    "    kf = model_selection.KFold(n_splits=5)\n",
    "    validation_score=[]\n",
    "    mse=[]\n",
    "    for train_index, test_index in kf.split(X):\n",
    "        X_train, X_test = X[train_index], X[test_index]\n",
    "        y_train, y_test = y[train_index], y[test_index]\n",
    "        lr.fit(X_train,y_train)\n",
    "        validation_score.append(lr.score(X_test,y_test))\n",
    "        prediction = lr.predict(X_test)\n",
    "        mse.append(metrics.mean_squared_error(prediction,y_test))\n",
    "    if printraw:\n",
    "        print(validation_score)\n",
    "    return np.mean(validation_score),np.mean(mse)\n",
    "\n",
    "print('Poly degree 1',score_model(df_raw['LSTAT'].values.reshape(-1,1),df_raw['target'],lr))\n",
    "poly = preprocessing.PolynomialFeatures(degree=2)\n",
    "print('Poly degree 2',score_model(poly.fit_transform(df_raw['LSTAT'].values.reshape(-1,1)),df_raw['target'],lr))\n",
    "print(poly.n_output_features_)\n",
    "poly = preprocessing.PolynomialFeatures(degree=3)\n",
    "print('Poly degree 3',score_model(poly.fit_transform(df_raw['LSTAT'].values.reshape(-1,1)),df_raw['target'],lr))\n",
    "print(poly.n_output_features_)\n",
    "poly = preprocessing.PolynomialFeatures(degree=5)\n",
    "print('Poly degree 5',score_model(poly.fit_transform(df_raw['LSTAT'].values.reshape(-1,1)),df_raw['target'],lr))\n",
    "print(poly.n_output_features_)"
   ]
  },
  {
   "cell_type": "markdown",
   "metadata": {},
   "source": [
    "What measure did you use to compare between the models and why? <br>\n",
    "Which one fits the data the best? Explain that result"
   ]
  },
  {
   "cell_type": "markdown",
   "metadata": {},
   "source": [
    "<font color='blue'>The $r^2$ score is used to compare fit. In this sense, the higher the model complexity (up to 5), the better the fit. However, if the model is measured by the mean squared error, the model with a complexity of 2 is the best performer.</font>"
   ]
  },
  {
   "cell_type": "markdown",
   "metadata": {},
   "source": [
    "Let's try to extend this discussion by including all the remaining variables in the Boston dataset. <br> __Fit the three models, use _all_ the variables in the Boston dataset and compare their cross validation scores.__ <br> See if you observe the same patterns as when using one variable."
   ]
  },
  {
   "cell_type": "code",
   "execution_count": 10,
   "metadata": {
    "scrolled": true
   },
   "outputs": [
    {
     "name": "stdout",
     "output_type": "stream",
     "text": [
      "Poly degree 1 (0.3507413509325278, 37.22284363713827)\n",
      "Poly degree 2 (-7.150875122590082, 275.19381737255037)\n",
      "nfeatures  105\n",
      "Poly degree 5 (-1692552.5374785098, 45111444.94035606)\n",
      "nfeatures  8568\n"
     ]
    }
   ],
   "source": [
    "print('Poly degree 1',score_model(df_raw.drop(labels='target',axis=1).values,df_raw['target'],lr))\n",
    "poly = preprocessing.PolynomialFeatures(degree=2)\n",
    "print('Poly degree 2',score_model(poly.fit_transform(df_raw.drop(labels='target',axis=1)),df_raw['target'],lr))\n",
    "print('nfeatures ', poly.n_output_features_)\n",
    "poly = preprocessing.PolynomialFeatures(degree=5)\n",
    "print('Poly degree 5',score_model(poly.fit_transform(df_raw.drop(labels='target',axis=1)),df_raw['target'],lr))\n",
    "print('nfeatures ',poly.n_output_features_)"
   ]
  },
  {
   "cell_type": "markdown",
   "metadata": {},
   "source": [
    "- For each model, explain the differences you encountered when expanding the dataset.<br>\n",
    "- Compare the current result between models and try to explain it."
   ]
  },
  {
   "cell_type": "markdown",
   "metadata": {},
   "source": [
    "<font color='blue'>When doing a polynomial expansion, the power features increase at an exponential rate. The model features very quickly start to overwhelm the data, and at the 5th degree, there are already 8568 features.</color>"
   ]
  },
  {
   "cell_type": "markdown",
   "metadata": {},
   "source": [
    "Share your thoughts/conclusions regarding complexity in modeling:"
   ]
  },
  {
   "cell_type": "markdown",
   "metadata": {},
   "source": [
    "<font color='blue'>Model complexity in general decreases the bias at the expense of increasing the variance of the model. It can capture non-linear complexities of the underlying data, but at the same time, it is prone to overfitting, and the expansion of the number of terms lead to an excess of features.</font>"
   ]
  },
  {
   "cell_type": "markdown",
   "metadata": {},
   "source": [
    "__Expending our discussion on model complexity, comment below how one can decrease/increase complexity in the following families of algorithms:__ \n",
    "- Decision tree \n",
    "- Artificial neural network \n",
    "- Support vector machine\n",
    "- K-nearest neighbour\n",
    "- Bayesian method (optional)"
   ]
  },
  {
   "cell_type": "markdown",
   "metadata": {},
   "source": [
    "<font color='blue'>\n",
    "    \n",
    "1. Model complexity can be increased by increasing the max_depth, decreasing the minimum samples in a leaf, and increasing maximum number of leaf nodes.\n",
    "2. ANN complexity can be increased by increasing the number of neurons, and adding more hidden layers.\n",
    "3. If the SVM is using a polynomial kernel, model complexity can be increased by increasing the degree. \n",
    "4. Decreasing K will increase model complexity. \n",
    "5. Bayesian method. In a gaussian process, the selection of more and higher level kernels can increase model complexity.\n",
    "</font>"
   ]
  },
  {
   "cell_type": "markdown",
   "metadata": {},
   "source": [
    "__Provide the best explanation/definition (using your own words) of over/under-fitting:__"
   ]
  },
  {
   "cell_type": "markdown",
   "metadata": {},
   "source": [
    "<font color='blue'>In an over fitted model, the model performance on the training set is much higher than its performance on the test set. It is an indication that the model is 'memorizing' the answers in the train set, and is not as generalizable to data not within the training set.  \n",
    "In an under-fitted model, the model performance on both the training and test set is low.</font>"
   ]
  },
  {
   "cell_type": "markdown",
   "metadata": {},
   "source": [
    "# 2. Bias Variance Trade-Off"
   ]
  },
  {
   "cell_type": "markdown",
   "metadata": {},
   "source": [
    "One might claim machine learning is about balancing. If that's the case, what measure can we use to find the right balance? \n",
    "\n",
    "From a more theoretical perspective, two useful measures are bias and variance.<br>\n",
    "In an intuitive sense, __bias__ is how off-the-mark our prediction/estimate tends to be with respect to the true value we are trying to predict. Usually we get bias because of inherent limitation in the model/algorithm we choose, for example linear regression is limited only to fit linear patterns, and hence \"biased\" towards linearity. <br>\n",
    "__Variance__ is how flexible the predictions made by the model can be to fit more complicated patterns in data. Highly complex models tend to have high variance. This comes as a cost; as flexibility increases, the sensitivity of the models to the training data that they try to fit increases, resulting in the predictions being more distributed away from the true values. \n",
    "\n",
    "__This is just the tip of the iceberg, we encourage you to pause your work on the notebook for now and seek more information about the relationship to get a better understanding before we dive in.__\n",
    "\n",
    "Bias and variance is a trade-off, increasing one decreases the other.<br> __Provide an explanation to why this is so:__\n"
   ]
  },
  {
   "cell_type": "markdown",
   "metadata": {},
   "source": [
    "<font color='blue'>A high bias is a result of the model not capturing the underlying features within the data. However, it can be hard for a model to tell what is a underlying feature, and what is a statistical fluke. Increasing the complexity of the model helps to reduce the model bias, but at the same time might result in the model learning features that are not generalizable outside the training dataset.  \n",
    "After completing the tests below, I have a new understanding. Given some data, and given some model to predict that data, bias will be 0 if the model prediction exactly fits the curve of the data. However, variance will be 0 if the model predicts the exact same value every time. Therefore, as the model prediction moves from predicting the same vale every single time to something more like the shape of the data, the bias will drop, but the variance will increase.</font>"
   ]
  },
  {
   "cell_type": "markdown",
   "metadata": {},
   "source": [
    "__Provide mathematical formulas for the bias, the variance and the overall prediction error of a model:__"
   ]
  },
  {
   "cell_type": "markdown",
   "metadata": {},
   "source": [
    "<font color='blue'>\n",
    "For a training set with data drawn from a function $y=f(x)+\\epsilon$, we attempt to learn the model $\\hat{f}(x)$ that best approximates the true function.  \n",
    "We can decompose the model's error on an unseen sample $x$ as \n",
    "$$E[(y-\\hat{f}(x))^2]=(Bias[\\hat{f}(x)])^2+Var[\\hat{f}(x)]+\\sigma^2 $$\n",
    "where\n",
    "$$Bias[\\hat{f}(x)]=E[\\hat{f}(x)-f(x)]$$\n",
    "and\n",
    "$$Var[\\hat{f}(x)]=E[\\hat{f}(x)^2]-(E[\\hat{f}(x)])^2$$\n",
    "</font>"
   ]
  },
  {
   "cell_type": "markdown",
   "metadata": {},
   "source": [
    "Shifting our focus to a more practical approach, we will now try and demonstrate how to find the right balance between bias variance when fitting a model. \n",
    "\n",
    "__Define a high order polynomial curve to fit:__ <br>\n",
    "(One example is: $f(x)=0.2x^{5}-3.5x^{4}+21x^{3}-53x^{2}+37x+0.6$ (you are free to define another function)"
   ]
  },
  {
   "cell_type": "code",
   "execution_count": 384,
   "metadata": {},
   "outputs": [],
   "source": [
    "def make_y(x):\n",
    "    return 0.2*x**5 - 3.5*x**4 + 21*x**3 -53*x**2 + 37*x + 0.6"
   ]
  },
  {
   "cell_type": "markdown",
   "metadata": {},
   "source": [
    "Plot the function you created:"
   ]
  },
  {
   "cell_type": "code",
   "execution_count": 511,
   "metadata": {},
   "outputs": [
    {
     "data": {
      "image/png": "[encoded data removed]",
      "text/plain": [
       "<Figure size 432x288 with 1 Axes>"
      ]
     },
     "metadata": {
      "needs_background": "light"
     },
     "output_type": "display_data"
    }
   ],
   "source": [
    "input_x=np.arange(0,10,0.01)\n",
    "output = make_y(input_x)\n",
    "plt.plot(input_x,output);"
   ]
  },
  {
   "cell_type": "markdown",
   "metadata": {},
   "source": [
    "Our goal is to estimate this function using polynomial regression. In real-life cases, the true function is not accessible to us, only noisy estimates around it.\n",
    "\n",
    "__Now, simulate a training data by introducing random errors on the curve.__<br>The training data should look like the figure below (make sure you have at least a 1000 observations)."
   ]
  },
  {
   "cell_type": "markdown",
   "metadata": {},
   "source": [
    "<img src=\"./training_data.png\">"
   ]
  },
  {
   "cell_type": "code",
   "execution_count": 513,
   "metadata": {},
   "outputs": [
    {
     "data": {
      "image/png": "[encoded data removed]",
      "text/plain": [
       "<Figure size 432x288 with 1 Axes>"
      ]
     },
     "metadata": {
      "needs_background": "light"
     },
     "output_type": "display_data"
    }
   ],
   "source": [
    "noise = np.random.normal(0,40,len(output))\n",
    "noisy = output+noise\n",
    "plt.scatter(input_x,noisy,alpha=0.5,s=2);"
   ]
  },
  {
   "cell_type": "markdown",
   "metadata": {},
   "source": [
    "Spare a few hundreds samples to use as the validation set (and plot it):"
   ]
  },
  {
   "cell_type": "code",
   "execution_count": 514,
   "metadata": {},
   "outputs": [
    {
     "name": "stdout",
     "output_type": "stream",
     "text": [
      "200 800\n"
     ]
    },
    {
     "data": {
      "image/png": "[encoded data removed]",
      "text/plain": [
       "<Figure size 432x288 with 1 Axes>"
      ]
     },
     "metadata": {
      "needs_background": "light"
     },
     "output_type": "display_data"
    }
   ],
   "source": [
    "shuffleindex=np.arange(len(noisy))\n",
    "np.random.shuffle(shuffleindex)\n",
    "X_all = input_x[shuffleindex]\n",
    "y_all = noisy[shuffleindex]\n",
    "\n",
    "# save 200 points to be used as the validation set\n",
    "X_test = X_all[:200]\n",
    "y_test = y_all[:200]\n",
    "X_train = X_all[200:]\n",
    "y_train = y_all[200:]\n",
    "print(len(y_test),len(y_train))\n",
    "plt.scatter(X_test,y_test,alpha=0.7,s=2);"
   ]
  },
  {
   "cell_type": "markdown",
   "metadata": {},
   "source": [
    "Using the remaining data, build 500 linear regression models, each by randomly sampling 80 observations from the pool:"
   ]
  },
  {
   "cell_type": "code",
   "execution_count": 495,
   "metadata": {},
   "outputs": [],
   "source": [
    "def train_model(X_train,y_train,X_test):\n",
    "    all_models = np.empty([len(y_test),500])\n",
    "    for ii in range(500):\n",
    "        sampleindex = np.random.choice(len(y_train),80,replace=False)\n",
    "        xx_train = X_train[sampleindex]\n",
    "        yy_train = y_train[sampleindex]\n",
    "        lm = LinearRegression()\n",
    "        if(np.shape(np.shape(X_train))[0]<=1):\n",
    "            lm.fit(xx_train.reshape(-1,1),yy_train)\n",
    "            prediction = lm.predict(X_test.reshape(-1,1))\n",
    "        else:\n",
    "            lm.fit(xx_train,yy_train)\n",
    "            prediction = lm.predict(X_test)\n",
    "        all_models[:,ii] = prediction\n",
    "    return all_models\n",
    "all_models = train_model(X_train,y_train,X_test)"
   ]
  },
  {
   "cell_type": "markdown",
   "metadata": {},
   "source": [
    "__Calculate the bias square and variance of linear regression by predicting (using the 500 models) the values of the validation set above, and comparing them against the true values from the polynomial curve defined earlier.__ <br> (refer to the bias variance formula to do the calculation)"
   ]
  },
  {
   "cell_type": "code",
   "execution_count": 496,
   "metadata": {},
   "outputs": [
    {
     "name": "stdout",
     "output_type": "stream",
     "text": [
      "bias,var=  (44565.49642466391, 1433.311989316012, 45998.80841397992)\n"
     ]
    }
   ],
   "source": [
    "# print('model biassq' ,np.mean(biassq), 'var',np.mean(variance))\n",
    "# truebiassq = bias_calc(noisy,output)\n",
    "# truevar = var_calc(output)\n",
    "# print('true biassq', truebiassq, 'var',truevar)\n",
    "\n",
    "def bias_calc(x,y):\n",
    "    return (np.mean(x-y))**2\n",
    "def var_calc(x):\n",
    "    return np.mean(x**2)-np.mean(x)**2\n",
    "def overall_bias_var(models):\n",
    "    biassq=[]\n",
    "    variance=[]\n",
    "    mse=[]\n",
    "    for ii,row in enumerate(models):\n",
    "        biassq.append(bias_calc(row,y_test[ii]))\n",
    "        variance.append(var_calc(row))\n",
    "#     print(np.mean(np.array(biassq)),np.mean(np.array(variance)))\n",
    "    for jj in range(np.shape(models)[1]):\n",
    "        mse.append(metrics.mean_squared_error(y_test,models[:,jj]))\n",
    "#     mse = metrics.mean_squared_error(y_test,np.mean(models,axis=1))\n",
    "    return np.mean(np.array(biassq)),np.mean(np.array(variance)),np.mean(np.array(mse))\n",
    "print('bias,var= ',overall_bias_var(all_models))\n"
   ]
  },
  {
   "cell_type": "markdown",
   "metadata": {},
   "source": [
    "Repeat the whole procedure of calculating bias variance, but this time using polynomial of degrees 2, 3, 4, ..., 15"
   ]
  },
  {
   "cell_type": "code",
   "execution_count": 515,
   "metadata": {},
   "outputs": [
    {
     "name": "stdout",
     "output_type": "stream",
     "text": [
      "degree:  2\n",
      "22804.661945440304 1467.9719679943748 24272.633913434678 24272.633913434678\n",
      "degree:  3\n",
      "7104.009027640447 821.2661870184132 7925.275214658861 7925.27521465886\n",
      "degree:  4\n",
      "2162.8648680343154 177.45730007440994 2340.322168108721 2340.3221681087252\n",
      "degree:  5\n",
      "1631.1061714260259 131.4687297978902 1762.5749012239119 1762.5749012239162\n",
      "degree:  6\n",
      "1644.3674721977732 170.76161342490587 1815.1290856226772 1815.129085622679\n",
      "degree:  7\n",
      "1639.1435879887745 229.71263719974112 1868.856225188517 1868.8562251885155\n",
      "degree:  8\n",
      "1631.6466482589913 310.88370034279035 1942.5303486017788 1942.5303486017815\n",
      "degree:  9\n",
      "1618.2126004568681 2041.7073482343058 3659.9199486911716 3659.919948691174\n",
      "degree:  10\n",
      "1647.6092518725238 778.9506070113921 2426.5598588839116 2426.5598588839157\n",
      "degree:  11\n",
      "1651.2397630186047 1611.9094234566073 3263.1491864752097 3263.149186475212\n",
      "degree:  12\n",
      "1639.1672428246948 12078.478485141675 13717.645727966361 13717.64572796637\n",
      "degree:  13\n",
      "1638.535089721181 10194.795967889644 11833.331057610829 11833.331057610825\n",
      "degree:  14\n",
      "1671.229552484597 10189.437069457334 11860.666621941924 11860.666621941931\n",
      "degree:  15\n",
      "1602.2220795406186 22196.561471408233 23798.783550948843 23798.78355094885\n"
     ]
    }
   ],
   "source": [
    "biassq_all=[]\n",
    "variance_all=[]\n",
    "mse_all=[]\n",
    "\n",
    "for degree in range(2,16):\n",
    "    print('degree: ',degree)\n",
    "    X_all_new = preprocessing.PolynomialFeatures(degree=degree).fit_transform(X_all.reshape(-1,1))\n",
    "    X_test = X_all_new[:200]\n",
    "    y_test = y_all[:200]\n",
    "    X_train = X_all_new[200:]\n",
    "    y_train = y_all[200:]\n",
    "    all_model_pred = train_model(X_train,y_train,X_test)\n",
    "    biass,variancee,msee = overall_bias_var(all_model_pred)\n",
    "    biassq_all.append(biass)\n",
    "    variance_all.append(variancee)\n",
    "    mse_all.append(msee)\n",
    "    print(biass,variancee,msee,biass+variancee)"
   ]
  },
  {
   "cell_type": "markdown",
   "metadata": {},
   "source": [
    "Plot the bias and variance (as y) vs. the model complexity/polynomial degree (as x)"
   ]
  },
  {
   "cell_type": "code",
   "execution_count": 498,
   "metadata": {},
   "outputs": [
    {
     "data": {
      "image/png": "[encoded data removed]",
      "text/plain": [
       "<Figure size 432x288 with 1 Axes>"
      ]
     },
     "metadata": {
      "needs_background": "light"
     },
     "output_type": "display_data"
    }
   ],
   "source": [
    "fig,ax1=plt.subplots()\n",
    "ax1.plot(np.arange(2,16),biassq_all,color='blue',label='bias')\n",
    "ax1.set_ylabel('BiasSq')\n",
    "plt.legend(bbox_to_anchor=(0.75, 0.85), loc=2, borderaxespad=0.)\n",
    "# ax2=ax1.twinx()\n",
    "ax1.plot(np.arange(2,16),variance_all,color='red',label='variance')\n",
    "# ax2.set_ylabel('Variance/mse')\n",
    "# ax1.plot(np.arange(2,16),np.array(biassq_all)+np.array(variance_all),color='green',label='mse')\n",
    "ax1.grid(which='both',axis='x')\n",
    "ax1.set_xlabel('Polynomial degree')\n",
    "plt.legend(bbox_to_anchor=(0.75, 0.75), loc=2, borderaxespad=0.)\n",
    "plt.show()"
   ]
  },
  {
   "cell_type": "markdown",
   "metadata": {},
   "source": [
    "Where is the optimal balance point? Which polynomial degree is that? <br>\n",
    "Find out more and elaborate on the meaning and importance that point of balance."
   ]
  },
  {
   "cell_type": "markdown",
   "metadata": {},
   "source": [
    "<font color='blue'>It appears that the optimal balance is at polynomial degree 5. Beyond that point, the bias does not drop further with increasing complexity. At very high values (>10), the variance actually increases.</font>"
   ]
  },
  {
   "cell_type": "markdown",
   "metadata": {},
   "source": [
    "# The Practical Side "
   ]
  },
  {
   "cell_type": "markdown",
   "metadata": {},
   "source": [
    "Bias-variance trade-off is one of the most critical components of model tuning. You will need to find the right point in terms of model complexity to derive the best results for your model.\n",
    "\n",
    "In practice, however, it is impossible to calculate bias and variance for an actual dataset. Try to explain why this is impossible below:"
   ]
  },
  {
   "cell_type": "markdown",
   "metadata": {},
   "source": [
    "<font color='blue'> You can only get a sample and hence sample bias? </font>"
   ]
  },
  {
   "cell_type": "markdown",
   "metadata": {},
   "source": [
    "Repeat the procedure you used to calculate bias-variance above, but this time calculate mean squared error instead. <br> Overlay the MSE on the bias variance plot earlier and comment on the observation."
   ]
  },
  {
   "cell_type": "code",
   "execution_count": 499,
   "metadata": {},
   "outputs": [
    {
     "data": {
      "image/png": "[encoded data removed]",
      "text/plain": [
       "<Figure size 432x288 with 1 Axes>"
      ]
     },
     "metadata": {
      "needs_background": "light"
     },
     "output_type": "display_data"
    }
   ],
   "source": [
    "\n",
    "\n",
    "fig,ax1=plt.subplots()\n",
    "ax1.plot(np.arange(2,16),biassq_all,color='blue',label='bias')\n",
    "ax1.set_ylabel('BiasSq')\n",
    "plt.legend(bbox_to_anchor=(0.75, 0.85), loc=2, borderaxespad=0.)\n",
    "# ax2=ax1.twinx()\n",
    "ax1.plot(np.arange(2,16),variance_all,color='red',label='variance')\n",
    "# ax2.set_ylabel('Variance')\n",
    "plt.legend(bbox_to_anchor=(0.75, 0.75), loc=2, borderaxespad=0.)\n",
    "# ax3=ax1.twinx()\n",
    "ax1.plot(np.arange(2,16),mse_all,color='green',label='mse')\n",
    "# ax3.spines[\"right\"].set_position((\"axes\", 1.2))\n",
    "# ax3.set_ylabel('mse')\n",
    "ax1.grid(which='both',axis='x')\n",
    "ax1.set_xlabel('Polynomial degree')\n",
    "plt.legend(bbox_to_anchor=(0.75, 0.65), loc=2, borderaxespad=0.)\n",
    "plt.show()"
   ]
  },
  {
   "cell_type": "markdown",
   "metadata": {},
   "source": [
    "<font color='blue'>The MSE is the combination of the bias and variance. It reaches a mean at the optimal point with the lowest combined bias and variance.</font>"
   ]
  },
  {
   "cell_type": "markdown",
   "metadata": {},
   "source": [
    "# 3. Out-of-sample Validation"
   ]
  },
  {
   "cell_type": "markdown",
   "metadata": {},
   "source": [
    "Hence, we will go back to using mean squared errors (MSE) to tune our models. In reality, validation error is the most reliable source of information you can get, provided you do validation properly. You might have realised that MSE scores are negative when you put them through the `cross_val_score` method - do think about why this is so as well.\n",
    "\n",
    "If you would like to do any data exploration, you can do them here."
   ]
  },
  {
   "cell_type": "code",
   "execution_count": 510,
   "metadata": {},
   "outputs": [
    {
     "name": "stdout",
     "output_type": "stream",
     "text": [
      "10000.0\n",
      "0.9893318451978531\n",
      "rss 80000.0\n",
      "tss 7498953.800698582\n",
      "R2 0.9893318451978531\n",
      "[ 102.71828183  107.3890561   120.08553692  154.59815003  248.4131591\n",
      "  503.42879349 1196.63315843 3080.95798704] [2.71828183e+00 7.38905610e+00 2.00855369e+01 5.45981500e+01\n",
      " 1.48413159e+02 4.03428793e+02 1.09663316e+03 2.98095799e+03]\n",
      "pearson 1.0000000000000004\n"
     ]
    },
    {
     "data": {
      "image/png": "[encoded data removed]",
      "text/plain": [
       "<Figure size 432x288 with 1 Axes>"
      ]
     },
     "metadata": {
      "needs_background": "light"
     },
     "output_type": "display_data"
    }
   ],
   "source": [
    "'''\n",
    "r2 is the coefficient of determination\n",
    "r2 in stats is the pearson correlation coefficient.\n",
    "They are 2 different things!\n",
    "a log transform will result in a very high coefficient of determination\n",
    "but also a very high mse!\n",
    "'''\n",
    "\n",
    "pred=np.exp(np.array([1,2,3,4,5,6,7,8]))\n",
    "actual=pred+100\n",
    "print(metrics.mean_squared_error(actual,pred))\n",
    "print(metrics.r2_score(actual,pred))\n",
    "rss=np.sum((actual-pred)**2)\n",
    "tss=np.sum((actual-np.mean(actual))**2)\n",
    "print('rss',rss)\n",
    "print('tss',tss)\n",
    "print('R2',1-(rss/tss))\n",
    "(print(actual,pred))\n",
    "plt.plot(actual)\n",
    "plt.plot(pred)\n",
    "n=len(pred)\n",
    "r = ( n*np.sum(pred*actual)-np.sum(pred)*np.sum(actual) )/ \\\n",
    "    ( np.sqrt( (n*np.sum(pred**2)-(np.sum(pred)**2))*(n*np.sum(actual**2)-(np.sum(actual)**2)) ) )\n",
    "print('pearson',r)"
   ]
  },
  {
   "cell_type": "code",
   "execution_count": 253,
   "metadata": {},
   "outputs": [],
   "source": [
    "# weird CV split testing\n",
    "def cv_test(fold):\n",
    "    lr = LinearRegression()\n",
    "    X=df_raw.drop('target',axis=1)\n",
    "    y=df_raw['target']\n",
    "    X,y=utils.shuffle(X,y)\n",
    "    results = model_selection.cross_val_score(lr,X,y,cv=fold,scoring='neg_mean_squared_error')\n",
    "    results2 = model_selection.cross_val_score(lr,X,y,cv=fold,scoring='r2')\n",
    "#     print(results)\n",
    "    return [np.mean(results),np.mean(results2)]\n",
    "cv_mse_score=[]\n",
    "for ii in range(2,len(df_raw)+1):\n",
    "    cv_mse_score.append(cv_test(ii))"
   ]
  },
  {
   "cell_type": "code",
   "execution_count": 141,
   "metadata": {},
   "outputs": [
    {
     "data": {
      "text/plain": [
       "<Figure size 432x288 with 0 Axes>"
      ]
     },
     "metadata": {},
     "output_type": "display_data"
    },
    {
     "data": {
      "image/png": "[encoded data removed]",
      "text/plain": [
       "<Figure size 432x288 with 1 Axes>"
      ]
     },
     "metadata": {
      "needs_background": "light"
     },
     "output_type": "display_data"
    },
    {
     "data": {
      "image/png": "[encoded data removed]",
      "text/plain": [
       "<Figure size 432x288 with 1 Axes>"
      ]
     },
     "metadata": {
      "needs_background": "light"
     },
     "output_type": "display_data"
    }
   ],
   "source": [
    "cv_mse_score=np.array(cv_mse_score)\n",
    "plt.figure(1)\n",
    "fig,ax=plt.subplots()\n",
    "ax.plot(np.arange(2,len(df_raw)+1),cv_mse_score[:,0])\n",
    "ax.set_title('CV splits vs negative mean squared error')\n",
    "plt.figure(2)\n",
    "fig,ax=plt.subplots()\n",
    "ax.plot(np.arange(2,len(df_raw)+1),cv_mse_score[:,1])\n",
    "ax.set_title('CV splits vs r2 error')\n",
    "plt.show()"
   ]
  },
  {
   "cell_type": "code",
   "execution_count": 92,
   "metadata": {},
   "outputs": [
    {
     "data": {
      "text/plain": [
       "<Figure size 432x288 with 0 Axes>"
      ]
     },
     "metadata": {},
     "output_type": "display_data"
    },
    {
     "data": {
      "image/png": "[encoded data removed]",
      "text/plain": [
       "<Figure size 432x288 with 1 Axes>"
      ]
     },
     "metadata": {
      "needs_background": "light"
     },
     "output_type": "display_data"
    },
    {
     "data": {
      "image/png": "[encoded data removed]",
      "text/plain": [
       "<Figure size 432x288 with 1 Axes>"
      ]
     },
     "metadata": {
      "needs_background": "light"
     },
     "output_type": "display_data"
    }
   ],
   "source": [
    "cv_mse_score=np.array(cv_mse_score)\n",
    "plt.figure(1)\n",
    "fig,ax=plt.subplots()\n",
    "ax.plot(np.arange(2,len(df_raw)+1),cv_mse_score[:,0])\n",
    "ax.set_title('CV splits vs negative mean squared error')\n",
    "plt.figure(2)\n",
    "fig,ax=plt.subplots()\n",
    "ax.plot(np.arange(2,len(df_raw)+1),cv_mse_score[:,1])\n",
    "ax.set_title('CV splits vs r2 error')\n",
    "plt.show()"
   ]
  },
  {
   "cell_type": "code",
   "execution_count": 110,
   "metadata": {},
   "outputs": [],
   "source": [
    "random_r2=[]\n",
    "for i in range(1,50):\n",
    "    trials=[]\n",
    "    for ii in range(100):\n",
    "        trials.append(metrics.r2_score(np.random.normal(size=i),np.random.uniform(size=i)))\n",
    "    random_r2.append(np.mean(trials))"
   ]
  },
  {
   "cell_type": "code",
   "execution_count": 142,
   "metadata": {},
   "outputs": [
    {
     "data": {
      "text/plain": [
       "[<matplotlib.lines.Line2D at 0xfa217f25f8>]"
      ]
     },
     "execution_count": 142,
     "metadata": {},
     "output_type": "execute_result"
    },
    {
     "data": {
      "image/png": "[encoded data removed]",
      "text/plain": [
       "<Figure size 432x288 with 1 Axes>"
      ]
     },
     "metadata": {
      "needs_background": "light"
     },
     "output_type": "display_data"
    }
   ],
   "source": [
    "plt.plot(random_r2)"
   ]
  },
  {
   "cell_type": "markdown",
   "metadata": {},
   "source": [
    "We will begin by building simple baseline models for our dataset. We will start with 3 baseline models: linear regression, k-nearest neighbours and decision trees. Build a simple regression model for each of them. Evaluate and report their performance, and identify the best model by preliminary performance."
   ]
  },
  {
   "cell_type": "markdown",
   "metadata": {},
   "source": [
    "## 3.1 Linear Regression"
   ]
  },
  {
   "cell_type": "code",
   "execution_count": 72,
   "metadata": {},
   "outputs": [
    {
     "name": "stdout",
     "output_type": "stream",
     "text": [
      "[-12.48065021 -26.09620267 -33.11995587 -80.83305378 -33.58435565]\n"
     ]
    },
    {
     "data": {
      "text/plain": [
       "-37.222843637138396"
      ]
     },
     "execution_count": 72,
     "metadata": {},
     "output_type": "execute_result"
    }
   ],
   "source": [
    "def linear_regression_test():\n",
    "    lr = LinearRegression()\n",
    "    X=df_raw.drop('target',axis=1)\n",
    "    y=df_raw['target']\n",
    "    results = model_selection.cross_val_score(lr,X,y,cv=5,scoring='neg_mean_squared_error')\n",
    "    print(results)\n",
    "    return(results)\n",
    "print(np.mean(linear_regression_test()),np.std(linear_regression_test()))"
   ]
  },
  {
   "cell_type": "markdown",
   "metadata": {},
   "source": [
    "## 3.2 K-Nearest Neighbours"
   ]
  },
  {
   "cell_type": "code",
   "execution_count": 71,
   "metadata": {},
   "outputs": [
    {
     "name": "stdout",
     "output_type": "stream",
     "text": [
      "[ -72.84204314  -77.44044752 -114.19790495  -89.00506931  -31.22948515]\n"
     ]
    },
    {
     "data": {
      "text/plain": [
       "-76.9429900135896"
      ]
     },
     "execution_count": 71,
     "metadata": {},
     "output_type": "execute_result"
    }
   ],
   "source": [
    "def knn_regression_test():\n",
    "    knn = neighbors.KNeighborsRegressor()\n",
    "    X=df_raw.drop('target',axis=1)\n",
    "    y=df_raw['target']\n",
    "    results = model_selection.cross_val_score(knn,X,y,cv=5,scoring='neg_mean_squared_error')\n",
    "    print(results)\n",
    "    return results\n",
    "np.mean(knn_regression_test())\n"
   ]
  },
  {
   "cell_type": "markdown",
   "metadata": {},
   "source": [
    "## 3.3 Decision Tree"
   ]
  },
  {
   "cell_type": "code",
   "execution_count": 75,
   "metadata": {},
   "outputs": [
    {
     "name": "stdout",
     "output_type": "stream",
     "text": [
      "[-12.2095098  -51.84683168 -28.97920792 -55.12841584 -65.68683168]\n"
     ]
    },
    {
     "data": {
      "text/plain": [
       "-42.770159386526885"
      ]
     },
     "execution_count": 75,
     "metadata": {},
     "output_type": "execute_result"
    }
   ],
   "source": [
    "def tree_regression_test():\n",
    "    dt = tree.DecisionTreeRegressor()\n",
    "    X=df_raw.drop('target',axis=1)\n",
    "    y=df_raw['target']\n",
    "    results = model_selection.cross_val_score(dt,X,y,cv=5,scoring='neg_mean_squared_error')\n",
    "    print(results)\n",
    "    return results\n",
    "np.mean(tree_regression_test())"
   ]
  },
  {
   "cell_type": "markdown",
   "metadata": {},
   "source": [
    "## Theoretical Considerations"
   ]
  },
  {
   "cell_type": "markdown",
   "metadata": {},
   "source": [
    "How do we ensure that our models are reliably evaluated? Specifically, in the area of out-of-sample validation, how do we decide to use `train_test_split` vs `cross_val_score`?"
   ]
  },
  {
   "cell_type": "markdown",
   "metadata": {},
   "source": [
    "<font color='blue'>Using the cross_val_score ensures that all your data is used for training, and can be a very robust method to obtain model accuracy. However, there is a strong assumption that all your data points are uncorrelated with each other. In the situation where you are using data that has a strong autocorrelation (e.g. in time series modelling), splitting the model using cross validation might be a better idea since you can train only on data before a certain point in time, then evaluate on points after.</font>"
   ]
  },
  {
   "cell_type": "markdown",
   "metadata": {},
   "source": [
    "Given that the dataset has only ~500 rows of data, what are the challenges we face, and how can we best mitigate these issues?"
   ]
  },
  {
   "cell_type": "markdown",
   "metadata": {},
   "source": [
    "<font color='blue'>The challenge is that there may be too little data points to build a robust model. The datapoints might not cover the full range of 'real' values, and might have a distribution that is not the same as the population. Use bootstrapping to create artificially train on differnt distributions of the training data. We can also tend towards less complex models with fewer hyperparameters to reduce the chances of overfitting on the data. We can also go get more data points.</font>"
   ]
  },
  {
   "cell_type": "markdown",
   "metadata": {},
   "source": [
    "# 4. Hyperparameter exploration"
   ]
  },
  {
   "cell_type": "markdown",
   "metadata": {},
   "source": [
    "We will now start to look at hyperparameters for these models. Considering between the 3 models, k-nearest neighbours probably has the least hyperparameters to tune, and is also the simplest computationally. Hence, let's start with k-nearest neighbours. You might not want to try all of these parameters, considering limited time. This is a good time to do some research with respect to what parameters to optimise.\n",
    "\n",
    "When conducting a parameter search, the idea of grid search immediately comes to mind. Why do we usually use grid search, and in what situations should we use other search options?"
   ]
  },
  {
   "cell_type": "markdown",
   "metadata": {},
   "source": [
    "<font color='blue'>Grid search enables us to exhaustively search all hyperparameters. It is usful because the hyperparameter space may not necessarily be smooth, hence optimization techniques may not necessarily work. In addition, certain hyperparameters are categorical, so it may totally change the results when categories change, and the other hyperparameters might not continue to work.  \n",
    "    <br>\n",
    "If there are too many hyperparameters to tune, we could also use random search to randomly select a combination of hyperparameters and to see which works best.</font>"
   ]
  },
  {
   "cell_type": "markdown",
   "metadata": {},
   "source": [
    "Why do we not use gradient descent to identify the right parameters?"
   ]
  },
  {
   "cell_type": "markdown",
   "metadata": {},
   "source": [
    "<font color='blue'>Hyperparameter tuning is not smooth and not convex. The convergence theory in gradient desent assumes that the space is convex. As a result you will likely not converge to some minimum. The extreme non-smoothness also means you are very likely to end up in some local optimal.</font>"
   ]
  },
  {
   "cell_type": "markdown",
   "metadata": {},
   "source": [
    "## 4.1 KNN"
   ]
  },
  {
   "cell_type": "code",
   "execution_count": 314,
   "metadata": {
    "scrolled": true
   },
   "outputs": [
    {
     "data": {
      "text/plain": [
       "{'algorithm': 'auto',\n",
       " 'leaf_size': 30,\n",
       " 'metric': 'minkowski',\n",
       " 'metric_params': None,\n",
       " 'n_jobs': 1,\n",
       " 'n_neighbors': 5,\n",
       " 'p': 2,\n",
       " 'weights': 'uniform'}"
      ]
     },
     "execution_count": 314,
     "metadata": {},
     "output_type": "execute_result"
    }
   ],
   "source": [
    "neighbors.KNeighborsRegressor().get_params()"
   ]
  },
  {
   "cell_type": "markdown",
   "metadata": {},
   "source": [
    "<font color='blue'>Weights: uniform or distance based. KNN works by taking the average value of K neighbours to make the prediction. if the weights are uniform, each value is treated equally. In distance, the K points are weighed by the distance to the query point with closer points having a higher weight than further ones.  \n",
    "p: assuming the default minkowski metric is used, p determines the power parameter for minkowski metric distance calculation. 1 is the mahatten distance, and 2 is euclidean distance.</font>"
   ]
  },
  {
   "cell_type": "markdown",
   "metadata": {},
   "source": [
    "Apart from the `n_neighbors` and `n_jobs` parameters, pick out 1-2 more which you are unfamiliar with and do some research. Explain what they do with language intended for a lay person. You may also wish to spend some time thinking about how you might want to implement such a model algorithmically."
   ]
  },
  {
   "cell_type": "code",
   "execution_count": null,
   "metadata": {},
   "outputs": [],
   "source": []
  },
  {
   "cell_type": "markdown",
   "metadata": {},
   "source": [
    "## 4.2 Decision Trees"
   ]
  },
  {
   "cell_type": "markdown",
   "metadata": {},
   "source": [
    "Now we can proceed to a more complicated model, try to tune the hyperparameter of a decision tree regressor."
   ]
  },
  {
   "cell_type": "code",
   "execution_count": 163,
   "metadata": {},
   "outputs": [
    {
     "data": {
      "text/plain": [
       "{'criterion': 'mse',\n",
       " 'max_depth': None,\n",
       " 'max_features': None,\n",
       " 'max_leaf_nodes': None,\n",
       " 'min_impurity_decrease': 0.0,\n",
       " 'min_impurity_split': None,\n",
       " 'min_samples_leaf': 1,\n",
       " 'min_samples_split': 2,\n",
       " 'min_weight_fraction_leaf': 0.0,\n",
       " 'presort': False,\n",
       " 'random_state': None,\n",
       " 'splitter': 'best'}"
      ]
     },
     "execution_count": 163,
     "metadata": {},
     "output_type": "execute_result"
    }
   ],
   "source": [
    "tree.DecisionTreeRegressor().get_params()"
   ]
  },
  {
   "cell_type": "code",
   "execution_count": 521,
   "metadata": {},
   "outputs": [
    {
     "data": {
      "text/plain": [
       "RandomizedSearchCV(cv=5, error_score='raise',\n",
       "          estimator=DecisionTreeRegressor(criterion='mse', max_depth=None, max_features=None,\n",
       "           max_leaf_nodes=None, min_impurity_decrease=0.0,\n",
       "           min_impurity_split=None, min_samples_leaf=1,\n",
       "           min_samples_split=2, min_weight_fraction_leaf=0.0,\n",
       "           presort=False, random_state=None, splitter='best'),\n",
       "          fit_params=None, iid=True, n_iter=1000, n_jobs=1,\n",
       "          param_distributions={'criterion': ['friedman_mse', 'mse', 'mae'], 'max_depth': <scipy.stats._distn_infrastructure.rv_frozen object at 0x000000FA317910B8>, 'max_features': ['auto', 'sqrt', 'log2'], 'max_leaf_nodes': <scipy.stats._distn_infrastructure.rv_frozen object at 0x000000FA3176DEF0>, 'min_impu...stats._distn_infrastructure.rv_frozen object at 0x000000FA31840F28>, 'splitter': ['best', 'random']},\n",
       "          pre_dispatch='2*n_jobs', random_state=None, refit=True,\n",
       "          return_train_score='warn', scoring='r2', verbose=0)"
      ]
     },
     "execution_count": 521,
     "metadata": {},
     "output_type": "execute_result"
    }
   ],
   "source": [
    "from scipy.stats import randint\n",
    "param_dict = {\"criterion\": ['friedman_mse','mse','mae'],\n",
    "              \"max_depth\": randint(1, 100),\n",
    "              \"max_features\": ['auto','sqrt','log2'],\n",
    "              \"max_leaf_nodes\": randint(2,100),\n",
    "              \"min_impurity_decrease\": randint(0,999),\n",
    "              \"min_samples_split\":randint(2,100),\n",
    "              \"splitter\":['best','random']\n",
    "             }\n",
    "rt = tree.DecisionTreeRegressor()\n",
    "grid = model_selection.RandomizedSearchCV(rt,param_dict,n_iter=1000,scoring='r2',cv=5)\n",
    "grid.fit(df_raw.drop('target',axis=1),df_raw['target'])\n"
   ]
  },
  {
   "cell_type": "code",
   "execution_count": 522,
   "metadata": {},
   "outputs": [
    {
     "name": "stderr",
     "output_type": "stream",
     "text": [
      "C:\\Users\\likkhian\\Anaconda3\\lib\\site-packages\\sklearn\\utils\\deprecation.py:122: FutureWarning: You are accessing a training score ('split0_train_score'), which will not be available by default any more in 0.21. If you need training scores, please set return_train_score=True\n",
      "  warnings.warn(*warn_args, **warn_kwargs)\n",
      "C:\\Users\\likkhian\\Anaconda3\\lib\\site-packages\\sklearn\\utils\\deprecation.py:122: FutureWarning: You are accessing a training score ('split1_train_score'), which will not be available by default any more in 0.21. If you need training scores, please set return_train_score=True\n",
      "  warnings.warn(*warn_args, **warn_kwargs)\n",
      "C:\\Users\\likkhian\\Anaconda3\\lib\\site-packages\\sklearn\\utils\\deprecation.py:122: FutureWarning: You are accessing a training score ('split2_train_score'), which will not be available by default any more in 0.21. If you need training scores, please set return_train_score=True\n",
      "  warnings.warn(*warn_args, **warn_kwargs)\n",
      "C:\\Users\\likkhian\\Anaconda3\\lib\\site-packages\\sklearn\\utils\\deprecation.py:122: FutureWarning: You are accessing a training score ('split3_train_score'), which will not be available by default any more in 0.21. If you need training scores, please set return_train_score=True\n",
      "  warnings.warn(*warn_args, **warn_kwargs)\n",
      "C:\\Users\\likkhian\\Anaconda3\\lib\\site-packages\\sklearn\\utils\\deprecation.py:122: FutureWarning: You are accessing a training score ('split4_train_score'), which will not be available by default any more in 0.21. If you need training scores, please set return_train_score=True\n",
      "  warnings.warn(*warn_args, **warn_kwargs)\n",
      "C:\\Users\\likkhian\\Anaconda3\\lib\\site-packages\\sklearn\\utils\\deprecation.py:122: FutureWarning: You are accessing a training score ('mean_train_score'), which will not be available by default any more in 0.21. If you need training scores, please set return_train_score=True\n",
      "  warnings.warn(*warn_args, **warn_kwargs)\n",
      "C:\\Users\\likkhian\\Anaconda3\\lib\\site-packages\\sklearn\\utils\\deprecation.py:122: FutureWarning: You are accessing a training score ('std_train_score'), which will not be available by default any more in 0.21. If you need training scores, please set return_train_score=True\n",
      "  warnings.warn(*warn_args, **warn_kwargs)\n"
     ]
    },
    {
     "data": {
      "text/html": [
       "<div>\n",
       "<style scoped>\n",
       "    .dataframe tbody tr th:only-of-type {\n",
       "        vertical-align: middle;\n",
       "    }\n",
       "\n",
       "    .dataframe tbody tr th {\n",
       "        vertical-align: top;\n",
       "    }\n",
       "\n",
       "    .dataframe thead th {\n",
       "        text-align: right;\n",
       "    }\n",
       "</style>\n",
       "<table border=\"1\" class=\"dataframe\">\n",
       "  <thead>\n",
       "    <tr style=\"text-align: right;\">\n",
       "      <th></th>\n",
       "      <th>mean_fit_time</th>\n",
       "      <th>std_fit_time</th>\n",
       "      <th>mean_score_time</th>\n",
       "      <th>std_score_time</th>\n",
       "      <th>param_criterion</th>\n",
       "      <th>param_max_depth</th>\n",
       "      <th>param_max_features</th>\n",
       "      <th>param_max_leaf_nodes</th>\n",
       "      <th>param_min_impurity_decrease</th>\n",
       "      <th>param_min_samples_split</th>\n",
       "      <th>...</th>\n",
       "      <th>mean_test_score</th>\n",
       "      <th>std_test_score</th>\n",
       "      <th>rank_test_score</th>\n",
       "      <th>split0_train_score</th>\n",
       "      <th>split1_train_score</th>\n",
       "      <th>split2_train_score</th>\n",
       "      <th>split3_train_score</th>\n",
       "      <th>split4_train_score</th>\n",
       "      <th>mean_train_score</th>\n",
       "      <th>std_train_score</th>\n",
       "    </tr>\n",
       "  </thead>\n",
       "  <tbody>\n",
       "    <tr>\n",
       "      <th>234</th>\n",
       "      <td>0.001401</td>\n",
       "      <td>4.901545e-04</td>\n",
       "      <td>0.000200</td>\n",
       "      <td>4.001617e-04</td>\n",
       "      <td>friedman_mse</td>\n",
       "      <td>74</td>\n",
       "      <td>auto</td>\n",
       "      <td>65</td>\n",
       "      <td>99</td>\n",
       "      <td>43</td>\n",
       "      <td>...</td>\n",
       "      <td>0.479803</td>\n",
       "      <td>0.188147</td>\n",
       "      <td>1</td>\n",
       "      <td>0.807135</td>\n",
       "      <td>0.764425</td>\n",
       "      <td>0.712270</td>\n",
       "      <td>0.835183</td>\n",
       "      <td>0.809518</td>\n",
       "      <td>0.785706</td>\n",
       "      <td>0.043174</td>\n",
       "    </tr>\n",
       "    <tr>\n",
       "      <th>571</th>\n",
       "      <td>0.001401</td>\n",
       "      <td>4.911096e-04</td>\n",
       "      <td>0.000200</td>\n",
       "      <td>4.002571e-04</td>\n",
       "      <td>friedman_mse</td>\n",
       "      <td>8</td>\n",
       "      <td>auto</td>\n",
       "      <td>37</td>\n",
       "      <td>788</td>\n",
       "      <td>83</td>\n",
       "      <td>...</td>\n",
       "      <td>0.445996</td>\n",
       "      <td>0.270390</td>\n",
       "      <td>2</td>\n",
       "      <td>0.727152</td>\n",
       "      <td>0.678101</td>\n",
       "      <td>0.597042</td>\n",
       "      <td>0.715609</td>\n",
       "      <td>0.816772</td>\n",
       "      <td>0.706935</td>\n",
       "      <td>0.071353</td>\n",
       "    </tr>\n",
       "    <tr>\n",
       "      <th>28</th>\n",
       "      <td>0.001802</td>\n",
       "      <td>7.487497e-04</td>\n",
       "      <td>0.000400</td>\n",
       "      <td>4.900961e-04</td>\n",
       "      <td>friedman_mse</td>\n",
       "      <td>8</td>\n",
       "      <td>auto</td>\n",
       "      <td>82</td>\n",
       "      <td>789</td>\n",
       "      <td>61</td>\n",
       "      <td>...</td>\n",
       "      <td>0.445541</td>\n",
       "      <td>0.300713</td>\n",
       "      <td>3</td>\n",
       "      <td>0.710290</td>\n",
       "      <td>0.701029</td>\n",
       "      <td>0.754817</td>\n",
       "      <td>0.693163</td>\n",
       "      <td>0.785924</td>\n",
       "      <td>0.729045</td>\n",
       "      <td>0.035563</td>\n",
       "    </tr>\n",
       "    <tr>\n",
       "      <th>85</th>\n",
       "      <td>0.002002</td>\n",
       "      <td>1.210077e-06</td>\n",
       "      <td>0.000000</td>\n",
       "      <td>0.000000e+00</td>\n",
       "      <td>friedman_mse</td>\n",
       "      <td>99</td>\n",
       "      <td>auto</td>\n",
       "      <td>90</td>\n",
       "      <td>237</td>\n",
       "      <td>63</td>\n",
       "      <td>...</td>\n",
       "      <td>0.439784</td>\n",
       "      <td>0.257858</td>\n",
       "      <td>4</td>\n",
       "      <td>0.708235</td>\n",
       "      <td>0.761502</td>\n",
       "      <td>0.649735</td>\n",
       "      <td>0.789151</td>\n",
       "      <td>0.720307</td>\n",
       "      <td>0.725786</td>\n",
       "      <td>0.047776</td>\n",
       "    </tr>\n",
       "    <tr>\n",
       "      <th>725</th>\n",
       "      <td>0.001201</td>\n",
       "      <td>4.002333e-04</td>\n",
       "      <td>0.000400</td>\n",
       "      <td>4.902712e-04</td>\n",
       "      <td>friedman_mse</td>\n",
       "      <td>27</td>\n",
       "      <td>auto</td>\n",
       "      <td>89</td>\n",
       "      <td>946</td>\n",
       "      <td>94</td>\n",
       "      <td>...</td>\n",
       "      <td>0.435316</td>\n",
       "      <td>0.278449</td>\n",
       "      <td>5</td>\n",
       "      <td>0.701479</td>\n",
       "      <td>0.679703</td>\n",
       "      <td>0.560208</td>\n",
       "      <td>0.681567</td>\n",
       "      <td>0.746892</td>\n",
       "      <td>0.673970</td>\n",
       "      <td>0.061817</td>\n",
       "    </tr>\n",
       "    <tr>\n",
       "      <th>992</th>\n",
       "      <td>0.001802</td>\n",
       "      <td>4.003770e-04</td>\n",
       "      <td>0.000000</td>\n",
       "      <td>0.000000e+00</td>\n",
       "      <td>friedman_mse</td>\n",
       "      <td>77</td>\n",
       "      <td>sqrt</td>\n",
       "      <td>83</td>\n",
       "      <td>567</td>\n",
       "      <td>93</td>\n",
       "      <td>...</td>\n",
       "      <td>0.430515</td>\n",
       "      <td>0.180864</td>\n",
       "      <td>6</td>\n",
       "      <td>0.759067</td>\n",
       "      <td>0.668002</td>\n",
       "      <td>0.674721</td>\n",
       "      <td>0.689590</td>\n",
       "      <td>0.484646</td>\n",
       "      <td>0.655205</td>\n",
       "      <td>0.091219</td>\n",
       "    </tr>\n",
       "    <tr>\n",
       "      <th>865</th>\n",
       "      <td>0.001401</td>\n",
       "      <td>4.901739e-04</td>\n",
       "      <td>0.000200</td>\n",
       "      <td>4.002571e-04</td>\n",
       "      <td>friedman_mse</td>\n",
       "      <td>25</td>\n",
       "      <td>auto</td>\n",
       "      <td>16</td>\n",
       "      <td>207</td>\n",
       "      <td>89</td>\n",
       "      <td>...</td>\n",
       "      <td>0.423422</td>\n",
       "      <td>0.251387</td>\n",
       "      <td>7</td>\n",
       "      <td>0.745147</td>\n",
       "      <td>0.717241</td>\n",
       "      <td>0.664653</td>\n",
       "      <td>0.728408</td>\n",
       "      <td>0.747410</td>\n",
       "      <td>0.720572</td>\n",
       "      <td>0.030079</td>\n",
       "    </tr>\n",
       "    <tr>\n",
       "      <th>711</th>\n",
       "      <td>0.002001</td>\n",
       "      <td>2.431402e-07</td>\n",
       "      <td>0.000200</td>\n",
       "      <td>4.001617e-04</td>\n",
       "      <td>friedman_mse</td>\n",
       "      <td>87</td>\n",
       "      <td>log2</td>\n",
       "      <td>65</td>\n",
       "      <td>347</td>\n",
       "      <td>5</td>\n",
       "      <td>...</td>\n",
       "      <td>0.417432</td>\n",
       "      <td>0.423817</td>\n",
       "      <td>8</td>\n",
       "      <td>0.836940</td>\n",
       "      <td>0.810572</td>\n",
       "      <td>0.709444</td>\n",
       "      <td>0.798483</td>\n",
       "      <td>0.841186</td>\n",
       "      <td>0.799325</td>\n",
       "      <td>0.047693</td>\n",
       "    </tr>\n",
       "    <tr>\n",
       "      <th>996</th>\n",
       "      <td>0.002002</td>\n",
       "      <td>1.469711e-06</td>\n",
       "      <td>0.000000</td>\n",
       "      <td>0.000000e+00</td>\n",
       "      <td>friedman_mse</td>\n",
       "      <td>19</td>\n",
       "      <td>auto</td>\n",
       "      <td>15</td>\n",
       "      <td>128</td>\n",
       "      <td>83</td>\n",
       "      <td>...</td>\n",
       "      <td>0.417173</td>\n",
       "      <td>0.229809</td>\n",
       "      <td>9</td>\n",
       "      <td>0.661564</td>\n",
       "      <td>0.775270</td>\n",
       "      <td>0.528396</td>\n",
       "      <td>0.765255</td>\n",
       "      <td>0.643290</td>\n",
       "      <td>0.674755</td>\n",
       "      <td>0.090420</td>\n",
       "    </tr>\n",
       "    <tr>\n",
       "      <th>926</th>\n",
       "      <td>0.001001</td>\n",
       "      <td>2.336015e-07</td>\n",
       "      <td>0.001001</td>\n",
       "      <td>8.064048e-07</td>\n",
       "      <td>friedman_mse</td>\n",
       "      <td>42</td>\n",
       "      <td>sqrt</td>\n",
       "      <td>46</td>\n",
       "      <td>534</td>\n",
       "      <td>19</td>\n",
       "      <td>...</td>\n",
       "      <td>0.417130</td>\n",
       "      <td>0.345767</td>\n",
       "      <td>10</td>\n",
       "      <td>0.850678</td>\n",
       "      <td>0.729194</td>\n",
       "      <td>0.702506</td>\n",
       "      <td>0.710793</td>\n",
       "      <td>0.715468</td>\n",
       "      <td>0.741728</td>\n",
       "      <td>0.055158</td>\n",
       "    </tr>\n",
       "    <tr>\n",
       "      <th>667</th>\n",
       "      <td>0.001001</td>\n",
       "      <td>9.536743e-08</td>\n",
       "      <td>0.001001</td>\n",
       "      <td>1.907349e-07</td>\n",
       "      <td>friedman_mse</td>\n",
       "      <td>14</td>\n",
       "      <td>auto</td>\n",
       "      <td>62</td>\n",
       "      <td>172</td>\n",
       "      <td>13</td>\n",
       "      <td>...</td>\n",
       "      <td>0.415614</td>\n",
       "      <td>0.199987</td>\n",
       "      <td>11</td>\n",
       "      <td>0.848620</td>\n",
       "      <td>0.786475</td>\n",
       "      <td>0.786881</td>\n",
       "      <td>0.846634</td>\n",
       "      <td>0.857628</td>\n",
       "      <td>0.825248</td>\n",
       "      <td>0.031710</td>\n",
       "    </tr>\n",
       "    <tr>\n",
       "      <th>135</th>\n",
       "      <td>0.001602</td>\n",
       "      <td>4.907619e-04</td>\n",
       "      <td>0.000200</td>\n",
       "      <td>4.002571e-04</td>\n",
       "      <td>friedman_mse</td>\n",
       "      <td>63</td>\n",
       "      <td>auto</td>\n",
       "      <td>52</td>\n",
       "      <td>899</td>\n",
       "      <td>71</td>\n",
       "      <td>...</td>\n",
       "      <td>0.410524</td>\n",
       "      <td>0.220335</td>\n",
       "      <td>12</td>\n",
       "      <td>0.702449</td>\n",
       "      <td>0.590923</td>\n",
       "      <td>0.650882</td>\n",
       "      <td>0.728553</td>\n",
       "      <td>0.677137</td>\n",
       "      <td>0.669989</td>\n",
       "      <td>0.047225</td>\n",
       "    </tr>\n",
       "    <tr>\n",
       "      <th>594</th>\n",
       "      <td>0.001401</td>\n",
       "      <td>4.902129e-04</td>\n",
       "      <td>0.000400</td>\n",
       "      <td>4.901544e-04</td>\n",
       "      <td>friedman_mse</td>\n",
       "      <td>68</td>\n",
       "      <td>auto</td>\n",
       "      <td>46</td>\n",
       "      <td>879</td>\n",
       "      <td>14</td>\n",
       "      <td>...</td>\n",
       "      <td>0.407023</td>\n",
       "      <td>0.207916</td>\n",
       "      <td>13</td>\n",
       "      <td>0.777368</td>\n",
       "      <td>0.682299</td>\n",
       "      <td>0.704992</td>\n",
       "      <td>0.743234</td>\n",
       "      <td>0.694530</td>\n",
       "      <td>0.720485</td>\n",
       "      <td>0.035000</td>\n",
       "    </tr>\n",
       "    <tr>\n",
       "      <th>354</th>\n",
       "      <td>0.002001</td>\n",
       "      <td>6.334658e-04</td>\n",
       "      <td>0.000201</td>\n",
       "      <td>4.011154e-04</td>\n",
       "      <td>friedman_mse</td>\n",
       "      <td>39</td>\n",
       "      <td>log2</td>\n",
       "      <td>43</td>\n",
       "      <td>366</td>\n",
       "      <td>73</td>\n",
       "      <td>...</td>\n",
       "      <td>0.401484</td>\n",
       "      <td>0.177585</td>\n",
       "      <td>14</td>\n",
       "      <td>0.556493</td>\n",
       "      <td>0.728643</td>\n",
       "      <td>0.678280</td>\n",
       "      <td>0.831253</td>\n",
       "      <td>0.692026</td>\n",
       "      <td>0.697339</td>\n",
       "      <td>0.088478</td>\n",
       "    </tr>\n",
       "    <tr>\n",
       "      <th>723</th>\n",
       "      <td>0.001201</td>\n",
       "      <td>4.003763e-04</td>\n",
       "      <td>0.000400</td>\n",
       "      <td>4.902128e-04</td>\n",
       "      <td>friedman_mse</td>\n",
       "      <td>16</td>\n",
       "      <td>auto</td>\n",
       "      <td>4</td>\n",
       "      <td>597</td>\n",
       "      <td>65</td>\n",
       "      <td>...</td>\n",
       "      <td>0.385921</td>\n",
       "      <td>0.229464</td>\n",
       "      <td>15</td>\n",
       "      <td>0.521378</td>\n",
       "      <td>0.635946</td>\n",
       "      <td>0.535480</td>\n",
       "      <td>0.697375</td>\n",
       "      <td>0.378566</td>\n",
       "      <td>0.553749</td>\n",
       "      <td>0.109046</td>\n",
       "    </tr>\n",
       "    <tr>\n",
       "      <th>496</th>\n",
       "      <td>0.001401</td>\n",
       "      <td>4.903492e-04</td>\n",
       "      <td>0.000600</td>\n",
       "      <td>4.901350e-04</td>\n",
       "      <td>friedman_mse</td>\n",
       "      <td>65</td>\n",
       "      <td>auto</td>\n",
       "      <td>50</td>\n",
       "      <td>510</td>\n",
       "      <td>23</td>\n",
       "      <td>...</td>\n",
       "      <td>0.378020</td>\n",
       "      <td>0.393095</td>\n",
       "      <td>16</td>\n",
       "      <td>0.725670</td>\n",
       "      <td>0.733430</td>\n",
       "      <td>0.664021</td>\n",
       "      <td>0.795861</td>\n",
       "      <td>0.824024</td>\n",
       "      <td>0.748601</td>\n",
       "      <td>0.056271</td>\n",
       "    </tr>\n",
       "    <tr>\n",
       "      <th>859</th>\n",
       "      <td>0.001001</td>\n",
       "      <td>7.629395e-07</td>\n",
       "      <td>0.001001</td>\n",
       "      <td>1.168008e-07</td>\n",
       "      <td>friedman_mse</td>\n",
       "      <td>35</td>\n",
       "      <td>sqrt</td>\n",
       "      <td>70</td>\n",
       "      <td>985</td>\n",
       "      <td>18</td>\n",
       "      <td>...</td>\n",
       "      <td>0.376510</td>\n",
       "      <td>0.239459</td>\n",
       "      <td>17</td>\n",
       "      <td>0.658879</td>\n",
       "      <td>0.707029</td>\n",
       "      <td>0.701520</td>\n",
       "      <td>0.800276</td>\n",
       "      <td>0.766457</td>\n",
       "      <td>0.726832</td>\n",
       "      <td>0.050229</td>\n",
       "    </tr>\n",
       "    <tr>\n",
       "      <th>529</th>\n",
       "      <td>0.001201</td>\n",
       "      <td>4.003286e-04</td>\n",
       "      <td>0.000400</td>\n",
       "      <td>4.902712e-04</td>\n",
       "      <td>friedman_mse</td>\n",
       "      <td>74</td>\n",
       "      <td>auto</td>\n",
       "      <td>37</td>\n",
       "      <td>704</td>\n",
       "      <td>34</td>\n",
       "      <td>...</td>\n",
       "      <td>0.372569</td>\n",
       "      <td>0.325047</td>\n",
       "      <td>18</td>\n",
       "      <td>0.767375</td>\n",
       "      <td>0.735266</td>\n",
       "      <td>0.599479</td>\n",
       "      <td>0.731155</td>\n",
       "      <td>0.723889</td>\n",
       "      <td>0.711433</td>\n",
       "      <td>0.057923</td>\n",
       "    </tr>\n",
       "    <tr>\n",
       "      <th>87</th>\n",
       "      <td>0.001601</td>\n",
       "      <td>4.901350e-04</td>\n",
       "      <td>0.000200</td>\n",
       "      <td>4.002571e-04</td>\n",
       "      <td>friedman_mse</td>\n",
       "      <td>99</td>\n",
       "      <td>auto</td>\n",
       "      <td>54</td>\n",
       "      <td>510</td>\n",
       "      <td>58</td>\n",
       "      <td>...</td>\n",
       "      <td>0.367126</td>\n",
       "      <td>0.283603</td>\n",
       "      <td>19</td>\n",
       "      <td>0.705545</td>\n",
       "      <td>0.647485</td>\n",
       "      <td>0.608460</td>\n",
       "      <td>0.712677</td>\n",
       "      <td>0.684827</td>\n",
       "      <td>0.671799</td>\n",
       "      <td>0.038942</td>\n",
       "    </tr>\n",
       "    <tr>\n",
       "      <th>417</th>\n",
       "      <td>0.002401</td>\n",
       "      <td>4.904662e-04</td>\n",
       "      <td>0.000200</td>\n",
       "      <td>4.002571e-04</td>\n",
       "      <td>friedman_mse</td>\n",
       "      <td>39</td>\n",
       "      <td>auto</td>\n",
       "      <td>10</td>\n",
       "      <td>745</td>\n",
       "      <td>41</td>\n",
       "      <td>...</td>\n",
       "      <td>0.364061</td>\n",
       "      <td>0.440852</td>\n",
       "      <td>20</td>\n",
       "      <td>0.853194</td>\n",
       "      <td>0.842285</td>\n",
       "      <td>0.764184</td>\n",
       "      <td>0.829793</td>\n",
       "      <td>0.827420</td>\n",
       "      <td>0.823375</td>\n",
       "      <td>0.031010</td>\n",
       "    </tr>\n",
       "    <tr>\n",
       "      <th>307</th>\n",
       "      <td>0.002201</td>\n",
       "      <td>4.002571e-04</td>\n",
       "      <td>0.000801</td>\n",
       "      <td>4.002571e-04</td>\n",
       "      <td>friedman_mse</td>\n",
       "      <td>48</td>\n",
       "      <td>auto</td>\n",
       "      <td>19</td>\n",
       "      <td>311</td>\n",
       "      <td>55</td>\n",
       "      <td>...</td>\n",
       "      <td>0.361746</td>\n",
       "      <td>0.446534</td>\n",
       "      <td>21</td>\n",
       "      <td>0.867667</td>\n",
       "      <td>0.818745</td>\n",
       "      <td>0.802149</td>\n",
       "      <td>0.862397</td>\n",
       "      <td>0.873507</td>\n",
       "      <td>0.844893</td>\n",
       "      <td>0.028826</td>\n",
       "    </tr>\n",
       "    <tr>\n",
       "      <th>181</th>\n",
       "      <td>0.001401</td>\n",
       "      <td>4.905049e-04</td>\n",
       "      <td>0.000801</td>\n",
       "      <td>4.004723e-04</td>\n",
       "      <td>friedman_mse</td>\n",
       "      <td>53</td>\n",
       "      <td>auto</td>\n",
       "      <td>92</td>\n",
       "      <td>268</td>\n",
       "      <td>42</td>\n",
       "      <td>...</td>\n",
       "      <td>0.359422</td>\n",
       "      <td>0.422002</td>\n",
       "      <td>22</td>\n",
       "      <td>0.763247</td>\n",
       "      <td>0.831425</td>\n",
       "      <td>0.655611</td>\n",
       "      <td>0.806848</td>\n",
       "      <td>0.771504</td>\n",
       "      <td>0.765727</td>\n",
       "      <td>0.060286</td>\n",
       "    </tr>\n",
       "    <tr>\n",
       "      <th>490</th>\n",
       "      <td>0.001601</td>\n",
       "      <td>8.003593e-04</td>\n",
       "      <td>0.000600</td>\n",
       "      <td>4.902518e-04</td>\n",
       "      <td>friedman_mse</td>\n",
       "      <td>27</td>\n",
       "      <td>sqrt</td>\n",
       "      <td>72</td>\n",
       "      <td>681</td>\n",
       "      <td>32</td>\n",
       "      <td>...</td>\n",
       "      <td>0.349377</td>\n",
       "      <td>0.250464</td>\n",
       "      <td>23</td>\n",
       "      <td>0.743341</td>\n",
       "      <td>0.761494</td>\n",
       "      <td>0.657168</td>\n",
       "      <td>0.703808</td>\n",
       "      <td>0.775570</td>\n",
       "      <td>0.728276</td>\n",
       "      <td>0.042947</td>\n",
       "    </tr>\n",
       "    <tr>\n",
       "      <th>704</th>\n",
       "      <td>0.002601</td>\n",
       "      <td>4.896898e-04</td>\n",
       "      <td>0.000200</td>\n",
       "      <td>4.000664e-04</td>\n",
       "      <td>friedman_mse</td>\n",
       "      <td>66</td>\n",
       "      <td>auto</td>\n",
       "      <td>96</td>\n",
       "      <td>850</td>\n",
       "      <td>8</td>\n",
       "      <td>...</td>\n",
       "      <td>0.345766</td>\n",
       "      <td>0.431176</td>\n",
       "      <td>24</td>\n",
       "      <td>0.853194</td>\n",
       "      <td>0.819180</td>\n",
       "      <td>0.797220</td>\n",
       "      <td>0.829793</td>\n",
       "      <td>0.827420</td>\n",
       "      <td>0.825361</td>\n",
       "      <td>0.018048</td>\n",
       "    </tr>\n",
       "    <tr>\n",
       "      <th>823</th>\n",
       "      <td>0.001201</td>\n",
       "      <td>4.002333e-04</td>\n",
       "      <td>0.000600</td>\n",
       "      <td>4.901740e-04</td>\n",
       "      <td>friedman_mse</td>\n",
       "      <td>88</td>\n",
       "      <td>log2</td>\n",
       "      <td>75</td>\n",
       "      <td>883</td>\n",
       "      <td>81</td>\n",
       "      <td>...</td>\n",
       "      <td>0.342957</td>\n",
       "      <td>0.140827</td>\n",
       "      <td>25</td>\n",
       "      <td>0.607719</td>\n",
       "      <td>0.638140</td>\n",
       "      <td>0.654502</td>\n",
       "      <td>0.703808</td>\n",
       "      <td>0.608489</td>\n",
       "      <td>0.642531</td>\n",
       "      <td>0.035463</td>\n",
       "    </tr>\n",
       "    <tr>\n",
       "      <th>184</th>\n",
       "      <td>0.002602</td>\n",
       "      <td>4.900182e-04</td>\n",
       "      <td>0.000000</td>\n",
       "      <td>0.000000e+00</td>\n",
       "      <td>friedman_mse</td>\n",
       "      <td>67</td>\n",
       "      <td>auto</td>\n",
       "      <td>80</td>\n",
       "      <td>850</td>\n",
       "      <td>45</td>\n",
       "      <td>...</td>\n",
       "      <td>0.342357</td>\n",
       "      <td>0.421507</td>\n",
       "      <td>26</td>\n",
       "      <td>0.853194</td>\n",
       "      <td>0.784482</td>\n",
       "      <td>0.764184</td>\n",
       "      <td>0.829793</td>\n",
       "      <td>0.827420</td>\n",
       "      <td>0.811815</td>\n",
       "      <td>0.032542</td>\n",
       "    </tr>\n",
       "    <tr>\n",
       "      <th>886</th>\n",
       "      <td>0.002202</td>\n",
       "      <td>4.000669e-04</td>\n",
       "      <td>0.000400</td>\n",
       "      <td>4.900961e-04</td>\n",
       "      <td>friedman_mse</td>\n",
       "      <td>81</td>\n",
       "      <td>auto</td>\n",
       "      <td>95</td>\n",
       "      <td>978</td>\n",
       "      <td>63</td>\n",
       "      <td>...</td>\n",
       "      <td>0.342357</td>\n",
       "      <td>0.421507</td>\n",
       "      <td>27</td>\n",
       "      <td>0.853194</td>\n",
       "      <td>0.784482</td>\n",
       "      <td>0.764184</td>\n",
       "      <td>0.829793</td>\n",
       "      <td>0.827420</td>\n",
       "      <td>0.811815</td>\n",
       "      <td>0.032542</td>\n",
       "    </tr>\n",
       "    <tr>\n",
       "      <th>208</th>\n",
       "      <td>0.001000</td>\n",
       "      <td>4.909339e-07</td>\n",
       "      <td>0.000601</td>\n",
       "      <td>4.904089e-04</td>\n",
       "      <td>friedman_mse</td>\n",
       "      <td>45</td>\n",
       "      <td>auto</td>\n",
       "      <td>10</td>\n",
       "      <td>743</td>\n",
       "      <td>42</td>\n",
       "      <td>...</td>\n",
       "      <td>0.339676</td>\n",
       "      <td>0.395707</td>\n",
       "      <td>28</td>\n",
       "      <td>0.736460</td>\n",
       "      <td>0.691841</td>\n",
       "      <td>0.584838</td>\n",
       "      <td>0.673874</td>\n",
       "      <td>0.695292</td>\n",
       "      <td>0.676461</td>\n",
       "      <td>0.050185</td>\n",
       "    </tr>\n",
       "    <tr>\n",
       "      <th>962</th>\n",
       "      <td>0.001001</td>\n",
       "      <td>1.784161e-07</td>\n",
       "      <td>0.000400</td>\n",
       "      <td>4.902128e-04</td>\n",
       "      <td>friedman_mse</td>\n",
       "      <td>85</td>\n",
       "      <td>sqrt</td>\n",
       "      <td>43</td>\n",
       "      <td>285</td>\n",
       "      <td>70</td>\n",
       "      <td>...</td>\n",
       "      <td>0.338018</td>\n",
       "      <td>0.256726</td>\n",
       "      <td>29</td>\n",
       "      <td>0.532966</td>\n",
       "      <td>0.645734</td>\n",
       "      <td>0.596162</td>\n",
       "      <td>0.488427</td>\n",
       "      <td>0.562817</td>\n",
       "      <td>0.565221</td>\n",
       "      <td>0.053634</td>\n",
       "    </tr>\n",
       "    <tr>\n",
       "      <th>655</th>\n",
       "      <td>0.001400</td>\n",
       "      <td>4.895900e-04</td>\n",
       "      <td>0.000601</td>\n",
       "      <td>4.904858e-04</td>\n",
       "      <td>friedman_mse</td>\n",
       "      <td>22</td>\n",
       "      <td>log2</td>\n",
       "      <td>50</td>\n",
       "      <td>813</td>\n",
       "      <td>2</td>\n",
       "      <td>...</td>\n",
       "      <td>0.337255</td>\n",
       "      <td>0.265936</td>\n",
       "      <td>30</td>\n",
       "      <td>0.563952</td>\n",
       "      <td>0.434934</td>\n",
       "      <td>0.479092</td>\n",
       "      <td>0.633280</td>\n",
       "      <td>0.504842</td>\n",
       "      <td>0.523220</td>\n",
       "      <td>0.069068</td>\n",
       "    </tr>\n",
       "    <tr>\n",
       "      <th>...</th>\n",
       "      <td>...</td>\n",
       "      <td>...</td>\n",
       "      <td>...</td>\n",
       "      <td>...</td>\n",
       "      <td>...</td>\n",
       "      <td>...</td>\n",
       "      <td>...</td>\n",
       "      <td>...</td>\n",
       "      <td>...</td>\n",
       "      <td>...</td>\n",
       "      <td>...</td>\n",
       "      <td>...</td>\n",
       "      <td>...</td>\n",
       "      <td>...</td>\n",
       "      <td>...</td>\n",
       "      <td>...</td>\n",
       "      <td>...</td>\n",
       "      <td>...</td>\n",
       "      <td>...</td>\n",
       "      <td>...</td>\n",
       "      <td>...</td>\n",
       "    </tr>\n",
       "    <tr>\n",
       "      <th>243</th>\n",
       "      <td>0.001200</td>\n",
       "      <td>4.005447e-04</td>\n",
       "      <td>0.000801</td>\n",
       "      <td>4.003766e-04</td>\n",
       "      <td>mse</td>\n",
       "      <td>89</td>\n",
       "      <td>sqrt</td>\n",
       "      <td>36</td>\n",
       "      <td>168</td>\n",
       "      <td>27</td>\n",
       "      <td>...</td>\n",
       "      <td>-0.719532</td>\n",
       "      <td>0.929617</td>\n",
       "      <td>647</td>\n",
       "      <td>0.000000</td>\n",
       "      <td>0.000000</td>\n",
       "      <td>0.000000</td>\n",
       "      <td>0.000000</td>\n",
       "      <td>0.000000</td>\n",
       "      <td>0.000000</td>\n",
       "      <td>0.000000</td>\n",
       "    </tr>\n",
       "    <tr>\n",
       "      <th>293</th>\n",
       "      <td>0.001601</td>\n",
       "      <td>4.897850e-04</td>\n",
       "      <td>0.000400</td>\n",
       "      <td>4.899210e-04</td>\n",
       "      <td>mse</td>\n",
       "      <td>95</td>\n",
       "      <td>sqrt</td>\n",
       "      <td>88</td>\n",
       "      <td>379</td>\n",
       "      <td>35</td>\n",
       "      <td>...</td>\n",
       "      <td>-0.719532</td>\n",
       "      <td>0.929617</td>\n",
       "      <td>647</td>\n",
       "      <td>0.000000</td>\n",
       "      <td>0.000000</td>\n",
       "      <td>0.000000</td>\n",
       "      <td>0.000000</td>\n",
       "      <td>0.000000</td>\n",
       "      <td>0.000000</td>\n",
       "      <td>0.000000</td>\n",
       "    </tr>\n",
       "    <tr>\n",
       "      <th>295</th>\n",
       "      <td>0.001201</td>\n",
       "      <td>4.002576e-04</td>\n",
       "      <td>0.000401</td>\n",
       "      <td>4.905635e-04</td>\n",
       "      <td>mse</td>\n",
       "      <td>15</td>\n",
       "      <td>log2</td>\n",
       "      <td>70</td>\n",
       "      <td>50</td>\n",
       "      <td>93</td>\n",
       "      <td>...</td>\n",
       "      <td>-0.719532</td>\n",
       "      <td>0.929617</td>\n",
       "      <td>647</td>\n",
       "      <td>0.000000</td>\n",
       "      <td>0.000000</td>\n",
       "      <td>0.000000</td>\n",
       "      <td>0.000000</td>\n",
       "      <td>0.000000</td>\n",
       "      <td>0.000000</td>\n",
       "      <td>0.000000</td>\n",
       "    </tr>\n",
       "    <tr>\n",
       "      <th>296</th>\n",
       "      <td>0.001401</td>\n",
       "      <td>4.902129e-04</td>\n",
       "      <td>0.000400</td>\n",
       "      <td>4.900377e-04</td>\n",
       "      <td>mse</td>\n",
       "      <td>3</td>\n",
       "      <td>auto</td>\n",
       "      <td>5</td>\n",
       "      <td>457</td>\n",
       "      <td>66</td>\n",
       "      <td>...</td>\n",
       "      <td>-0.719532</td>\n",
       "      <td>0.929617</td>\n",
       "      <td>647</td>\n",
       "      <td>0.000000</td>\n",
       "      <td>0.000000</td>\n",
       "      <td>0.000000</td>\n",
       "      <td>0.000000</td>\n",
       "      <td>0.000000</td>\n",
       "      <td>0.000000</td>\n",
       "      <td>0.000000</td>\n",
       "    </tr>\n",
       "    <tr>\n",
       "      <th>695</th>\n",
       "      <td>0.001202</td>\n",
       "      <td>4.023791e-04</td>\n",
       "      <td>0.000400</td>\n",
       "      <td>4.902128e-04</td>\n",
       "      <td>mse</td>\n",
       "      <td>33</td>\n",
       "      <td>sqrt</td>\n",
       "      <td>33</td>\n",
       "      <td>727</td>\n",
       "      <td>94</td>\n",
       "      <td>...</td>\n",
       "      <td>-0.719532</td>\n",
       "      <td>0.929617</td>\n",
       "      <td>647</td>\n",
       "      <td>0.000000</td>\n",
       "      <td>0.000000</td>\n",
       "      <td>0.000000</td>\n",
       "      <td>0.000000</td>\n",
       "      <td>0.000000</td>\n",
       "      <td>0.000000</td>\n",
       "      <td>0.000000</td>\n",
       "    </tr>\n",
       "    <tr>\n",
       "      <th>299</th>\n",
       "      <td>0.001001</td>\n",
       "      <td>1.507891e-07</td>\n",
       "      <td>0.000400</td>\n",
       "      <td>4.902128e-04</td>\n",
       "      <td>mse</td>\n",
       "      <td>10</td>\n",
       "      <td>log2</td>\n",
       "      <td>31</td>\n",
       "      <td>367</td>\n",
       "      <td>38</td>\n",
       "      <td>...</td>\n",
       "      <td>-0.719532</td>\n",
       "      <td>0.929617</td>\n",
       "      <td>647</td>\n",
       "      <td>0.000000</td>\n",
       "      <td>0.000000</td>\n",
       "      <td>0.000000</td>\n",
       "      <td>0.000000</td>\n",
       "      <td>0.000000</td>\n",
       "      <td>0.000000</td>\n",
       "      <td>0.000000</td>\n",
       "    </tr>\n",
       "    <tr>\n",
       "      <th>302</th>\n",
       "      <td>0.001001</td>\n",
       "      <td>1.168008e-07</td>\n",
       "      <td>0.000801</td>\n",
       "      <td>4.002810e-04</td>\n",
       "      <td>mse</td>\n",
       "      <td>2</td>\n",
       "      <td>auto</td>\n",
       "      <td>29</td>\n",
       "      <td>966</td>\n",
       "      <td>8</td>\n",
       "      <td>...</td>\n",
       "      <td>-0.719532</td>\n",
       "      <td>0.929617</td>\n",
       "      <td>647</td>\n",
       "      <td>0.000000</td>\n",
       "      <td>0.000000</td>\n",
       "      <td>0.000000</td>\n",
       "      <td>0.000000</td>\n",
       "      <td>0.000000</td>\n",
       "      <td>0.000000</td>\n",
       "      <td>0.000000</td>\n",
       "    </tr>\n",
       "    <tr>\n",
       "      <th>679</th>\n",
       "      <td>0.001201</td>\n",
       "      <td>4.001856e-04</td>\n",
       "      <td>0.000600</td>\n",
       "      <td>4.902128e-04</td>\n",
       "      <td>mse</td>\n",
       "      <td>74</td>\n",
       "      <td>sqrt</td>\n",
       "      <td>5</td>\n",
       "      <td>277</td>\n",
       "      <td>17</td>\n",
       "      <td>...</td>\n",
       "      <td>-0.719532</td>\n",
       "      <td>0.929617</td>\n",
       "      <td>647</td>\n",
       "      <td>0.000000</td>\n",
       "      <td>0.000000</td>\n",
       "      <td>0.000000</td>\n",
       "      <td>0.000000</td>\n",
       "      <td>0.000000</td>\n",
       "      <td>0.000000</td>\n",
       "      <td>0.000000</td>\n",
       "    </tr>\n",
       "    <tr>\n",
       "      <th>289</th>\n",
       "      <td>0.001602</td>\n",
       "      <td>4.893766e-04</td>\n",
       "      <td>0.000400</td>\n",
       "      <td>4.902128e-04</td>\n",
       "      <td>mse</td>\n",
       "      <td>9</td>\n",
       "      <td>auto</td>\n",
       "      <td>89</td>\n",
       "      <td>981</td>\n",
       "      <td>84</td>\n",
       "      <td>...</td>\n",
       "      <td>-0.719532</td>\n",
       "      <td>0.929617</td>\n",
       "      <td>647</td>\n",
       "      <td>0.000000</td>\n",
       "      <td>0.000000</td>\n",
       "      <td>0.000000</td>\n",
       "      <td>0.000000</td>\n",
       "      <td>0.000000</td>\n",
       "      <td>0.000000</td>\n",
       "      <td>0.000000</td>\n",
       "    </tr>\n",
       "    <tr>\n",
       "      <th>305</th>\n",
       "      <td>0.001401</td>\n",
       "      <td>4.900768e-04</td>\n",
       "      <td>0.000401</td>\n",
       "      <td>4.908562e-04</td>\n",
       "      <td>mse</td>\n",
       "      <td>41</td>\n",
       "      <td>log2</td>\n",
       "      <td>72</td>\n",
       "      <td>768</td>\n",
       "      <td>25</td>\n",
       "      <td>...</td>\n",
       "      <td>-0.719532</td>\n",
       "      <td>0.929617</td>\n",
       "      <td>647</td>\n",
       "      <td>0.000000</td>\n",
       "      <td>0.000000</td>\n",
       "      <td>0.000000</td>\n",
       "      <td>0.000000</td>\n",
       "      <td>0.000000</td>\n",
       "      <td>0.000000</td>\n",
       "      <td>0.000000</td>\n",
       "    </tr>\n",
       "    <tr>\n",
       "      <th>688</th>\n",
       "      <td>0.001201</td>\n",
       "      <td>4.001379e-04</td>\n",
       "      <td>0.000400</td>\n",
       "      <td>4.902128e-04</td>\n",
       "      <td>mse</td>\n",
       "      <td>3</td>\n",
       "      <td>log2</td>\n",
       "      <td>33</td>\n",
       "      <td>629</td>\n",
       "      <td>92</td>\n",
       "      <td>...</td>\n",
       "      <td>-0.719532</td>\n",
       "      <td>0.929617</td>\n",
       "      <td>647</td>\n",
       "      <td>0.000000</td>\n",
       "      <td>0.000000</td>\n",
       "      <td>0.000000</td>\n",
       "      <td>0.000000</td>\n",
       "      <td>0.000000</td>\n",
       "      <td>0.000000</td>\n",
       "      <td>0.000000</td>\n",
       "    </tr>\n",
       "    <tr>\n",
       "      <th>288</th>\n",
       "      <td>0.001400</td>\n",
       "      <td>4.894347e-04</td>\n",
       "      <td>0.000801</td>\n",
       "      <td>4.004246e-04</td>\n",
       "      <td>mse</td>\n",
       "      <td>19</td>\n",
       "      <td>auto</td>\n",
       "      <td>53</td>\n",
       "      <td>74</td>\n",
       "      <td>97</td>\n",
       "      <td>...</td>\n",
       "      <td>-0.719532</td>\n",
       "      <td>0.929617</td>\n",
       "      <td>647</td>\n",
       "      <td>0.000000</td>\n",
       "      <td>0.000000</td>\n",
       "      <td>0.000000</td>\n",
       "      <td>0.000000</td>\n",
       "      <td>0.000000</td>\n",
       "      <td>0.000000</td>\n",
       "      <td>0.000000</td>\n",
       "    </tr>\n",
       "    <tr>\n",
       "      <th>687</th>\n",
       "      <td>0.001201</td>\n",
       "      <td>4.004002e-04</td>\n",
       "      <td>0.000402</td>\n",
       "      <td>4.919701e-04</td>\n",
       "      <td>mse</td>\n",
       "      <td>69</td>\n",
       "      <td>sqrt</td>\n",
       "      <td>39</td>\n",
       "      <td>516</td>\n",
       "      <td>69</td>\n",
       "      <td>...</td>\n",
       "      <td>-0.719532</td>\n",
       "      <td>0.929617</td>\n",
       "      <td>647</td>\n",
       "      <td>0.000000</td>\n",
       "      <td>0.000000</td>\n",
       "      <td>0.000000</td>\n",
       "      <td>0.000000</td>\n",
       "      <td>0.000000</td>\n",
       "      <td>0.000000</td>\n",
       "      <td>0.000000</td>\n",
       "    </tr>\n",
       "    <tr>\n",
       "      <th>685</th>\n",
       "      <td>0.001000</td>\n",
       "      <td>4.623108e-07</td>\n",
       "      <td>0.000600</td>\n",
       "      <td>4.902907e-04</td>\n",
       "      <td>mse</td>\n",
       "      <td>1</td>\n",
       "      <td>sqrt</td>\n",
       "      <td>27</td>\n",
       "      <td>844</td>\n",
       "      <td>9</td>\n",
       "      <td>...</td>\n",
       "      <td>-0.719532</td>\n",
       "      <td>0.929617</td>\n",
       "      <td>647</td>\n",
       "      <td>0.000000</td>\n",
       "      <td>0.000000</td>\n",
       "      <td>0.000000</td>\n",
       "      <td>0.000000</td>\n",
       "      <td>0.000000</td>\n",
       "      <td>0.000000</td>\n",
       "      <td>0.000000</td>\n",
       "    </tr>\n",
       "    <tr>\n",
       "      <th>313</th>\n",
       "      <td>0.001201</td>\n",
       "      <td>4.003054e-04</td>\n",
       "      <td>0.000800</td>\n",
       "      <td>4.002094e-04</td>\n",
       "      <td>mse</td>\n",
       "      <td>45</td>\n",
       "      <td>auto</td>\n",
       "      <td>13</td>\n",
       "      <td>793</td>\n",
       "      <td>98</td>\n",
       "      <td>...</td>\n",
       "      <td>-0.719532</td>\n",
       "      <td>0.929617</td>\n",
       "      <td>647</td>\n",
       "      <td>0.000000</td>\n",
       "      <td>0.000000</td>\n",
       "      <td>0.000000</td>\n",
       "      <td>0.000000</td>\n",
       "      <td>0.000000</td>\n",
       "      <td>0.000000</td>\n",
       "      <td>0.000000</td>\n",
       "    </tr>\n",
       "    <tr>\n",
       "      <th>681</th>\n",
       "      <td>0.001200</td>\n",
       "      <td>4.006401e-04</td>\n",
       "      <td>0.000200</td>\n",
       "      <td>4.002571e-04</td>\n",
       "      <td>mse</td>\n",
       "      <td>93</td>\n",
       "      <td>auto</td>\n",
       "      <td>78</td>\n",
       "      <td>818</td>\n",
       "      <td>75</td>\n",
       "      <td>...</td>\n",
       "      <td>-0.719532</td>\n",
       "      <td>0.929617</td>\n",
       "      <td>647</td>\n",
       "      <td>0.000000</td>\n",
       "      <td>0.000000</td>\n",
       "      <td>0.000000</td>\n",
       "      <td>0.000000</td>\n",
       "      <td>0.000000</td>\n",
       "      <td>0.000000</td>\n",
       "      <td>0.000000</td>\n",
       "    </tr>\n",
       "    <tr>\n",
       "      <th>314</th>\n",
       "      <td>0.001001</td>\n",
       "      <td>1.168008e-07</td>\n",
       "      <td>0.000600</td>\n",
       "      <td>4.902518e-04</td>\n",
       "      <td>mse</td>\n",
       "      <td>34</td>\n",
       "      <td>log2</td>\n",
       "      <td>90</td>\n",
       "      <td>560</td>\n",
       "      <td>62</td>\n",
       "      <td>...</td>\n",
       "      <td>-0.719532</td>\n",
       "      <td>0.929617</td>\n",
       "      <td>647</td>\n",
       "      <td>0.000000</td>\n",
       "      <td>0.000000</td>\n",
       "      <td>0.000000</td>\n",
       "      <td>0.000000</td>\n",
       "      <td>0.000000</td>\n",
       "      <td>0.000000</td>\n",
       "      <td>0.000000</td>\n",
       "    </tr>\n",
       "    <tr>\n",
       "      <th>703</th>\n",
       "      <td>0.001201</td>\n",
       "      <td>4.003286e-04</td>\n",
       "      <td>0.000200</td>\n",
       "      <td>4.002571e-04</td>\n",
       "      <td>mse</td>\n",
       "      <td>10</td>\n",
       "      <td>log2</td>\n",
       "      <td>10</td>\n",
       "      <td>951</td>\n",
       "      <td>45</td>\n",
       "      <td>...</td>\n",
       "      <td>-0.719532</td>\n",
       "      <td>0.929617</td>\n",
       "      <td>647</td>\n",
       "      <td>0.000000</td>\n",
       "      <td>0.000000</td>\n",
       "      <td>0.000000</td>\n",
       "      <td>0.000000</td>\n",
       "      <td>0.000000</td>\n",
       "      <td>0.000000</td>\n",
       "      <td>0.000000</td>\n",
       "    </tr>\n",
       "    <tr>\n",
       "      <th>30</th>\n",
       "      <td>0.001801</td>\n",
       "      <td>4.004722e-04</td>\n",
       "      <td>0.000401</td>\n",
       "      <td>4.907387e-04</td>\n",
       "      <td>friedman_mse</td>\n",
       "      <td>97</td>\n",
       "      <td>sqrt</td>\n",
       "      <td>2</td>\n",
       "      <td>836</td>\n",
       "      <td>85</td>\n",
       "      <td>...</td>\n",
       "      <td>-0.736012</td>\n",
       "      <td>0.876738</td>\n",
       "      <td>989</td>\n",
       "      <td>0.209521</td>\n",
       "      <td>0.190242</td>\n",
       "      <td>0.206946</td>\n",
       "      <td>0.168850</td>\n",
       "      <td>0.000000</td>\n",
       "      <td>0.155112</td>\n",
       "      <td>0.078905</td>\n",
       "    </tr>\n",
       "    <tr>\n",
       "      <th>443</th>\n",
       "      <td>0.001401</td>\n",
       "      <td>4.907387e-04</td>\n",
       "      <td>0.000200</td>\n",
       "      <td>4.003525e-04</td>\n",
       "      <td>friedman_mse</td>\n",
       "      <td>29</td>\n",
       "      <td>sqrt</td>\n",
       "      <td>88</td>\n",
       "      <td>9</td>\n",
       "      <td>33</td>\n",
       "      <td>...</td>\n",
       "      <td>-0.772763</td>\n",
       "      <td>2.170431</td>\n",
       "      <td>990</td>\n",
       "      <td>0.595358</td>\n",
       "      <td>0.691046</td>\n",
       "      <td>0.633727</td>\n",
       "      <td>0.630906</td>\n",
       "      <td>0.717467</td>\n",
       "      <td>0.653701</td>\n",
       "      <td>0.044234</td>\n",
       "    </tr>\n",
       "    <tr>\n",
       "      <th>473</th>\n",
       "      <td>0.001801</td>\n",
       "      <td>4.002390e-04</td>\n",
       "      <td>0.000400</td>\n",
       "      <td>4.904465e-04</td>\n",
       "      <td>mse</td>\n",
       "      <td>37</td>\n",
       "      <td>sqrt</td>\n",
       "      <td>14</td>\n",
       "      <td>15</td>\n",
       "      <td>33</td>\n",
       "      <td>...</td>\n",
       "      <td>-0.816994</td>\n",
       "      <td>0.906970</td>\n",
       "      <td>991</td>\n",
       "      <td>0.200792</td>\n",
       "      <td>0.000000</td>\n",
       "      <td>0.000000</td>\n",
       "      <td>0.457498</td>\n",
       "      <td>0.000000</td>\n",
       "      <td>0.131658</td>\n",
       "      <td>0.180528</td>\n",
       "    </tr>\n",
       "    <tr>\n",
       "      <th>848</th>\n",
       "      <td>0.001001</td>\n",
       "      <td>1.507891e-07</td>\n",
       "      <td>0.000400</td>\n",
       "      <td>4.902128e-04</td>\n",
       "      <td>friedman_mse</td>\n",
       "      <td>99</td>\n",
       "      <td>sqrt</td>\n",
       "      <td>91</td>\n",
       "      <td>176</td>\n",
       "      <td>3</td>\n",
       "      <td>...</td>\n",
       "      <td>-0.869356</td>\n",
       "      <td>1.853227</td>\n",
       "      <td>992</td>\n",
       "      <td>0.680720</td>\n",
       "      <td>0.474685</td>\n",
       "      <td>0.354109</td>\n",
       "      <td>0.471442</td>\n",
       "      <td>0.470393</td>\n",
       "      <td>0.490270</td>\n",
       "      <td>0.105644</td>\n",
       "    </tr>\n",
       "    <tr>\n",
       "      <th>333</th>\n",
       "      <td>0.001201</td>\n",
       "      <td>4.003764e-04</td>\n",
       "      <td>0.000000</td>\n",
       "      <td>0.000000e+00</td>\n",
       "      <td>friedman_mse</td>\n",
       "      <td>13</td>\n",
       "      <td>sqrt</td>\n",
       "      <td>73</td>\n",
       "      <td>290</td>\n",
       "      <td>53</td>\n",
       "      <td>...</td>\n",
       "      <td>-0.918266</td>\n",
       "      <td>2.039648</td>\n",
       "      <td>993</td>\n",
       "      <td>0.740285</td>\n",
       "      <td>0.553440</td>\n",
       "      <td>0.667057</td>\n",
       "      <td>0.832578</td>\n",
       "      <td>0.581507</td>\n",
       "      <td>0.674973</td>\n",
       "      <td>0.102639</td>\n",
       "    </tr>\n",
       "    <tr>\n",
       "      <th>168</th>\n",
       "      <td>0.001401</td>\n",
       "      <td>4.902908e-04</td>\n",
       "      <td>0.000401</td>\n",
       "      <td>4.907387e-04</td>\n",
       "      <td>friedman_mse</td>\n",
       "      <td>29</td>\n",
       "      <td>log2</td>\n",
       "      <td>76</td>\n",
       "      <td>260</td>\n",
       "      <td>16</td>\n",
       "      <td>...</td>\n",
       "      <td>-1.271156</td>\n",
       "      <td>3.281546</td>\n",
       "      <td>994</td>\n",
       "      <td>0.671974</td>\n",
       "      <td>0.459405</td>\n",
       "      <td>0.638539</td>\n",
       "      <td>0.796829</td>\n",
       "      <td>0.496628</td>\n",
       "      <td>0.612675</td>\n",
       "      <td>0.122521</td>\n",
       "    </tr>\n",
       "    <tr>\n",
       "      <th>395</th>\n",
       "      <td>0.002001</td>\n",
       "      <td>1.507891e-07</td>\n",
       "      <td>0.000000</td>\n",
       "      <td>0.000000e+00</td>\n",
       "      <td>friedman_mse</td>\n",
       "      <td>96</td>\n",
       "      <td>sqrt</td>\n",
       "      <td>81</td>\n",
       "      <td>260</td>\n",
       "      <td>29</td>\n",
       "      <td>...</td>\n",
       "      <td>-1.498268</td>\n",
       "      <td>3.738588</td>\n",
       "      <td>995</td>\n",
       "      <td>0.742650</td>\n",
       "      <td>0.710171</td>\n",
       "      <td>0.682439</td>\n",
       "      <td>0.862447</td>\n",
       "      <td>0.806036</td>\n",
       "      <td>0.760749</td>\n",
       "      <td>0.065439</td>\n",
       "    </tr>\n",
       "    <tr>\n",
       "      <th>385</th>\n",
       "      <td>0.001000</td>\n",
       "      <td>6.975526e-07</td>\n",
       "      <td>0.001001</td>\n",
       "      <td>7.599534e-07</td>\n",
       "      <td>friedman_mse</td>\n",
       "      <td>80</td>\n",
       "      <td>sqrt</td>\n",
       "      <td>14</td>\n",
       "      <td>352</td>\n",
       "      <td>26</td>\n",
       "      <td>...</td>\n",
       "      <td>-1.573739</td>\n",
       "      <td>3.463266</td>\n",
       "      <td>996</td>\n",
       "      <td>0.491917</td>\n",
       "      <td>0.473120</td>\n",
       "      <td>0.588927</td>\n",
       "      <td>0.645382</td>\n",
       "      <td>0.361724</td>\n",
       "      <td>0.512214</td>\n",
       "      <td>0.098190</td>\n",
       "    </tr>\n",
       "    <tr>\n",
       "      <th>117</th>\n",
       "      <td>0.001401</td>\n",
       "      <td>4.903109e-04</td>\n",
       "      <td>0.000400</td>\n",
       "      <td>4.905050e-04</td>\n",
       "      <td>friedman_mse</td>\n",
       "      <td>51</td>\n",
       "      <td>auto</td>\n",
       "      <td>75</td>\n",
       "      <td>178</td>\n",
       "      <td>48</td>\n",
       "      <td>...</td>\n",
       "      <td>-1.752929</td>\n",
       "      <td>4.596369</td>\n",
       "      <td>997</td>\n",
       "      <td>0.771795</td>\n",
       "      <td>0.754291</td>\n",
       "      <td>0.655766</td>\n",
       "      <td>0.816057</td>\n",
       "      <td>0.725754</td>\n",
       "      <td>0.744733</td>\n",
       "      <td>0.053266</td>\n",
       "    </tr>\n",
       "    <tr>\n",
       "      <th>691</th>\n",
       "      <td>0.001200</td>\n",
       "      <td>4.004245e-04</td>\n",
       "      <td>0.000200</td>\n",
       "      <td>4.003525e-04</td>\n",
       "      <td>friedman_mse</td>\n",
       "      <td>6</td>\n",
       "      <td>log2</td>\n",
       "      <td>44</td>\n",
       "      <td>910</td>\n",
       "      <td>55</td>\n",
       "      <td>...</td>\n",
       "      <td>-1.793908</td>\n",
       "      <td>3.357854</td>\n",
       "      <td>998</td>\n",
       "      <td>0.454500</td>\n",
       "      <td>0.493753</td>\n",
       "      <td>0.446471</td>\n",
       "      <td>0.458260</td>\n",
       "      <td>0.451133</td>\n",
       "      <td>0.460823</td>\n",
       "      <td>0.016916</td>\n",
       "    </tr>\n",
       "    <tr>\n",
       "      <th>31</th>\n",
       "      <td>0.001201</td>\n",
       "      <td>4.002571e-04</td>\n",
       "      <td>0.000400</td>\n",
       "      <td>4.905050e-04</td>\n",
       "      <td>friedman_mse</td>\n",
       "      <td>62</td>\n",
       "      <td>sqrt</td>\n",
       "      <td>61</td>\n",
       "      <td>505</td>\n",
       "      <td>37</td>\n",
       "      <td>...</td>\n",
       "      <td>-1.842858</td>\n",
       "      <td>3.367269</td>\n",
       "      <td>999</td>\n",
       "      <td>0.387662</td>\n",
       "      <td>0.514572</td>\n",
       "      <td>0.318326</td>\n",
       "      <td>0.696032</td>\n",
       "      <td>0.563314</td>\n",
       "      <td>0.495981</td>\n",
       "      <td>0.132811</td>\n",
       "    </tr>\n",
       "    <tr>\n",
       "      <th>605</th>\n",
       "      <td>0.001201</td>\n",
       "      <td>4.002094e-04</td>\n",
       "      <td>0.000200</td>\n",
       "      <td>4.002571e-04</td>\n",
       "      <td>friedman_mse</td>\n",
       "      <td>83</td>\n",
       "      <td>log2</td>\n",
       "      <td>31</td>\n",
       "      <td>676</td>\n",
       "      <td>39</td>\n",
       "      <td>...</td>\n",
       "      <td>-2.047767</td>\n",
       "      <td>4.152565</td>\n",
       "      <td>1000</td>\n",
       "      <td>0.444104</td>\n",
       "      <td>0.388140</td>\n",
       "      <td>0.383452</td>\n",
       "      <td>0.216348</td>\n",
       "      <td>0.634038</td>\n",
       "      <td>0.413216</td>\n",
       "      <td>0.134155</td>\n",
       "    </tr>\n",
       "  </tbody>\n",
       "</table>\n",
       "<p>1000 rows × 27 columns</p>\n",
       "</div>"
      ],
      "text/plain": [
       "     mean_fit_time  std_fit_time  mean_score_time  std_score_time  \\\n",
       "234       0.001401  4.901545e-04         0.000200    4.001617e-04   \n",
       "571       0.001401  4.911096e-04         0.000200    4.002571e-04   \n",
       "28        0.001802  7.487497e-04         0.000400    4.900961e-04   \n",
       "85        0.002002  1.210077e-06         0.000000    0.000000e+00   \n",
       "725       0.001201  4.002333e-04         0.000400    4.902712e-04   \n",
       "992       0.001802  4.003770e-04         0.000000    0.000000e+00   \n",
       "865       0.001401  4.901739e-04         0.000200    4.002571e-04   \n",
       "711       0.002001  2.431402e-07         0.000200    4.001617e-04   \n",
       "996       0.002002  1.469711e-06         0.000000    0.000000e+00   \n",
       "926       0.001001  2.336015e-07         0.001001    8.064048e-07   \n",
       "667       0.001001  9.536743e-08         0.001001    1.907349e-07   \n",
       "135       0.001602  4.907619e-04         0.000200    4.002571e-04   \n",
       "594       0.001401  4.902129e-04         0.000400    4.901544e-04   \n",
       "354       0.002001  6.334658e-04         0.000201    4.011154e-04   \n",
       "723       0.001201  4.003763e-04         0.000400    4.902128e-04   \n",
       "496       0.001401  4.903492e-04         0.000600    4.901350e-04   \n",
       "859       0.001001  7.629395e-07         0.001001    1.168008e-07   \n",
       "529       0.001201  4.003286e-04         0.000400    4.902712e-04   \n",
       "87        0.001601  4.901350e-04         0.000200    4.002571e-04   \n",
       "417       0.002401  4.904662e-04         0.000200    4.002571e-04   \n",
       "307       0.002201  4.002571e-04         0.000801    4.002571e-04   \n",
       "181       0.001401  4.905049e-04         0.000801    4.004723e-04   \n",
       "490       0.001601  8.003593e-04         0.000600    4.902518e-04   \n",
       "704       0.002601  4.896898e-04         0.000200    4.000664e-04   \n",
       "823       0.001201  4.002333e-04         0.000600    4.901740e-04   \n",
       "184       0.002602  4.900182e-04         0.000000    0.000000e+00   \n",
       "886       0.002202  4.000669e-04         0.000400    4.900961e-04   \n",
       "208       0.001000  4.909339e-07         0.000601    4.904089e-04   \n",
       "962       0.001001  1.784161e-07         0.000400    4.902128e-04   \n",
       "655       0.001400  4.895900e-04         0.000601    4.904858e-04   \n",
       "..             ...           ...              ...             ...   \n",
       "243       0.001200  4.005447e-04         0.000801    4.003766e-04   \n",
       "293       0.001601  4.897850e-04         0.000400    4.899210e-04   \n",
       "295       0.001201  4.002576e-04         0.000401    4.905635e-04   \n",
       "296       0.001401  4.902129e-04         0.000400    4.900377e-04   \n",
       "695       0.001202  4.023791e-04         0.000400    4.902128e-04   \n",
       "299       0.001001  1.507891e-07         0.000400    4.902128e-04   \n",
       "302       0.001001  1.168008e-07         0.000801    4.002810e-04   \n",
       "679       0.001201  4.001856e-04         0.000600    4.902128e-04   \n",
       "289       0.001602  4.893766e-04         0.000400    4.902128e-04   \n",
       "305       0.001401  4.900768e-04         0.000401    4.908562e-04   \n",
       "688       0.001201  4.001379e-04         0.000400    4.902128e-04   \n",
       "288       0.001400  4.894347e-04         0.000801    4.004246e-04   \n",
       "687       0.001201  4.004002e-04         0.000402    4.919701e-04   \n",
       "685       0.001000  4.623108e-07         0.000600    4.902907e-04   \n",
       "313       0.001201  4.003054e-04         0.000800    4.002094e-04   \n",
       "681       0.001200  4.006401e-04         0.000200    4.002571e-04   \n",
       "314       0.001001  1.168008e-07         0.000600    4.902518e-04   \n",
       "703       0.001201  4.003286e-04         0.000200    4.002571e-04   \n",
       "30        0.001801  4.004722e-04         0.000401    4.907387e-04   \n",
       "443       0.001401  4.907387e-04         0.000200    4.003525e-04   \n",
       "473       0.001801  4.002390e-04         0.000400    4.904465e-04   \n",
       "848       0.001001  1.507891e-07         0.000400    4.902128e-04   \n",
       "333       0.001201  4.003764e-04         0.000000    0.000000e+00   \n",
       "168       0.001401  4.902908e-04         0.000401    4.907387e-04   \n",
       "395       0.002001  1.507891e-07         0.000000    0.000000e+00   \n",
       "385       0.001000  6.975526e-07         0.001001    7.599534e-07   \n",
       "117       0.001401  4.903109e-04         0.000400    4.905050e-04   \n",
       "691       0.001200  4.004245e-04         0.000200    4.003525e-04   \n",
       "31        0.001201  4.002571e-04         0.000400    4.905050e-04   \n",
       "605       0.001201  4.002094e-04         0.000200    4.002571e-04   \n",
       "\n",
       "    param_criterion param_max_depth param_max_features param_max_leaf_nodes  \\\n",
       "234    friedman_mse              74               auto                   65   \n",
       "571    friedman_mse               8               auto                   37   \n",
       "28     friedman_mse               8               auto                   82   \n",
       "85     friedman_mse              99               auto                   90   \n",
       "725    friedman_mse              27               auto                   89   \n",
       "992    friedman_mse              77               sqrt                   83   \n",
       "865    friedman_mse              25               auto                   16   \n",
       "711    friedman_mse              87               log2                   65   \n",
       "996    friedman_mse              19               auto                   15   \n",
       "926    friedman_mse              42               sqrt                   46   \n",
       "667    friedman_mse              14               auto                   62   \n",
       "135    friedman_mse              63               auto                   52   \n",
       "594    friedman_mse              68               auto                   46   \n",
       "354    friedman_mse              39               log2                   43   \n",
       "723    friedman_mse              16               auto                    4   \n",
       "496    friedman_mse              65               auto                   50   \n",
       "859    friedman_mse              35               sqrt                   70   \n",
       "529    friedman_mse              74               auto                   37   \n",
       "87     friedman_mse              99               auto                   54   \n",
       "417    friedman_mse              39               auto                   10   \n",
       "307    friedman_mse              48               auto                   19   \n",
       "181    friedman_mse              53               auto                   92   \n",
       "490    friedman_mse              27               sqrt                   72   \n",
       "704    friedman_mse              66               auto                   96   \n",
       "823    friedman_mse              88               log2                   75   \n",
       "184    friedman_mse              67               auto                   80   \n",
       "886    friedman_mse              81               auto                   95   \n",
       "208    friedman_mse              45               auto                   10   \n",
       "962    friedman_mse              85               sqrt                   43   \n",
       "655    friedman_mse              22               log2                   50   \n",
       "..              ...             ...                ...                  ...   \n",
       "243             mse              89               sqrt                   36   \n",
       "293             mse              95               sqrt                   88   \n",
       "295             mse              15               log2                   70   \n",
       "296             mse               3               auto                    5   \n",
       "695             mse              33               sqrt                   33   \n",
       "299             mse              10               log2                   31   \n",
       "302             mse               2               auto                   29   \n",
       "679             mse              74               sqrt                    5   \n",
       "289             mse               9               auto                   89   \n",
       "305             mse              41               log2                   72   \n",
       "688             mse               3               log2                   33   \n",
       "288             mse              19               auto                   53   \n",
       "687             mse              69               sqrt                   39   \n",
       "685             mse               1               sqrt                   27   \n",
       "313             mse              45               auto                   13   \n",
       "681             mse              93               auto                   78   \n",
       "314             mse              34               log2                   90   \n",
       "703             mse              10               log2                   10   \n",
       "30     friedman_mse              97               sqrt                    2   \n",
       "443    friedman_mse              29               sqrt                   88   \n",
       "473             mse              37               sqrt                   14   \n",
       "848    friedman_mse              99               sqrt                   91   \n",
       "333    friedman_mse              13               sqrt                   73   \n",
       "168    friedman_mse              29               log2                   76   \n",
       "395    friedman_mse              96               sqrt                   81   \n",
       "385    friedman_mse              80               sqrt                   14   \n",
       "117    friedman_mse              51               auto                   75   \n",
       "691    friedman_mse               6               log2                   44   \n",
       "31     friedman_mse              62               sqrt                   61   \n",
       "605    friedman_mse              83               log2                   31   \n",
       "\n",
       "    param_min_impurity_decrease param_min_samples_split       ...         \\\n",
       "234                          99                      43       ...          \n",
       "571                         788                      83       ...          \n",
       "28                          789                      61       ...          \n",
       "85                          237                      63       ...          \n",
       "725                         946                      94       ...          \n",
       "992                         567                      93       ...          \n",
       "865                         207                      89       ...          \n",
       "711                         347                       5       ...          \n",
       "996                         128                      83       ...          \n",
       "926                         534                      19       ...          \n",
       "667                         172                      13       ...          \n",
       "135                         899                      71       ...          \n",
       "594                         879                      14       ...          \n",
       "354                         366                      73       ...          \n",
       "723                         597                      65       ...          \n",
       "496                         510                      23       ...          \n",
       "859                         985                      18       ...          \n",
       "529                         704                      34       ...          \n",
       "87                          510                      58       ...          \n",
       "417                         745                      41       ...          \n",
       "307                         311                      55       ...          \n",
       "181                         268                      42       ...          \n",
       "490                         681                      32       ...          \n",
       "704                         850                       8       ...          \n",
       "823                         883                      81       ...          \n",
       "184                         850                      45       ...          \n",
       "886                         978                      63       ...          \n",
       "208                         743                      42       ...          \n",
       "962                         285                      70       ...          \n",
       "655                         813                       2       ...          \n",
       "..                          ...                     ...       ...          \n",
       "243                         168                      27       ...          \n",
       "293                         379                      35       ...          \n",
       "295                          50                      93       ...          \n",
       "296                         457                      66       ...          \n",
       "695                         727                      94       ...          \n",
       "299                         367                      38       ...          \n",
       "302                         966                       8       ...          \n",
       "679                         277                      17       ...          \n",
       "289                         981                      84       ...          \n",
       "305                         768                      25       ...          \n",
       "688                         629                      92       ...          \n",
       "288                          74                      97       ...          \n",
       "687                         516                      69       ...          \n",
       "685                         844                       9       ...          \n",
       "313                         793                      98       ...          \n",
       "681                         818                      75       ...          \n",
       "314                         560                      62       ...          \n",
       "703                         951                      45       ...          \n",
       "30                          836                      85       ...          \n",
       "443                           9                      33       ...          \n",
       "473                          15                      33       ...          \n",
       "848                         176                       3       ...          \n",
       "333                         290                      53       ...          \n",
       "168                         260                      16       ...          \n",
       "395                         260                      29       ...          \n",
       "385                         352                      26       ...          \n",
       "117                         178                      48       ...          \n",
       "691                         910                      55       ...          \n",
       "31                          505                      37       ...          \n",
       "605                         676                      39       ...          \n",
       "\n",
       "    mean_test_score std_test_score  rank_test_score  split0_train_score  \\\n",
       "234        0.479803       0.188147                1            0.807135   \n",
       "571        0.445996       0.270390                2            0.727152   \n",
       "28         0.445541       0.300713                3            0.710290   \n",
       "85         0.439784       0.257858                4            0.708235   \n",
       "725        0.435316       0.278449                5            0.701479   \n",
       "992        0.430515       0.180864                6            0.759067   \n",
       "865        0.423422       0.251387                7            0.745147   \n",
       "711        0.417432       0.423817                8            0.836940   \n",
       "996        0.417173       0.229809                9            0.661564   \n",
       "926        0.417130       0.345767               10            0.850678   \n",
       "667        0.415614       0.199987               11            0.848620   \n",
       "135        0.410524       0.220335               12            0.702449   \n",
       "594        0.407023       0.207916               13            0.777368   \n",
       "354        0.401484       0.177585               14            0.556493   \n",
       "723        0.385921       0.229464               15            0.521378   \n",
       "496        0.378020       0.393095               16            0.725670   \n",
       "859        0.376510       0.239459               17            0.658879   \n",
       "529        0.372569       0.325047               18            0.767375   \n",
       "87         0.367126       0.283603               19            0.705545   \n",
       "417        0.364061       0.440852               20            0.853194   \n",
       "307        0.361746       0.446534               21            0.867667   \n",
       "181        0.359422       0.422002               22            0.763247   \n",
       "490        0.349377       0.250464               23            0.743341   \n",
       "704        0.345766       0.431176               24            0.853194   \n",
       "823        0.342957       0.140827               25            0.607719   \n",
       "184        0.342357       0.421507               26            0.853194   \n",
       "886        0.342357       0.421507               27            0.853194   \n",
       "208        0.339676       0.395707               28            0.736460   \n",
       "962        0.338018       0.256726               29            0.532966   \n",
       "655        0.337255       0.265936               30            0.563952   \n",
       "..              ...            ...              ...                 ...   \n",
       "243       -0.719532       0.929617              647            0.000000   \n",
       "293       -0.719532       0.929617              647            0.000000   \n",
       "295       -0.719532       0.929617              647            0.000000   \n",
       "296       -0.719532       0.929617              647            0.000000   \n",
       "695       -0.719532       0.929617              647            0.000000   \n",
       "299       -0.719532       0.929617              647            0.000000   \n",
       "302       -0.719532       0.929617              647            0.000000   \n",
       "679       -0.719532       0.929617              647            0.000000   \n",
       "289       -0.719532       0.929617              647            0.000000   \n",
       "305       -0.719532       0.929617              647            0.000000   \n",
       "688       -0.719532       0.929617              647            0.000000   \n",
       "288       -0.719532       0.929617              647            0.000000   \n",
       "687       -0.719532       0.929617              647            0.000000   \n",
       "685       -0.719532       0.929617              647            0.000000   \n",
       "313       -0.719532       0.929617              647            0.000000   \n",
       "681       -0.719532       0.929617              647            0.000000   \n",
       "314       -0.719532       0.929617              647            0.000000   \n",
       "703       -0.719532       0.929617              647            0.000000   \n",
       "30        -0.736012       0.876738              989            0.209521   \n",
       "443       -0.772763       2.170431              990            0.595358   \n",
       "473       -0.816994       0.906970              991            0.200792   \n",
       "848       -0.869356       1.853227              992            0.680720   \n",
       "333       -0.918266       2.039648              993            0.740285   \n",
       "168       -1.271156       3.281546              994            0.671974   \n",
       "395       -1.498268       3.738588              995            0.742650   \n",
       "385       -1.573739       3.463266              996            0.491917   \n",
       "117       -1.752929       4.596369              997            0.771795   \n",
       "691       -1.793908       3.357854              998            0.454500   \n",
       "31        -1.842858       3.367269              999            0.387662   \n",
       "605       -2.047767       4.152565             1000            0.444104   \n",
       "\n",
       "     split1_train_score  split2_train_score  split3_train_score  \\\n",
       "234            0.764425            0.712270            0.835183   \n",
       "571            0.678101            0.597042            0.715609   \n",
       "28             0.701029            0.754817            0.693163   \n",
       "85             0.761502            0.649735            0.789151   \n",
       "725            0.679703            0.560208            0.681567   \n",
       "992            0.668002            0.674721            0.689590   \n",
       "865            0.717241            0.664653            0.728408   \n",
       "711            0.810572            0.709444            0.798483   \n",
       "996            0.775270            0.528396            0.765255   \n",
       "926            0.729194            0.702506            0.710793   \n",
       "667            0.786475            0.786881            0.846634   \n",
       "135            0.590923            0.650882            0.728553   \n",
       "594            0.682299            0.704992            0.743234   \n",
       "354            0.728643            0.678280            0.831253   \n",
       "723            0.635946            0.535480            0.697375   \n",
       "496            0.733430            0.664021            0.795861   \n",
       "859            0.707029            0.701520            0.800276   \n",
       "529            0.735266            0.599479            0.731155   \n",
       "87             0.647485            0.608460            0.712677   \n",
       "417            0.842285            0.764184            0.829793   \n",
       "307            0.818745            0.802149            0.862397   \n",
       "181            0.831425            0.655611            0.806848   \n",
       "490            0.761494            0.657168            0.703808   \n",
       "704            0.819180            0.797220            0.829793   \n",
       "823            0.638140            0.654502            0.703808   \n",
       "184            0.784482            0.764184            0.829793   \n",
       "886            0.784482            0.764184            0.829793   \n",
       "208            0.691841            0.584838            0.673874   \n",
       "962            0.645734            0.596162            0.488427   \n",
       "655            0.434934            0.479092            0.633280   \n",
       "..                  ...                 ...                 ...   \n",
       "243            0.000000            0.000000            0.000000   \n",
       "293            0.000000            0.000000            0.000000   \n",
       "295            0.000000            0.000000            0.000000   \n",
       "296            0.000000            0.000000            0.000000   \n",
       "695            0.000000            0.000000            0.000000   \n",
       "299            0.000000            0.000000            0.000000   \n",
       "302            0.000000            0.000000            0.000000   \n",
       "679            0.000000            0.000000            0.000000   \n",
       "289            0.000000            0.000000            0.000000   \n",
       "305            0.000000            0.000000            0.000000   \n",
       "688            0.000000            0.000000            0.000000   \n",
       "288            0.000000            0.000000            0.000000   \n",
       "687            0.000000            0.000000            0.000000   \n",
       "685            0.000000            0.000000            0.000000   \n",
       "313            0.000000            0.000000            0.000000   \n",
       "681            0.000000            0.000000            0.000000   \n",
       "314            0.000000            0.000000            0.000000   \n",
       "703            0.000000            0.000000            0.000000   \n",
       "30             0.190242            0.206946            0.168850   \n",
       "443            0.691046            0.633727            0.630906   \n",
       "473            0.000000            0.000000            0.457498   \n",
       "848            0.474685            0.354109            0.471442   \n",
       "333            0.553440            0.667057            0.832578   \n",
       "168            0.459405            0.638539            0.796829   \n",
       "395            0.710171            0.682439            0.862447   \n",
       "385            0.473120            0.588927            0.645382   \n",
       "117            0.754291            0.655766            0.816057   \n",
       "691            0.493753            0.446471            0.458260   \n",
       "31             0.514572            0.318326            0.696032   \n",
       "605            0.388140            0.383452            0.216348   \n",
       "\n",
       "     split4_train_score  mean_train_score  std_train_score  \n",
       "234            0.809518          0.785706         0.043174  \n",
       "571            0.816772          0.706935         0.071353  \n",
       "28             0.785924          0.729045         0.035563  \n",
       "85             0.720307          0.725786         0.047776  \n",
       "725            0.746892          0.673970         0.061817  \n",
       "992            0.484646          0.655205         0.091219  \n",
       "865            0.747410          0.720572         0.030079  \n",
       "711            0.841186          0.799325         0.047693  \n",
       "996            0.643290          0.674755         0.090420  \n",
       "926            0.715468          0.741728         0.055158  \n",
       "667            0.857628          0.825248         0.031710  \n",
       "135            0.677137          0.669989         0.047225  \n",
       "594            0.694530          0.720485         0.035000  \n",
       "354            0.692026          0.697339         0.088478  \n",
       "723            0.378566          0.553749         0.109046  \n",
       "496            0.824024          0.748601         0.056271  \n",
       "859            0.766457          0.726832         0.050229  \n",
       "529            0.723889          0.711433         0.057923  \n",
       "87             0.684827          0.671799         0.038942  \n",
       "417            0.827420          0.823375         0.031010  \n",
       "307            0.873507          0.844893         0.028826  \n",
       "181            0.771504          0.765727         0.060286  \n",
       "490            0.775570          0.728276         0.042947  \n",
       "704            0.827420          0.825361         0.018048  \n",
       "823            0.608489          0.642531         0.035463  \n",
       "184            0.827420          0.811815         0.032542  \n",
       "886            0.827420          0.811815         0.032542  \n",
       "208            0.695292          0.676461         0.050185  \n",
       "962            0.562817          0.565221         0.053634  \n",
       "655            0.504842          0.523220         0.069068  \n",
       "..                  ...               ...              ...  \n",
       "243            0.000000          0.000000         0.000000  \n",
       "293            0.000000          0.000000         0.000000  \n",
       "295            0.000000          0.000000         0.000000  \n",
       "296            0.000000          0.000000         0.000000  \n",
       "695            0.000000          0.000000         0.000000  \n",
       "299            0.000000          0.000000         0.000000  \n",
       "302            0.000000          0.000000         0.000000  \n",
       "679            0.000000          0.000000         0.000000  \n",
       "289            0.000000          0.000000         0.000000  \n",
       "305            0.000000          0.000000         0.000000  \n",
       "688            0.000000          0.000000         0.000000  \n",
       "288            0.000000          0.000000         0.000000  \n",
       "687            0.000000          0.000000         0.000000  \n",
       "685            0.000000          0.000000         0.000000  \n",
       "313            0.000000          0.000000         0.000000  \n",
       "681            0.000000          0.000000         0.000000  \n",
       "314            0.000000          0.000000         0.000000  \n",
       "703            0.000000          0.000000         0.000000  \n",
       "30             0.000000          0.155112         0.078905  \n",
       "443            0.717467          0.653701         0.044234  \n",
       "473            0.000000          0.131658         0.180528  \n",
       "848            0.470393          0.490270         0.105644  \n",
       "333            0.581507          0.674973         0.102639  \n",
       "168            0.496628          0.612675         0.122521  \n",
       "395            0.806036          0.760749         0.065439  \n",
       "385            0.361724          0.512214         0.098190  \n",
       "117            0.725754          0.744733         0.053266  \n",
       "691            0.451133          0.460823         0.016916  \n",
       "31             0.563314          0.495981         0.132811  \n",
       "605            0.634038          0.413216         0.134155  \n",
       "\n",
       "[1000 rows x 27 columns]"
      ]
     },
     "execution_count": 522,
     "metadata": {},
     "output_type": "execute_result"
    }
   ],
   "source": [
    "results = pd.DataFrame(grid.cv_results_)\n",
    "results.sort_values(by='rank_test_score')"
   ]
  },
  {
   "cell_type": "markdown",
   "metadata": {},
   "source": [
    "The linear model also requires tuning, but the current API we are using (linear_model.LinearRegression) is relatively weak and lacks the parameters we are looking for. Instead, we will work with elastic nets, and go beyond linear model complexity to build a better linear regression model. We will look at this in detail in the next session."
   ]
  },
  {
   "cell_type": "markdown",
   "metadata": {},
   "source": [
    "# 5. Feature Selection"
   ]
  },
  {
   "cell_type": "markdown",
   "metadata": {},
   "source": [
    "We will begin by taking the model beyond linearity. In statistical languages more tuned towards modelling like R, we introduce polynomial features/covariates through a parameter within the model, as such:  \n",
    "\n",
    "`lr = lm(y ~ poly(X, 3))`  \n",
    "\n",
    "However, in the context of sklearn, the `LinearRegression` class solely focuses on optimising a set of regression coefficients for you, and does not look at coefficients. We will need to use modules from `sklearn.preprocessing` to help us develop polynomial features.\n",
    "\n",
    "To start off, develop sets of polynomials features to different degrees. It is up to you to decide what power to raise for the features, but keep it mind that high numbers put additional strain on your machine at an exponential rate, so be mindful of what your machine is capable of."
   ]
  },
  {
   "cell_type": "code",
   "execution_count": 570,
   "metadata": {},
   "outputs": [
    {
     "name": "stdout",
     "output_type": "stream",
     "text": [
      "13 2380\n"
     ]
    }
   ],
   "source": [
    "def makepoly(df_raw):\n",
    "    X_all = df_raw.drop(labels='target',axis=1)\n",
    "    y_all  = df_raw['target']\n",
    "    pf = preprocessing.PolynomialFeatures(degree=4)\n",
    "    X_new = pf.fit_transform(X_all)\n",
    "    print(pf.n_input_features_,pf.n_output_features_)\n",
    "    return X_new,y_all\n",
    "X_new,y_all = makepoly(df_raw)"
   ]
  },
  {
   "cell_type": "markdown",
   "metadata": {},
   "source": [
    "## 5.1 RFE Feature Selection"
   ]
  },
  {
   "cell_type": "markdown",
   "metadata": {},
   "source": [
    "One way of working with a large quantity of features is by using the Recursive Feature Elimination (RFE) algorithm. The name may provide us with a hint of what it does, but do explain ,with the language for a layperson, what RFE is doing and how it is executed algorithmically. Then, run the code to execute the model."
   ]
  },
  {
   "cell_type": "code",
   "execution_count": null,
   "metadata": {},
   "outputs": [],
   "source": [
    "lr = LinearRegression()\n",
    "rfe = feature_selection.RFE(lr,n_features_to_select=20,step=1)\n",
    "rfe.fit(X_new,y_all)\n",
    "# print(rfe.n_features_,rfe.support_,rfe.ranking_)"
   ]
  },
  {
   "cell_type": "markdown",
   "metadata": {},
   "source": [
    "Fit a linear regression on the model. How can we go beyond the final variables remaining in RFE to further improve the performance of the model?"
   ]
  },
  {
   "cell_type": "code",
   "execution_count": null,
   "metadata": {},
   "outputs": [],
   "source": [
    "X_trim = X_new[:,rfe.support_]\n",
    "lr = LinearRegression()\n",
    "cvscore = model_selection.cross_val_score(lr,X_trim,y_all,cv=7,scoring='r2')\n",
    "print(np.mean(cvscore),cvscore)"
   ]
  },
  {
   "cell_type": "markdown",
   "metadata": {},
   "source": [
    "Consider the drawbacks of RFE, and explain them below:"
   ]
  },
  {
   "cell_type": "markdown",
   "metadata": {},
   "source": [
    "<font color='blue'>Seems to have a high computational cost.</font>"
   ]
  },
  {
   "cell_type": "markdown",
   "metadata": {},
   "source": [
    "## 5.2 Regularisation"
   ]
  },
  {
   "cell_type": "markdown",
   "metadata": {},
   "source": [
    "Another method to reduce model complexity is through regularisation. Regularisation is the idea of penalising large weights as part of the model fitting process, and forcing the model to trade-off between large weights and model accuracy.\n",
    "\n",
    "In your own words, explain why forcing the model to not adapt large weights can somehow help with feature selection and model fitting in general. How does the algorithm help the model to learn to recognise the best set of weights with a regularisation term?"
   ]
  },
  {
   "cell_type": "code",
   "execution_count": null,
   "metadata": {},
   "outputs": [],
   "source": []
  },
  {
   "cell_type": "markdown",
   "metadata": {},
   "source": [
    "Build a L1 regression model through feature selection by regularisation. Tune your model to achieve optimal results."
   ]
  },
  {
   "cell_type": "code",
   "execution_count": null,
   "metadata": {},
   "outputs": [],
   "source": []
  },
  {
   "cell_type": "markdown",
   "metadata": {},
   "source": [
    "Repeat this process for a elastic net model."
   ]
  },
  {
   "cell_type": "code",
   "execution_count": null,
   "metadata": {},
   "outputs": [],
   "source": []
  },
  {
   "cell_type": "markdown",
   "metadata": {},
   "source": [
    "Consider the differences between each type of regression - in this case, which is a superior model to use?"
   ]
  },
  {
   "cell_type": "code",
   "execution_count": null,
   "metadata": {},
   "outputs": [],
   "source": []
  },
  {
   "cell_type": "markdown",
   "metadata": {},
   "source": [
    "For ease of use, build pipelines using `sklearn.pipeline` so that these models can be better consumed later for meta-model ensembling."
   ]
  },
  {
   "cell_type": "code",
   "execution_count": null,
   "metadata": {},
   "outputs": [],
   "source": []
  },
  {
   "cell_type": "markdown",
   "metadata": {},
   "source": [
    "How do RFE and regularisation-based models compare? Think about the strengths and weaknesses of regularisation, as compared to RFE."
   ]
  },
  {
   "cell_type": "code",
   "execution_count": null,
   "metadata": {},
   "outputs": [],
   "source": []
  },
  {
   "cell_type": "markdown",
   "metadata": {},
   "source": [
    "# 6. Ensemble methods"
   ]
  },
  {
   "cell_type": "markdown",
   "metadata": {},
   "source": [
    "Ensembling is the process of combining prediction models to improve overall performence. In this section, we'll look at various ways this can be done to achieve better resultings."
   ]
  },
  {
   "cell_type": "markdown",
   "metadata": {},
   "source": [
    "## 6.1 Bagging"
   ]
  },
  {
   "cell_type": "markdown",
   "metadata": {},
   "source": [
    "The term \"bag\" is the abbreviation for \"bootstrap aggregation\", in which we build a boostrap for a dataset, then train a model for each dataset we produce, after which we aggregate the score. If you are not yet familiar with any of these concepts, do some research and appreciate the process. We will not go into detail here as we already have done that last week."
   ]
  },
  {
   "cell_type": "markdown",
   "metadata": {},
   "source": [
    "Using your tuned Decision Tree model from a previous section as the base model, implement and tune a model with bagging technique. Compare this result with a random forest model built from scratch."
   ]
  },
  {
   "cell_type": "code",
   "execution_count": null,
   "metadata": {},
   "outputs": [],
   "source": []
  },
  {
   "cell_type": "markdown",
   "metadata": {},
   "source": [
    "## 6.2 Boosting"
   ]
  },
  {
   "cell_type": "markdown",
   "metadata": {},
   "source": [
    "Boosting, as explained earlier this week, uses an aggregation of weak learners to reduce the total variance. It operates on a single model sequentially. At each iteration, it tries to rectify the errors made in the previous iteration.\n",
    "\n",
    "a) Explain the term \"weak learner\".  \n",
    "b) Explain how adaptive boosting (AdaBoost) and gradient boosting (GBM) work and highlight their differences."
   ]
  },
  {
   "cell_type": "code",
   "execution_count": null,
   "metadata": {},
   "outputs": [],
   "source": []
  },
  {
   "cell_type": "markdown",
   "metadata": {},
   "source": [
    "Perform AdaBoost and Gradient Boosting on Boston, and compare the accuracies. Comment on the performances as well."
   ]
  },
  {
   "cell_type": "code",
   "execution_count": null,
   "metadata": {},
   "outputs": [],
   "source": []
  },
  {
   "cell_type": "markdown",
   "metadata": {},
   "source": [
    "In practice, we use an XGBoost (eXtreme Gradient Boosting) model, which outperforms typical boosting models due to its ability to be parallelized AND having the appropriate tunable regularisation and tree parameters. Try reading up the documentation on `xgboost` and tune an `xgboost model`."
   ]
  },
  {
   "cell_type": "code",
   "execution_count": null,
   "metadata": {},
   "outputs": [],
   "source": []
  },
  {
   "cell_type": "markdown",
   "metadata": {},
   "source": [
    "## 6.3 Stacking"
   ]
  },
  {
   "cell_type": "markdown",
   "metadata": {},
   "source": [
    "Finally, stacking helps us bring all the models we have done from all the past attempts into one big model. Before this, we have been evaluating models at an individual level. How can we best bring the performance of all these models together, into one even stronger model?\n",
    "\n",
    "One such approach is stacking. Stacking is building a meta-level model that can take the results of each model, and combine them in an appropriate manner to create a even stronger model. Stacking-based meta-models have seen [success on modelling competitions](https://blogs.sas.com/content/subconsciousmusings/2017/05/18/stacked-ensemble-models-win-data-science-competitions/) in recent years, due to availability of compute power to data scientists.\n",
    "\n",
    "Build a linear regression meta model stacking on top of all the models you've built so far. Report on your accuracy - this is the final accuracy we are looking at."
   ]
  },
  {
   "cell_type": "code",
   "execution_count": null,
   "metadata": {},
   "outputs": [],
   "source": []
  },
  {
   "cell_type": "markdown",
   "metadata": {},
   "source": [
    "We can observe that the minimum MSE corresponds to the point where the balance between bias and variance is met. MSE is accessible by us. This is the reason why cross-validation and outsample test methods used in Week 1 can be used not only for validation, but also for us to tune our model complexity. In the following sections, we will explore how we use them to guide model selection, hyperparameter tuning, regularisation and ensemble methods; all to get the best generalisation capability possible (i.e. the balancing act)."
   ]
  },
  {
   "cell_type": "markdown",
   "metadata": {},
   "source": [
    "# Congratulations! \n",
    "### You have reached the end of our notebook :)\n",
    "#### Now what?\n",
    "If you still have time and you're considering what would be the best use of it, <br>\n",
    "please continue and try your luck with the next (and optional) section of the notebook.<br>\n",
    "Alternatively, if you have yet to completed the previous notebook, or if there are parts you wish to go back to and revisit/revise/tune or read up more about, feel free to do so..."
   ]
  },
  {
   "cell_type": "markdown",
   "metadata": {},
   "source": [
    "<img src=\"./Fireworks.jpg\">"
   ]
  },
  {
   "cell_type": "markdown",
   "metadata": {},
   "source": [
    "# 7. Other directions (Optional)"
   ]
  },
  {
   "cell_type": "markdown",
   "metadata": {},
   "source": [
    "1. Try and repeat the notebook's process, only this time use classification models/problem instead of regression.\n",
    "2. Bias-variance is only one means of model profiling we looked into in this notebookt. Try to research and look into  other measures of model profiling, i.e. by vc dimension, induction bias, empirical risk minimisation.\n"
   ]
  }
 ],
 "metadata": {
  "kernelspec": {
   "display_name": "Python 3",
   "language": "python",
   "name": "python3"
  },
  "language_info": {
   "codemirror_mode": {
    "name": "ipython",
    "version": 3
   },
   "file_extension": ".py",
   "mimetype": "text/x-python",
   "name": "python",
   "nbconvert_exporter": "python",
   "pygments_lexer": "ipython3",
   "version": "3.7.0"
  }
 },
 "nbformat": 4,
 "nbformat_minor": 2
}
