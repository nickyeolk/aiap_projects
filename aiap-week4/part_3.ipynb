{
 "cells": [
  {
   "cell_type": "markdown",
   "metadata": {},
   "source": [
    "# Part 3. Multi Level Perceptron from Scratch "
   ]
  },
  {
   "cell_type": "markdown",
   "metadata": {},
   "source": [
    "In the previous section, we attempted to train a simple 2 layer MLP on Keras. Keras, being a high level abstracted framework, hides the details behind the model and simplifies the process. We will now try to build our own 2 layer MLP, purely out of NumPy, which will unveil the hidden components of neural network training. Similar to past from-scratch attempts, we will start by creating a class."
   ]
  },
  {
   "cell_type": "markdown",
   "metadata": {},
   "source": [
    "## 1. Create a class `MLPTwoLayers`\n",
    "\n",
    "- One of the starting points to take care of while building your network is to initialize your weight matrix correctly. Consider appropriate sizes for your input, hidden and output layers - your __init__ method should take in the params `input_size`, `hidden_size`, `output_size`. Then, using these variables, initialise the weights for the hidden layers `w1`, `w2`, `b1`, and `b2`."
   ]
  },
  {
   "cell_type": "code",
   "execution_count": 400,
   "metadata": {},
   "outputs": [],
   "source": [
    "import numpy as np"
   ]
  },
  {
   "cell_type": "code",
   "execution_count": 401,
   "metadata": {},
   "outputs": [
    {
     "name": "stdout",
     "output_type": "stream",
     "text": [
      "The autoreload extension is already loaded. To reload it, use:\n",
      "  %reload_ext autoreload\n"
     ]
    }
   ],
   "source": [
    "%load_ext autoreload\n",
    "%autoreload 2\n",
    "from src.mlp import MLPTwoLayers as MLP\n",
    "import src.week4_func as wk4"
   ]
  },
  {
   "cell_type": "code",
   "execution_count": 402,
   "metadata": {},
   "outputs": [
    {
     "name": "stdout",
     "output_type": "stream",
     "text": [
      "(3072, 100) (100, 10) (100,) (10,)\n"
     ]
    }
   ],
   "source": [
    "mlp = MLP(3072, 100, 10)\n",
    "print(np.shape(mlp.w1),np.shape(mlp.w2),np.shape(mlp.b1),np.shape(mlp.b2))"
   ]
  },
  {
   "cell_type": "markdown",
   "metadata": {},
   "source": [
    "## 2. Create a `forward ` method, which takes in a set of features\n",
    "- Create the `forward` method to calculate the predicted class probabilities of an image. This is known as a forward pass.  You should wrap the hidden layer with a sigmoid function (or others if you prefer), and the output layer with a softmax function."
   ]
  },
  {
   "cell_type": "code",
   "execution_count": 403,
   "metadata": {},
   "outputs": [
    {
     "data": {
      "text/plain": [
       "array([3.75951385e-08, 3.48020497e-02, 1.46012324e-06, 5.94387783e-01,\n",
       "       2.92810456e-05, 3.43488986e-01, 1.34959681e-06, 8.33167130e-03,\n",
       "       4.72006712e-06, 1.89526607e-02])"
      ]
     },
     "execution_count": 403,
     "metadata": {},
     "output_type": "execute_result"
    }
   ],
   "source": [
    "# import your data preparation methods here, ensure your data is randomized\n",
    "df = wk4.just_dataframes('./data/cifar-10-batches-py/data_batch_1')\n",
    "X = df.drop('target',axis=1).values/255\n",
    "y = df['target'].values\n",
    "preds = mlp.forward(X[0])\n",
    "preds"
   ]
  },
  {
   "cell_type": "code",
   "execution_count": 404,
   "metadata": {},
   "outputs": [
    {
     "data": {
      "text/plain": [
       "array([3.75951385e-08, 3.48020497e-02, 1.46012324e-06, 5.94387783e-01,\n",
       "       2.92810456e-05, 3.43488986e-01, 1.34959681e-06, 8.33167130e-03,\n",
       "       4.72006712e-06, 1.89526607e-02])"
      ]
     },
     "execution_count": 404,
     "metadata": {},
     "output_type": "execute_result"
    }
   ],
   "source": [
    "mlp.x2a"
   ]
  },
  {
   "cell_type": "markdown",
   "metadata": {},
   "source": [
    "## 3. Create a `loss` method, which takes in the predicted probability and actual label\n",
    "- Compute the loss function: This is a function of the actual label y and predicted label y. It captures how far off our predictions are from the actual target. The objective is to minimize this loss function. "
   ]
  },
  {
   "cell_type": "code",
   "execution_count": 405,
   "metadata": {},
   "outputs": [
    {
     "data": {
      "text/plain": [
       "13.515704668991663"
      ]
     },
     "execution_count": 405,
     "metadata": {},
     "output_type": "execute_result"
    }
   ],
   "source": [
    "train_loss = mlp.loss(preds, y[0])\n",
    "train_loss"
   ]
  },
  {
   "cell_type": "markdown",
   "metadata": {},
   "source": [
    "## 4. Create a `backward` method, which takes in the loss\n",
    "- Using the backpropogation algorithm, execute the backward pass and adjust the weights and bias accordingly\n",
    "- You can use a default learning rate of 1e-3 for this exercise. If you would like do otherwise, you can try to implement it as a parameter."
   ]
  },
  {
   "cell_type": "markdown",
   "metadata": {},
   "source": [
    "### Backpropogation math!\n",
    "Cross entropy loss function, $J(\\theta)=-\\sum_{c=1}^{M}y_c log(h_{\\theta,c}(x))$  \n",
    "Where,  \n",
    "$h_\\theta(x)$ is the predicted probability of class $c$  \n",
    "$\\theta$ are the weights of your nn  \n",
    "$m$ is the number of training examples (batch size in this case)  \n",
    "  \n",
    "Backpropogation is about finding the gradient of the cost function w.r.t the weights,  \n",
    "$\\large {\\frac{\\partial J(\\theta)}{\\partial \\theta} = \\frac{\\partial J(\\theta)}{\\partial a} * \\frac{\\partial a}{\\partial z} * \\frac{\\partial z}{\\partial \\theta}}$  \n",
    "Where,  \n",
    "$z$ is the input to the node which is equal to output * weight of previous node.  \n",
    "$a$ is the activation, which is the activated input $g(z)$, with $g()$ as the activation(sigmoid) function  \n",
    "$l$ (used below) refers to the layer  \n",
    "  \n",
    "$\\large{ \\frac{\\partial z}{\\partial \\theta} = a_{l-1}}$  \n",
    "$\\large{ \\frac{\\partial a}{\\partial z} = \\frac{\\partial}{\\partial z}g(z) = g'(z)}$  \n",
    "$\\large{ \\frac{\\partial J(\\theta)}{\\partial a} = ypred - y }$ if final layer (l=L). Else,  \n",
    "$\\large{ \\frac{\\partial J(\\theta)}{\\partial a} = \\frac{\\partial J(\\theta)}{\\partial a_{+1}} * \\frac{\\partial a_{+1}}{\\partial z_{+1}} * \\theta }$\n",
    "  \n",
    "To update theta,  \n",
    "$\\theta = \\theta - \\frac{\\partial J(\\theta)}{\\partial \\theta}$  \n",
    "helpful [link](https://doug919.github.io/notes-on-backpropagation-with-cross-entropy/)"
   ]
  },
  {
   "cell_type": "code",
   "execution_count": 406,
   "metadata": {},
   "outputs": [],
   "source": [
    "mlp.backward(train_loss)"
   ]
  },
  {
   "cell_type": "markdown",
   "metadata": {},
   "source": [
    "Now, we can try training the model."
   ]
  },
  {
   "cell_type": "code",
   "execution_count": 407,
   "metadata": {},
   "outputs": [
    {
     "name": "stdout",
     "output_type": "stream",
     "text": [
      "11.4936888995\n"
     ]
    }
   ],
   "source": [
    "# initial attempt at training\n",
    "test_loss = 0\n",
    "for i in range(3000, 3500):\n",
    "    test_loss += mlp.loss(mlp.forward(X[i]), y[i])\n",
    "print(test_loss / 500)"
   ]
  },
  {
   "cell_type": "code",
   "execution_count": 408,
   "metadata": {
    "scrolled": true
   },
   "outputs": [
    {
     "name": "stdout",
     "output_type": "stream",
     "text": [
      "Item 0\n",
      "Item 100\n",
      "Item 200\n",
      "Item 300\n",
      "Item 400\n",
      "Item 500\n",
      "Item 600\n",
      "Item 700\n",
      "Item 800\n",
      "Item 900\n",
      "Item 1000\n",
      "Item 1100\n",
      "Item 1200\n",
      "Item 1300\n",
      "Item 1400\n",
      "Item 1500\n",
      "Item 1600\n",
      "Item 1700\n",
      "Item 1800\n",
      "Item 1900\n",
      "Item 2000\n",
      "Item 2100\n",
      "Item 2200\n",
      "Item 2300\n",
      "Item 2400\n",
      "Item 2500\n",
      "Item 2600\n",
      "Item 2700\n",
      "Item 2800\n",
      "Item 2900\n",
      "Item 3000\n",
      "Item 3100\n",
      "Item 3200\n",
      "Item 3300\n",
      "Item 3400\n",
      "Item 3500\n",
      "Item 3600\n",
      "Item 3700\n",
      "Item 3800\n",
      "Item 3900\n",
      "Item 4000\n",
      "Item 4100\n",
      "Item 4200\n",
      "Item 4300\n",
      "Item 4400\n",
      "Item 4500\n",
      "Item 4600\n",
      "Item 4700\n",
      "Item 4800\n",
      "Item 4900\n",
      "Item 5000\n",
      "Item 5100\n",
      "Item 5200\n",
      "Item 5300\n",
      "Item 5400\n",
      "Item 5500\n",
      "Item 5600\n",
      "Item 5700\n",
      "Item 5800\n",
      "Item 5900\n",
      "Item 6000\n",
      "Item 6100\n",
      "Item 6200\n",
      "Item 6300\n",
      "Item 6400\n",
      "Item 6500\n",
      "Item 6600\n",
      "Item 6700\n",
      "Item 6800\n",
      "Item 6900\n",
      "Item 7000\n",
      "Item 7100\n",
      "Item 7200\n",
      "Item 7300\n",
      "Item 7400\n",
      "Item 7500\n",
      "Item 7600\n",
      "Item 7700\n",
      "Item 7800\n",
      "Item 7900\n",
      "Item 8000\n",
      "Item 8100\n",
      "Item 8200\n",
      "Item 8300\n",
      "Item 8400\n",
      "Item 8500\n",
      "Item 8600\n",
      "Item 8700\n",
      "Item 8800\n",
      "Item 8900\n",
      "Item 9000\n",
      "Item 9100\n",
      "Item 9200\n",
      "Item 9300\n",
      "Item 9400\n",
      "Item 9500\n",
      "Item 9600\n",
      "Item 9700\n",
      "Item 9800\n",
      "Item 9900\n"
     ]
    }
   ],
   "source": [
    "for i in range(10000):\n",
    "    if ((i % 100)==0):\n",
    "        print('Item {}'.format(i))\n",
    "    mlp.backward(loss_graph.append(mlp.loss(mlp.forward(X[i]), y[i])))"
   ]
  },
  {
   "cell_type": "code",
   "execution_count": 409,
   "metadata": {},
   "outputs": [
    {
     "data": {
      "text/plain": [
       "[<matplotlib.lines.Line2D at 0x6950796d30>]"
      ]
     },
     "execution_count": 409,
     "metadata": {},
     "output_type": "execute_result"
    },
    {
     "data": {
      "image/png": "[encoded data removed]",
      "text/plain": [
       "<Figure size 432x288 with 1 Axes>"
      ]
     },
     "metadata": {
      "needs_background": "light"
     },
     "output_type": "display_data"
    }
   ],
   "source": [
    "plt.plot(mlp.loss_collect)"
   ]
  },
  {
   "cell_type": "code",
   "execution_count": 410,
   "metadata": {},
   "outputs": [
    {
     "data": {
      "text/plain": [
       "<matplotlib.collections.PathCollection at 0x69004b73c8>"
      ]
     },
     "execution_count": 410,
     "metadata": {},
     "output_type": "execute_result"
    },
    {
     "data": {
      "image/png": "[encoded data removed]",
      "text/plain": [
       "<Figure size 432x288 with 1 Axes>"
      ]
     },
     "metadata": {
      "needs_background": "light"
     },
     "output_type": "display_data"
    },
    {
     "data": {
      "image/png": "[encoded data removed]",
      "text/plain": [
       "<Figure size 432x288 with 1 Axes>"
      ]
     },
     "metadata": {
      "needs_background": "light"
     },
     "output_type": "display_data"
    }
   ],
   "source": [
    "plt.figure(1)\n",
    "plt.scatter(np.arange(len(mlp.correct)),mlp.correct,alpha=0.1)\n",
    "plt.figure(2)\n",
    "plt.scatter(mlp.correct,mlp.loss_collect)"
   ]
  },
  {
   "cell_type": "markdown",
   "metadata": {},
   "source": [
    "Finally, re-test your model."
   ]
  },
  {
   "cell_type": "code",
   "execution_count": 414,
   "metadata": {},
   "outputs": [
    {
     "name": "stdout",
     "output_type": "stream",
     "text": [
      "2.330535673828959\n"
     ]
    }
   ],
   "source": [
    "test_loss = 0\n",
    "for i in range(3000, 3500):\n",
    "    test_loss += mlp.loss(mlp.forward(X[i]), y[i])\n",
    "print(test_loss / 500)"
   ]
  },
  {
   "cell_type": "code",
   "execution_count": 415,
   "metadata": {},
   "outputs": [
    {
     "name": "stdout",
     "output_type": "stream",
     "text": [
      "(100,) (1, 100) (3072,) (3072, 100)\n"
     ]
    }
   ],
   "source": [
    "np.shape(mlp.t3_1.reshape(-1,1))\n",
    "print(np.shape(mlp.t1_1),np.shape(mlp.t2_1.reshape(1,-1)),np.shape(mlp.t3_1),np.shape(mlp.big_delt1))"
   ]
  },
  {
   "cell_type": "code",
   "execution_count": 416,
   "metadata": {},
   "outputs": [
    {
     "name": "stdout",
     "output_type": "stream",
     "text": [
      "[0.04365513 0.30394909 0.16251608 0.16521133 0.03696121 0.06434852\n",
      " 0.10236853 0.04735717 0.01364503 0.05998791]\n",
      "5\n",
      "[0. 0. 0. 0. 0. 1. 0. 0. 0. 0.]\n",
      "1\n",
      "[ 0.03756409  0.10290862  0.11511838  0.19110779  0.08539902 -0.94370633\n",
      "  0.29853821  0.06814392  0.01749351  0.0274328 ]\n",
      "[[ 0.59223222  1.09315446  0.62232131 ... -0.97978096 -1.66987993\n",
      "  -0.87996517]\n",
      " [-0.29656501  0.63761514  0.0477541  ...  0.18210719 -0.88293979\n",
      "   0.38359475]\n",
      " [-0.76853606  0.78635952  1.39218657 ...  0.07595923  0.9241994\n",
      "   0.2019445 ]\n",
      " ...\n",
      " [ 1.56326063 -0.79805755 -0.25829058 ... -0.2806704   1.17989208\n",
      "  -0.14678428]\n",
      " [-0.86467255 -1.12511555 -0.6638375  ...  2.79000797  0.80404569\n",
      "   0.32586139]\n",
      " [-0.89968526  0.62650923  1.19709679 ... -1.01918753  0.45265107\n",
      "  -1.30665607]]\n",
      "[0.04365513 0.30394909 0.16251608 0.16521133 0.03696121 0.06434852\n",
      " 0.10236853 0.04735717 0.01364503 0.05998791]\n"
     ]
    }
   ],
   "source": [
    "print(mlp.y_pred)\n",
    "print(mlp.y)\n",
    "print(mlp.y_hot)\n",
    "print(np.argmax(mlp.y_pred))\n",
    "print(mlp.lossx)\n",
    "print((mlp.w1))\n",
    "print(mlp.x2a)\n",
    "# print(mlp.t1_2)\n",
    "# mlp.w2[:]=0\n",
    "# np.dot(mlp.w2,mlp.t1_2)\n",
    "\n"
   ]
  },
  {
   "cell_type": "markdown",
   "metadata": {},
   "source": [
    "Hopefully, you see that your test loss has decreased after training!"
   ]
  },
  {
   "cell_type": "markdown",
   "metadata": {},
   "source": [
    "# Part 4. Convolutional Neural Network (CNN)\n",
    "Please attempt this section only after you have completed the rest!\n",
    "\n",
    "In the previous part, you implemented a multilayer perceptron network on CIFAR-10. The implementation was simple but not very modular since the loss and gradient were computed in a single monolithic function. This is manageable for a simple two-layer network, but would become impractical as you move to bigger models. Ideally, you want to build networks using a more modular design so that you can implement different layer types in isolation and then snap them together into models with different architectures.\n",
    "\n",
    "In this part of exercise, you will implement a close to state-of-the-art deep learning model for CIFAR-10 with the Keras Deep Learning library. In addition to implementing convolutional networks of various depth, you will need to explore different update rules for optimization, and introduce **Dropout** as a regularizer, **Batch Normalization** and **Data Augmentation** as a tool to more efficiently optimize deep networks.\n",
    "\n",
    "We saw models performing >98% accuracy on `CIFAR-10`, while most state-of-the-art models cross the 97% boundary. In general, models beyond **95%** are fairly decent.\n",
    "\n",
    "## Reading resources\n",
    "\n",
    "[Dropout](http://www.jmlr.org/papers/volume15/srivastava14a/srivastava14a.pdf?utm_content=buffer79b43&utm_medium=social&utm_source=twitter.com&utm_campaign=buffer) is a regularization technique for overfitting in neural networks by preventing complex co-adaptations on training data. It is a very efficient way of performing model averaging with neural networks.\n",
    "\n",
    "[Batch Normalization](https://pdfs.semanticscholar.org/c1ba/ed41e4bc9401b1b2ec8ef55ba45543f7a1a3.pdf) is a technique to provide any layer in a neural network with inputs that are zero mean/unit variance.\n",
    "\n",
    "[Data Augmentation](https://medium.com/nanonets/how-to-use-deep-learning-when-you-have-limited-data-part-2-data-augmentation-c26971dc8ced) means increasing the number of data points. In terms of images, it may mean that increasing the number of images in the dataset."
   ]
  },
  {
   "cell_type": "markdown",
   "metadata": {},
   "source": [
    "- Enhancing the performance of you existing model in part 2 with convolutional neural networks\n",
    "- The implementation of model should be done by using Keras (or PyTorch)\n",
    "- Train your designed model \n",
    "- Improve performance with algorithm tuning: Dropout, Batch normalization, Data augmentation and other optimizers"
   ]
  },
  {
   "cell_type": "code",
   "execution_count": 431,
   "metadata": {},
   "outputs": [],
   "source": [
    "# Small test with pytorch first\n",
    "import torch\n",
    "import torch.nn as nn\n",
    "import torch.optim as optim\n",
    "import torch.nn.functional as F\n",
    "from torch.utils.data import TensorDataset, DataLoader\n",
    "df_1 = wk4.just_dataframes('./data/cifar-10-batches-py/data_batch_1')\n",
    "df_test = wk4.just_dataframes('./data/cifar-10-batches-py/test_batch')\n",
    "X_all = df_1.drop('target',axis=1).values/255\n",
    "X_train = X_all\n",
    "X_train = X_train.reshape(-1,3,32,32,order='C')\n",
    "y_train = df_1['target'].values\n",
    "X_test = df_test.drop('target',axis=1).values/255\n",
    "X_test = X_test.reshape(-1,3,32,32,order='C')\n",
    "y_test = df_test['target'].values"
   ]
  },
  {
   "cell_type": "code",
   "execution_count": 373,
   "metadata": {},
   "outputs": [
    {
     "data": {
      "text/plain": [
       "(10000, 3, 32, 32)"
      ]
     },
     "execution_count": 373,
     "metadata": {},
     "output_type": "execute_result"
    }
   ],
   "source": [
    "\n",
    "np.shape(X_train)"
   ]
  },
  {
   "cell_type": "code",
   "execution_count": 1,
   "metadata": {},
   "outputs": [
    {
     "ename": "NameError",
     "evalue": "name 'TensorDataset' is not defined",
     "output_type": "error",
     "traceback": [
      "\u001b[1;31m---------------------------------------------------------------------------\u001b[0m",
      "\u001b[1;31mNameError\u001b[0m                                 Traceback (most recent call last)",
      "\u001b[1;32m<ipython-input-1-d69f65733094>\u001b[0m in \u001b[0;36m<module>\u001b[1;34m\u001b[0m\n\u001b[1;32m----> 1\u001b[1;33m \u001b[0mtrain_data\u001b[0m \u001b[1;33m=\u001b[0m \u001b[0mTensorDataset\u001b[0m\u001b[1;33m(\u001b[0m\u001b[0mtorch\u001b[0m\u001b[1;33m.\u001b[0m\u001b[0mfrom_numpy\u001b[0m\u001b[1;33m(\u001b[0m\u001b[0mX_train\u001b[0m\u001b[1;33m)\u001b[0m\u001b[1;33m.\u001b[0m\u001b[0mfloat\u001b[0m\u001b[1;33m(\u001b[0m\u001b[1;33m)\u001b[0m\u001b[1;33m,\u001b[0m\u001b[0mtorch\u001b[0m\u001b[1;33m.\u001b[0m\u001b[0mfrom_numpy\u001b[0m\u001b[1;33m(\u001b[0m\u001b[0my_train\u001b[0m\u001b[1;33m)\u001b[0m\u001b[1;33m)\u001b[0m\u001b[1;33m\u001b[0m\u001b[0m\n\u001b[0m\u001b[0;32m      2\u001b[0m \u001b[0mtrainloader\u001b[0m \u001b[1;33m=\u001b[0m \u001b[0mDataLoader\u001b[0m\u001b[1;33m(\u001b[0m\u001b[0mtrain_data\u001b[0m\u001b[1;33m,\u001b[0m\u001b[0mbatch_size\u001b[0m\u001b[1;33m=\u001b[0m\u001b[1;36m10\u001b[0m\u001b[1;33m,\u001b[0m\u001b[0mshuffle\u001b[0m\u001b[1;33m=\u001b[0m\u001b[1;32mTrue\u001b[0m\u001b[1;33m)\u001b[0m\u001b[1;33m\u001b[0m\u001b[0m\n\u001b[0;32m      3\u001b[0m \u001b[0mtest_data\u001b[0m \u001b[1;33m=\u001b[0m \u001b[0mTensorDataset\u001b[0m\u001b[1;33m(\u001b[0m\u001b[0mtorch\u001b[0m\u001b[1;33m.\u001b[0m\u001b[0mfrom_numpy\u001b[0m\u001b[1;33m(\u001b[0m\u001b[0mX_test\u001b[0m\u001b[1;33m)\u001b[0m\u001b[1;33m.\u001b[0m\u001b[0mfloat\u001b[0m\u001b[1;33m(\u001b[0m\u001b[1;33m)\u001b[0m\u001b[1;33m,\u001b[0m\u001b[0mtorch\u001b[0m\u001b[1;33m.\u001b[0m\u001b[0mfrom_numpy\u001b[0m\u001b[1;33m(\u001b[0m\u001b[0my_test\u001b[0m\u001b[1;33m)\u001b[0m\u001b[1;33m)\u001b[0m\u001b[1;33m\u001b[0m\u001b[0m\n\u001b[0;32m      4\u001b[0m \u001b[0mtestloader\u001b[0m \u001b[1;33m=\u001b[0m \u001b[0mDataLoader\u001b[0m\u001b[1;33m(\u001b[0m\u001b[0mtest_data\u001b[0m\u001b[1;33m,\u001b[0m\u001b[0mbatch_size\u001b[0m\u001b[1;33m=\u001b[0m\u001b[1;36m10\u001b[0m\u001b[1;33m,\u001b[0m\u001b[0mshuffle\u001b[0m\u001b[1;33m=\u001b[0m\u001b[1;32mFalse\u001b[0m\u001b[1;33m)\u001b[0m\u001b[1;33m\u001b[0m\u001b[0m\n\u001b[0;32m      5\u001b[0m \u001b[1;32mclass\u001b[0m \u001b[0mNet\u001b[0m\u001b[1;33m(\u001b[0m\u001b[0mnn\u001b[0m\u001b[1;33m.\u001b[0m\u001b[0mModule\u001b[0m\u001b[1;33m)\u001b[0m\u001b[1;33m:\u001b[0m\u001b[1;33m\u001b[0m\u001b[0m\n",
      "\u001b[1;31mNameError\u001b[0m: name 'TensorDataset' is not defined"
     ]
    }
   ],
   "source": [
    "train_data = TensorDataset(torch.from_numpy(X_train).float(),torch.from_numpy(y_train))\n",
    "trainloader = DataLoader(train_data,batch_size=10,shuffle=True)\n",
    "test_data = TensorDataset(torch.from_numpy(X_test).float(),torch.from_numpy(y_test))\n",
    "testloader = DataLoader(test_data,batch_size=10,shuffle=False)\n",
    "class Net(nn.Module):\n",
    "    def __init__(self):\n",
    "        super(Net, self).__init__()\n",
    "        self.conv1 = nn.Conv2d(3, 16, 3, padding=1)\n",
    "        self.pool = nn.MaxPool2d(2, 2)\n",
    "        self.batchnorm1 = nn.BatchNorm2d(16)\n",
    "        self.conv2 = nn.Conv2d(16, 32, 3, padding=1)\n",
    "        self.batchnorm2 = nn.BatchNorm2d(32)\n",
    "        self.fc1 = nn.Linear(32 * 8 * 8, 128)\n",
    "        self.batchnorm3 = nn.BatchNorm1d(128)\n",
    "        self.fc2 = nn.Linear(128, 64)\n",
    "        self.batchnorm4 = nn.BatchNorm1d(64)\n",
    "        self.fc3 = nn.Linear(64, 10)\n",
    "\n",
    "    def forward(self, x):\n",
    "        x = self.pool(F.relu(self.conv1(x)))\n",
    "        x = self.batchnorm1(x)\n",
    "        x = self.pool(F.relu(self.conv2(x)))\n",
    "        x = self.batchnorm2(x)\n",
    "        x = x.view(-1, 32 * 8 * 8)\n",
    "        x = F.relu(self.fc1(x))\n",
    "        x = self.batchnorm3(x)\n",
    "        x = F.relu(self.fc2(x))\n",
    "        x = self.batchnorm4(x)\n",
    "        x = self.fc3(x)\n",
    "        return x\n",
    "net=Net()\n",
    "# define loss and optimizer\n",
    "criterion = nn.CrossEntropyLoss()\n",
    "optimizer = optim.SGD(net.parameters(), lr=0.001, momentum=0.9)\n",
    "def train_model(net,trainloader,criterion,optimizier):\n",
    "    for epoch in range(5):  # loop over the dataset multiple times\n",
    "\n",
    "        running_loss = 0.0\n",
    "        for i,data in enumerate(trainloader):\n",
    "            # get the inputs\n",
    "            inputs, labels = data #otherwise\n",
    "\n",
    "            # zero the parameter gradients\n",
    "            optimizer.zero_grad()\n",
    "\n",
    "            # forward + backward + optimize\n",
    "            outputs = net(inputs)\n",
    "            loss = criterion(outputs, labels)\n",
    "            loss.backward()\n",
    "            optimizer.step()\n",
    "\n",
    "            # print statistics\n",
    "            running_loss += loss.item()\n",
    "            if i % 200 == 199:    # print every 200 mini-batches\n",
    "                print('[%d, %5d] loss: %.3f' %\n",
    "                      (epoch + 1, i + 1, running_loss / 200))\n",
    "                running_loss = 0.0\n",
    "\n",
    "    print('Finished Training')\n",
    "    return net\n",
    "net = train_model(net,trainloader,criterion,optimizer)"
   ]
  },
  {
   "cell_type": "code",
   "execution_count": 440,
   "metadata": {},
   "outputs": [
    {
     "name": "stdout",
     "output_type": "stream",
     "text": [
      "Accuracy of the network on the 10000 test images: 51 %\n"
     ]
    }
   ],
   "source": [
    "def scoring(net,testloader):\n",
    "    correct = 0\n",
    "    total = 0\n",
    "    with torch.no_grad():\n",
    "        for data in testloader:\n",
    "#             images, labels = data['image'],data['target'] # if using object data constructor\n",
    "            images, labels = data\n",
    "            outputs = net(images)\n",
    "            _, predicted = torch.max(outputs.data, 1)\n",
    "            total += labels.size(0)\n",
    "            correct += (predicted == labels).sum().item()\n",
    "\n",
    "    print('Accuracy of the network on the 10000 test images: %d %%' % (\n",
    "        100 * correct / total))\n",
    "scoring(net,testloader)"
   ]
  },
  {
   "cell_type": "code",
   "execution_count": 426,
   "metadata": {},
   "outputs": [
    {
     "data": {
      "text/plain": [
       "Net(\n",
       "  (conv1): Conv2d(3, 32, kernel_size=(3, 3), stride=(1, 1), padding=(1, 1))\n",
       "  (pool): MaxPool2d(kernel_size=2, stride=2, padding=0, dilation=1, ceil_mode=False)\n",
       "  (conv2): Conv2d(32, 64, kernel_size=(3, 3), stride=(1, 1), padding=(1, 1))\n",
       "  (fc1): Linear(in_features=4096, out_features=512, bias=True)\n",
       "  (fc2): Linear(in_features=512, out_features=10, bias=True)\n",
       ")"
      ]
     },
     "execution_count": 426,
     "metadata": {},
     "output_type": "execute_result"
    }
   ],
   "source": [
    "net"
   ]
  }
 ],
 "metadata": {
  "kernelspec": {
   "display_name": "Python (py3env)",
   "language": "python",
   "name": "py3env"
  },
  "language_info": {
   "codemirror_mode": {
    "name": "ipython",
    "version": 3
   },
   "file_extension": ".py",
   "mimetype": "text/x-python",
   "name": "python",
   "nbconvert_exporter": "python",
   "pygments_lexer": "ipython3",
   "version": "3.6.6"
  }
 },
 "nbformat": 4,
 "nbformat_minor": 1
}
