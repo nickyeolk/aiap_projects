{
 "cells": [
  {
   "cell_type": "markdown",
   "metadata": {},
   "source": [
    "# Part 2. Deep Learning Frameworks"
   ]
  },
  {
   "cell_type": "markdown",
   "metadata": {},
   "source": [
    "Before we go into deep learning modelling, we will first need to have a quick familiarisation with a deep learning framework. We recommend __[Keras](https://keras.io)__, which is built on top of Tensorflow, but alternatively, you can consider __[PyTorch](https://pytorch.org)__. Resources are abundant online on how to use them, but here are some official guides to get you started:\n",
    "- PyTorch has a [60 Minute Blitz Guide](https://pytorch.org/tutorials/beginner/blitz/tensor_tutorial.html)\n",
    "- Tensorflow has an [Intro to Keras guide](https://www.tensorflow.org/guide/keras)\n",
    "\n",
    "A few words on the difference between Keras and PyTorch - Keras is a high level wrapper on top of Google's Tensorflow, the most popular deep learning framework out there. Being more low level, Tensorflow faces many issues and troubles, which are addressed by the abstractions of Keras, making it a great way to start. Facebook's PyTorch on the other hand is a newcomer which has received massive interest in recent years, and is playing catch up to Tensorflow/Keras.\n",
    "\n",
    "If you are more interested in how deep learning software has evolved since the days of Caffe and Theano as well as more in depth into what is happening in the software behind the scenes, we also recommend a [full lecture from Stanford](https://www.youtube.com/watch?v=6SlgtELqOWc) on this topic, although this is extra knowledge that isn't fully critical to this week."
   ]
  },
  {
   "cell_type": "markdown",
   "metadata": {},
   "source": [
    "Base on the tutorials you go through, you should be ready to build a 2 (or more) layer Multi-Level Perceptron (MLP) with deep learning. With the dataset you have prepared your machine learning model in the previous section, run your data through a MLP model with `Dense` (`Linear`) layers instead. Do some slight model adjustments, and discuss what kind of adjustments lead to improvements in score."
   ]
  },
  {
   "cell_type": "code",
   "execution_count": 36,
   "metadata": {},
   "outputs": [],
   "source": [
    "import src.week4_func as wk4\n",
    "import torch\n",
    "import torch.nn as nn\n",
    "import torch.nn.functional as F\n",
    "from sklearn.preprocessing import normalize, StandardScaler\n",
    "from sklearn.model_selection import train_test_split\n",
    "from torch.utils.data import Dataset, DataLoader\n",
    "import torch.optim as optim\n",
    "import pandas as pd"
   ]
  },
  {
   "cell_type": "markdown",
   "metadata": {},
   "source": [
    "## 1. Data transformations/preprocessing\n",
    "\n",
    "Most neural networks expect the images of a fixed size. Therefore, you will need to write some prepocessing code. At the basic level, you will need to normalise the data. Use the appropriate data generator/loader methods to encapsulate your data for training purposes. Do the same for both the train and test (and val, if exist) sets."
   ]
  },
  {
   "cell_type": "code",
   "execution_count": 59,
   "metadata": {},
   "outputs": [
    {
     "name": "stdout",
     "output_type": "stream",
     "text": [
      "(50000, 3072)\n"
     ]
    }
   ],
   "source": [
    "# load and normalize data\n",
    "df_1 = wk4.just_dataframes('./data/cifar-10-batches-py/data_batch_1')\n",
    "df = pd.concat([df_1,wk4.just_dataframes('./data/cifar-10-batches-py/data_batch_2')],axis=0)\n",
    "df = pd.concat([df,wk4.just_dataframes('./data/cifar-10-batches-py/data_batch_3')],axis=0)\n",
    "df = pd.concat([df,wk4.just_dataframes('./data/cifar-10-batches-py/data_batch_4')],axis=0)\n",
    "df = pd.concat([df,wk4.just_dataframes('./data/cifar-10-batches-py/data_batch_5')],axis=0)\n",
    "df_test = wk4.just_dataframes('./data/cifar-10-batches-py/test_batch')\n",
    "X_all = df.drop('target',axis=1).values/255\n",
    "\n",
    "# X_train,X_val,y_train,y_val = train_test_split(X_all,df['target'],test_size=0.05,random_state=42,shuffle=True)\n",
    "# X_train,X_test,y_train,y_test = train_test_split(X_train,y_train,test_size=0.21,random_state=42,shuffle=True)\n",
    "X_train = X_all\n",
    "y_train = df['target'].values\n",
    "X_test = df_test.drop('target',axis=1).values/255\n",
    "y_test = df_test['target'].values\n",
    "print(X_train.shape)"
   ]
  },
  {
   "cell_type": "code",
   "execution_count": 61,
   "metadata": {},
   "outputs": [
    {
     "name": "stdout",
     "output_type": "stream",
     "text": [
      "0 torch.Size([3072]) torch.Size([])\n",
      "1 torch.Size([3072]) torch.Size([])\n",
      "2 torch.Size([3072]) torch.Size([])\n",
      "3 torch.Size([3072]) torch.Size([])\n"
     ]
    }
   ],
   "source": [
    "# Build data object\n",
    "class cifar10(Dataset):\n",
    "    '''Inherited class from torch.utils.data.Dataset'''\n",
    "    def __init__(self, X_train, y_train, transform=None):\n",
    "        self.X = torch.from_numpy(X_train).float()\n",
    "        self.y = torch.from_numpy(y_train)\n",
    "        self.y2 = y_train\n",
    "        self.transform = transform\n",
    "    def __len__(self):\n",
    "        return len(self.y2)\n",
    "    def __getitem__(self, idx):\n",
    "        image = self.X[idx,:]\n",
    "        target = self.y[idx]\n",
    "        sample = {'image': image, 'target': target}\n",
    "        if self.transform:\n",
    "            sample = self.transform(sample)\n",
    "        return sample\n",
    "\n",
    "cifar_data = cifar10(X_train,y_train)\n",
    "\n",
    "trainloader = DataLoader(cifar_data, batch_size=10,\n",
    "                                          shuffle=True)\n",
    "testloader = DataLoader(cifar10(X_test,y_test), batch_size=10,\n",
    "                                          shuffle=False)\n",
    "\n",
    "for i in range(len(cifar_data)): # Just print this to make sure it worked. '0 torch.Size([3072]) torch.Size([])'\n",
    "    sample = cifar_data[i]\n",
    "    print(i, sample['image'].size(), sample['target'].size())\n",
    "    if i == 3:\n",
    "        break"
   ]
  },
  {
   "cell_type": "markdown",
   "metadata": {},
   "source": [
    "## 2.  Build multi-layer perceptron neural network models with Keras \n",
    "\n",
    "The Keras Python library for deep learning focuses on the creation of models as a sequence of layers.\n",
    "\n",
    "In here, you will discover the simple components that you can use to create neural networks and simple deep learning models using Keras."
   ]
  },
  {
   "cell_type": "code",
   "execution_count": 68,
   "metadata": {},
   "outputs": [],
   "source": [
    "# play cheat using torchvision dataset\n",
    "# import torchvision\n",
    "# import torchvision.transforms as transforms\n",
    "# transform = transforms.Compose(\n",
    "#     [transforms.ToTensor(),\n",
    "#      transforms.Normalize((0.5, 0.5, 0.5), (0.5, 0.5, 0.5))])\n",
    "\n",
    "# trainset = torchvision.datasets.CIFAR10(root='./data', train=True,\n",
    "#                                         download=True, transform=transform)\n",
    "# trainloader = torch.utils.data.DataLoader(trainset, batch_size=4,\n",
    "#                                           shuffle=True, num_workers=2)\n",
    "\n",
    "# testset = torchvision.datasets.CIFAR10(root='./data', train=False,\n",
    "#                                        download=True, transform=transform)\n",
    "# testloader = torch.utils.data.DataLoader(testset, batch_size=4,\n",
    "#                                          shuffle=False, num_workers=2)\n",
    "\n",
    "# classes = ('plane', 'car', 'bird', 'cat',\n",
    "#            'deer', 'dog', 'frog', 'horse', 'ship', 'truck')"
   ]
  },
  {
   "cell_type": "code",
   "execution_count": 63,
   "metadata": {},
   "outputs": [],
   "source": [
    "# class Net(nn.Module):\n",
    "#     def __init__(self):\n",
    "#         super(Net, self).__init__()\n",
    "#         self.conv1 = nn.Conv2d(3, 6, 5)\n",
    "#         self.pool = nn.MaxPool2d(2, 2)\n",
    "#         self.conv2 = nn.Conv2d(6, 16, 5)\n",
    "#         self.fc1 = nn.Linear(16 * 5 * 5, 120)\n",
    "#         self.fc2 = nn.Linear(120, 84)\n",
    "#         self.fc3 = nn.Linear(84, 10)\n",
    "\n",
    "#     def forward(self, x):\n",
    "#         x = self.pool(F.relu(self.conv1(x)))\n",
    "#         x = self.pool(F.relu(self.conv2(x)))\n",
    "#         x = x.view(-1, 16 * 5 * 5)\n",
    "#         x = F.relu(self.fc1(x))\n",
    "#         x = F.relu(self.fc2(x))\n",
    "#         x = self.fc3(x)\n",
    "#         return x\n",
    "\n",
    "class FlatNet(nn.Module):\n",
    "    '''Build 2-layer NN'''\n",
    "    def __init__(self):\n",
    "        super(FlatNet, self).__init__()\n",
    "        self.fc1 = nn.Linear(32*32*3, 128)\n",
    "        self.fc2 = nn.Linear(128, 10)\n",
    "\n",
    "    def forward(self, x):\n",
    "        x = F.relu(self.fc1(x))\n",
    "        x = self.fc2(x)\n",
    "        return x\n",
    "    \n",
    "net = FlatNet()"
   ]
  },
  {
   "cell_type": "code",
   "execution_count": 64,
   "metadata": {},
   "outputs": [],
   "source": [
    "# define loss and optimizer\n",
    "criterion = nn.CrossEntropyLoss()\n",
    "optimizer = optim.SGD(net.parameters(), lr=0.001, momentum=0.9)"
   ]
  },
  {
   "cell_type": "code",
   "execution_count": null,
   "metadata": {},
   "outputs": [],
   "source": [
    "inputs, labels = next(iter(trainloader))\n",
    "inputs"
   ]
  },
  {
   "cell_type": "code",
   "execution_count": 77,
   "metadata": {},
   "outputs": [],
   "source": [
    "def train_model(net,trainloader,criterion,optimizier):\n",
    "    for epoch in range(5):  # loop over the dataset multiple times\n",
    "\n",
    "        running_loss = 0.0\n",
    "        for inputs, labels in trainloader:\n",
    "            # get the inputs\n",
    "#             inputs, labels = data['image'] , data['target']\n",
    "\n",
    "            # zero the parameter gradients\n",
    "            optimizer.zero_grad()\n",
    "\n",
    "            # forward + backward + optimize\n",
    "            outputs = net(inputs)\n",
    "            loss = criterion(outputs, labels)\n",
    "            loss.backward()\n",
    "            optimizer.step()\n",
    "\n",
    "            # print statistics\n",
    "            running_loss += loss.item()\n",
    "            if i % 2000 == 1999:    # print every 200 mini-batches\n",
    "                print('[%d, %5d] loss: %.3f' %\n",
    "                      (epoch + 1, i + 1, running_loss / 2000))\n",
    "                running_loss = 0.0\n",
    "\n",
    "    print('Finished Training')\n",
    "    return net\n",
    "net = train_model(net,trainloader,criterion,optimizer)"
   ]
  },
  {
   "cell_type": "code",
   "execution_count": 71,
   "metadata": {},
   "outputs": [
    {
     "name": "stdout",
     "output_type": "stream",
     "text": [
      "Accuracy of the network on the 10000 test images: 43 %\n"
     ]
    }
   ],
   "source": [
    "def scoring(net,testloader):\n",
    "    correct = 0\n",
    "    total = 0\n",
    "    with torch.no_grad():\n",
    "        for data in testloader:\n",
    "            images, labels = data['image'],data['target']\n",
    "            outputs = net(images)\n",
    "            _, predicted = torch.max(outputs.data, 1)\n",
    "            total += labels.size(0)\n",
    "            correct += (predicted == labels).sum().item()\n",
    "\n",
    "    print('Accuracy of the network on the 10000 test images: %d %%' % (\n",
    "        100 * correct / total))\n",
    "scoring(net,testloader)"
   ]
  },
  {
   "cell_type": "markdown",
   "metadata": {},
   "source": [
    "## 3. Train the MLP network in CIFAR-10\n",
    "\n",
    "The main objective is to train the MLP network to achieve a balance between the ability to respond correctly to the input patterns that are used for training and the ability to provide good response to the input that is similar. Use the stochastic gradient descent optimiser with an appropriate learning rate between 1e-2 and 1e-3. Report your evaluation loss and accuracy, and you can also consider doing things like early stopping to prevent overfitting and achieve the best model."
   ]
  },
  {
   "cell_type": "code",
   "execution_count": 78,
   "metadata": {
    "scrolled": false
   },
   "outputs": [
    {
     "name": "stdout",
     "output_type": "stream",
     "text": [
      "[1,  2000] loss: 1.374\n",
      "[1,  4000] loss: 1.383\n",
      "[2,  2000] loss: 1.362\n",
      "[2,  4000] loss: 1.371\n",
      "[3,  2000] loss: 1.358\n",
      "[3,  4000] loss: 1.354\n",
      "[4,  2000] loss: 1.328\n",
      "[4,  4000] loss: 1.338\n",
      "[5,  2000] loss: 1.310\n",
      "[5,  4000] loss: 1.326\n",
      "Finished Training\n",
      "Accuracy of the network on the 10000 test images: 49 %\n",
      "[1,  2000] loss: 1.302\n",
      "[1,  4000] loss: 1.315\n",
      "[2,  2000] loss: 1.296\n",
      "[2,  4000] loss: 1.290\n",
      "[3,  2000] loss: 1.277\n",
      "[3,  4000] loss: 1.282\n",
      "[4,  2000] loss: 1.277\n",
      "[4,  4000] loss: 1.273\n",
      "[5,  2000] loss: 1.254\n",
      "[5,  4000] loss: 1.263\n",
      "Finished Training\n",
      "Accuracy of the network on the 10000 test images: 50 %\n",
      "[1,  2000] loss: 1.245\n",
      "[1,  4000] loss: 1.266\n",
      "[2,  2000] loss: 1.235\n",
      "[2,  4000] loss: 1.251\n",
      "[3,  2000] loss: 1.239\n",
      "[3,  4000] loss: 1.239\n",
      "[4,  2000] loss: 1.224\n",
      "[4,  4000] loss: 1.224\n",
      "[5,  2000] loss: 1.204\n",
      "[5,  4000] loss: 1.229\n",
      "Finished Training\n",
      "Accuracy of the network on the 10000 test images: 51 %\n",
      "[1,  2000] loss: 1.196\n",
      "[1,  4000] loss: 1.216\n",
      "[2,  2000] loss: 1.191\n",
      "[2,  4000] loss: 1.195\n",
      "[3,  2000] loss: 1.197\n",
      "[3,  4000] loss: 1.191\n",
      "[4,  2000] loss: 1.185\n",
      "[4,  4000] loss: 1.192\n",
      "[5,  2000] loss: 1.175\n",
      "[5,  4000] loss: 1.169\n",
      "Finished Training\n",
      "Accuracy of the network on the 10000 test images: 49 %\n",
      "[1,  2000] loss: 1.162\n",
      "[1,  4000] loss: 1.160\n",
      "[2,  2000] loss: 1.158\n",
      "[2,  4000] loss: 1.160\n",
      "[3,  2000] loss: 1.133\n",
      "[3,  4000] loss: 1.158\n",
      "[4,  2000] loss: 1.142\n",
      "[4,  4000] loss: 1.159\n",
      "[5,  2000] loss: 1.122\n",
      "[5,  4000] loss: 1.150\n",
      "Finished Training\n",
      "Accuracy of the network on the 10000 test images: 49 %\n",
      "[1,  2000] loss: 1.123\n",
      "[1,  4000] loss: 1.140\n",
      "[2,  2000] loss: 1.121\n",
      "[2,  4000] loss: 1.132\n",
      "[3,  2000] loss: 1.100\n",
      "[3,  4000] loss: 1.139\n",
      "[4,  2000] loss: 1.106\n",
      "[4,  4000] loss: 1.123\n",
      "[5,  2000] loss: 1.099\n",
      "[5,  4000] loss: 1.121\n",
      "Finished Training\n",
      "Accuracy of the network on the 10000 test images: 52 %\n",
      "[1,  2000] loss: 1.091\n",
      "[1,  4000] loss: 1.103\n",
      "[2,  2000] loss: 1.079\n",
      "[2,  4000] loss: 1.097\n",
      "[3,  2000] loss: 1.084\n",
      "[3,  4000] loss: 1.099\n",
      "[4,  2000] loss: 1.075\n",
      "[4,  4000] loss: 1.080\n",
      "[5,  2000] loss: 1.063\n",
      "[5,  4000] loss: 1.073\n",
      "Finished Training\n",
      "Accuracy of the network on the 10000 test images: 50 %\n",
      "[1,  2000] loss: 1.053\n",
      "[1,  4000] loss: 1.084\n",
      "[2,  2000] loss: 1.042\n",
      "[2,  4000] loss: 1.075\n",
      "[3,  2000] loss: 1.050\n",
      "[3,  4000] loss: 1.061\n",
      "[4,  2000] loss: 1.037\n",
      "[4,  4000] loss: 1.060\n",
      "[5,  2000] loss: 1.036\n",
      "[5,  4000] loss: 1.048\n",
      "Finished Training\n",
      "Accuracy of the network on the 10000 test images: 50 %\n",
      "[1,  2000] loss: 1.030\n",
      "[1,  4000] loss: 1.041\n",
      "[2,  2000] loss: 1.019\n",
      "[2,  4000] loss: 1.046\n",
      "[3,  2000] loss: 1.029\n",
      "[3,  4000] loss: 1.028\n",
      "[4,  2000] loss: 1.001\n",
      "[4,  4000] loss: 1.035\n",
      "[5,  2000] loss: 1.007\n",
      "[5,  4000] loss: 1.020\n",
      "Finished Training\n",
      "Accuracy of the network on the 10000 test images: 51 %\n",
      "[1,  2000] loss: 0.992\n",
      "[1,  4000] loss: 1.016\n",
      "[2,  2000] loss: 0.994\n",
      "[2,  4000] loss: 1.010\n",
      "[3,  2000] loss: 0.981\n",
      "[3,  4000] loss: 1.010\n",
      "[4,  2000] loss: 0.972\n",
      "[4,  4000] loss: 1.012\n",
      "[5,  2000] loss: 0.980\n",
      "[5,  4000] loss: 0.993\n",
      "Finished Training\n",
      "Accuracy of the network on the 10000 test images: 50 %\n"
     ]
    }
   ],
   "source": [
    "import numpy as np\n",
    "for lr in np.linspace(1e-3,1e-2,10):\n",
    "    optimizer = optim.SGD(net.parameters(), lr=0.001, momentum=0.9)\n",
    "    net = train_model(net,trainloader,criterion,optimizer)\n",
    "    scoring(net,testloader)"
   ]
  }
 ],
 "metadata": {
  "kernelspec": {
   "display_name": "Python (py3env)",
   "language": "python",
   "name": "py3env"
  },
  "language_info": {
   "codemirror_mode": {
    "name": "ipython",
    "version": 3
   },
   "file_extension": ".py",
   "mimetype": "text/x-python",
   "name": "python",
   "nbconvert_exporter": "python",
   "pygments_lexer": "ipython3",
   "version": "3.6.6"
  }
 },
 "nbformat": 4,
 "nbformat_minor": 2
}
