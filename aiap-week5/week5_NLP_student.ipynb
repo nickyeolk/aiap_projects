{
 "cells": [
  {
   "cell_type": "markdown",
   "metadata": {},
   "source": [
    "# Week 5 - Natural Language Processing (NLP)"
   ]
  },
  {
   "cell_type": "code",
   "execution_count": 1,
   "metadata": {},
   "outputs": [],
   "source": [
    "import numpy as np\n",
    "import matplotlib.pyplot as plt\n",
    "from sklearn.model_selection import train_test_split, cross_val_score\n",
    "import src.week5_func as wk5\n",
    "import os\n",
    "import re\n",
    "import pandas as pd\n",
    "from sklearn.feature_extraction.text import CountVectorizer\n",
    "from sklearn.feature_extraction.text import TfidfTransformer"
   ]
  },
  {
   "cell_type": "markdown",
   "metadata": {},
   "source": [
    "# Chapter 1: How do we turn text into data we can use?"
   ]
  },
  {
   "cell_type": "markdown",
   "metadata": {},
   "source": [
    "### Convert your corpus into bags of words\n",
    "\n",
    "We can't apply any of the techniques we have learned over the past few weeks directly on raw text.  Therefore, our first task is to convert our corpus into numbers.  The simplest way to do this is to use a **bag of words**. You can see some examples of this here: https://liferay.de.dariah.eu/tatom/index.html.\n",
    "\n",
    "Once you understand the concept, convert your corpus and documents into bags of words below:"
   ]
  },
  {
   "cell_type": "code",
   "execution_count": 102,
   "metadata": {},
   "outputs": [],
   "source": [
    "def extract_words(sentence):\n",
    "    ignore_words = ['a', 'the', 'if', 'br', 'and', 'of', 'to', 'is']\n",
    "    words = re.sub(\"[^\\w]\", \" \",  sentence).split() #nltk.word_tokenize(sentence) this replaces all special chars with ' '\n",
    "    words_cleaned = [w.lower() for w in words if w not in ignore_words]\n",
    "    return words_cleaned  \n",
    "\n",
    "def tokenize_sentences(sentences):\n",
    "    words = []\n",
    "    for sentence in sentences:\n",
    "        w = extract_words(sentence)\n",
    "        words.extend(w)\n",
    "        \n",
    "    words = sorted(list(set(words)))\n",
    "    return words\n",
    "\n",
    "def bagofwords(sentence, words):\n",
    "    sentence_words = extract_words(sentence)\n",
    "    # frequency word count\n",
    "    bag = np.zeros(len(words))\n",
    "    for sw in sentence_words:\n",
    "        for i,word in enumerate(words):\n",
    "            if word == sw: \n",
    "                bag[i] += 1\n",
    "                \n",
    "    return np.array(bag)\n",
    "\n",
    "vocabulary = tokenize_sentences(df_raw['text'])\n"
   ]
  },
  {
   "cell_type": "code",
   "execution_count": 103,
   "metadata": {},
   "outputs": [
    {
     "name": "stdout",
     "output_type": "stream",
     "text": [
      "74891\n",
      "[115. 364. 124.  99.  97. 145.  88. 296. 374. 282.]\n"
     ]
    }
   ],
   "source": [
    "n_words = len(vocabulary)\n",
    "print(n_words)\n",
    "n_docs = len(df_raw.iloc[:10])\n",
    "bag_o = np.zeros([n_docs,n_words])\n",
    "for ii in range(n_docs):\n",
    "    bag_o[ii,:] = bagofwords(df_raw['text'].iloc[ii],vocabulary)\n",
    "print(np.sum(bag_o,axis=1))"
   ]
  },
  {
   "cell_type": "markdown",
   "metadata": {},
   "source": [
    "<font color=blue>Trying to do it manually causes a memory error. Probably will have to use sparse matrices instead. Let's just implement this with sklearn which does the sparse matrix for you.</font>\n",
    "## <font color='blue'><strong>Try using sklearn instead</font>"
   ]
  },
  {
   "cell_type": "code",
   "execution_count": 93,
   "metadata": {},
   "outputs": [
    {
     "name": "stdout",
     "output_type": "stream",
     "text": [
      "(25000, 5000)\n"
     ]
    }
   ],
   "source": [
    "vectorizer = CountVectorizer(analyzer = \"word\", strip_accents=None, tokenizer = None, preprocessor = None, stop_words = None, max_features = 5000) \n",
    "train_data_features = vectorizer.fit_transform(df_raw['text'])\n",
    "print(np.shape(train_data_features))\n",
    "# bag_sk  = vectorizer.transform(df_raw['text'])"
   ]
  },
  {
   "cell_type": "code",
   "execution_count": 83,
   "metadata": {},
   "outputs": [],
   "source": [
    "df_freq = pd.DataFrame({'word':vectorizer.get_feature_names() ,'freq':np.array(np.sum(train_data_features,axis=0)).flatten()})\n",
    "df_freq.sort_values('freq',ascending=False).head(5)"
   ]
  },
  {
   "cell_type": "code",
   "execution_count": null,
   "metadata": {},
   "outputs": [],
   "source": [
    "from nltk.tokenize import word_tokenize\n",
    "from collections import Counter\n",
    "Counter(word_tokenize(df_raw))"
   ]
  },
  {
   "cell_type": "markdown",
   "metadata": {},
   "source": [
    "### Show us your bags\n",
    "\n",
    "Show and explain what one of your documents looks like as a bag of words below.  What are the advantages and disadvantages of encoding text as bags of words?"
   ]
  },
  {
   "cell_type": "code",
   "execution_count": null,
   "metadata": {},
   "outputs": [],
   "source": []
  },
  {
   "cell_type": "markdown",
   "metadata": {},
   "source": [
    "### Tell us a story with your bags\n",
    "Now that your text is in a more digestible format, you can apply previously learned techniques to better understand the corpus. **Create a brief story around your corpus, for example by using clustering techniques.** Some examples of what you can do below:\n",
    "* Use *Hierarchical Clustering* to understand similarity of documents in your corpus. What distance measure works best? Are the results what you expect?\n",
    "* Learn about *Latent Dirichlet Allocation* to extract topics from your corpora, and measure each document on how much of each topic it contains. How do you interpret these topics?\n",
    "\n",
    "Some **potential inspiration** below (but please keep your own story simple!):\n",
    "* https://liferay.de.dariah.eu/tatom/topic_model_mallet.html covers a few examples of text analysis\n",
    "* http://fantheory.viacom.com/\n",
    "* https://pudding.cool/2017/02/vocabulary/\n",
    "\n",
    "Additional resources on LDA (if you are interested): \n",
    "* https://medium.com/@lettier/how-does-lda-work-ill-explain-using-emoji-108abf40fa7d\n",
    "* https://www.youtube.com/watch?v=DDq3OVp9dNA"
   ]
  },
  {
   "cell_type": "code",
   "execution_count": null,
   "metadata": {},
   "outputs": [],
   "source": []
  },
  {
   "cell_type": "markdown",
   "metadata": {},
   "source": [
    "### Normalize your bags\n",
    "In the above exercise, you may find it important to normalize your data.  One useful method when dealing with text is *Term Frequency - Inverse Document Frequency (TF-IDF)*. You can see more detail on this here: http://blog.christianperone.com/2011/10/machine-learning-text-feature-extraction-tf-idf-part-ii/.\n",
    "\n",
    "Once you understand the concept, **express your data as TF-IDF vectors (instead of simple bag-of-words counts), and see if it changes your above story**. "
   ]
  },
  {
   "cell_type": "code",
   "execution_count": 112,
   "metadata": {},
   "outputs": [
    {
     "name": "stdout",
     "output_type": "stream",
     "text": [
      "[[1 0 1 0 0 0 0 0 0 0]\n",
      " [1 0 0 0 2 0 0 0 0 0]\n",
      " [0 1 0 0 0 0 1 0 0 1]\n",
      " [0 0 0 1 0 1 0 1 1 0]]\n",
      "{'am': 0, 'boy': 2, 'girl': 4, 'you': 9, 'are': 1, 'neither': 6, 'what': 8, 'is': 5, 'this': 7, 'cake': 3}\n"
     ]
    }
   ],
   "source": [
    "corpse_us = ['I am a boy','I am a girl girl','you are neither','what is this cake']\n",
    "print(vectorizer.fit_transform(corpse_us).toarray())\n",
    "print(vectorizer.vocabulary_)"
   ]
  },
  {
   "cell_type": "code",
   "execution_count": 115,
   "metadata": {},
   "outputs": [],
   "source": [
    "\n",
    "tfidf = TfidfTransformer().fit_transform(train_data_features)"
   ]
  },
  {
   "cell_type": "code",
   "execution_count": 116,
   "metadata": {},
   "outputs": [
    {
     "data": {
      "text/plain": [
       "<25000x5000 sparse matrix of type '<class 'numpy.float64'>'\n",
       "\twith 2956225 stored elements in Compressed Sparse Row format>"
      ]
     },
     "execution_count": 116,
     "metadata": {},
     "output_type": "execute_result"
    }
   ],
   "source": [
    "tfidf"
   ]
  },
  {
   "cell_type": "markdown",
   "metadata": {},
   "source": [
    "### Show us your bags (Version 2)\n",
    "\n",
    "Show and explain what one of your documents looks like as a TF-IDF vector below.  How is this different from a simple bag-of-words?"
   ]
  },
  {
   "cell_type": "code",
   "execution_count": 2,
   "metadata": {},
   "outputs": [],
   "source": []
  },
  {
   "cell_type": "markdown",
   "metadata": {},
   "source": [
    "# Chapter 2: Simple Supervised Learning with Text\n",
    "Now that you are comfortable with treating text as numbers, we can try out supervised learning.  We'll use a labelled dataset of IMDB reviews to classify each review as 'positive' or 'negative'.  You can **find the data below:**\n",
    "\n",
    "http://ai.stanford.edu/~amaas/data/sentiment/\n",
    "\n",
    "Load in and process the data, then train a supervised learning model.  **You should achieve val or test set accuracy of 85%**. Pretty good for a simple bag, no?"
   ]
  },
  {
   "cell_type": "markdown",
   "metadata": {},
   "source": [
    "imported and download data using  \n",
    "``` wk5.dl_and_unzip('http://ai.stanford.edu/~amaas/data/sentiment/aclImdb_v1.tar.gz')```  \n",
    "Tar file removed to save space."
   ]
  },
  {
   "cell_type": "code",
   "execution_count": 4,
   "metadata": {},
   "outputs": [],
   "source": [
    "# data processed and saved with week5_func.save_as_pkl()\n",
    "df_raw = pd.read_pickle('./data/df_raw.pkl')\n",
    "df_raw_test = pd.read_pickle('./data/df_raw_test.pkl')"
   ]
  },
  {
   "cell_type": "code",
   "execution_count": 9,
   "metadata": {},
   "outputs": [],
   "source": [
    "vectorizer = CountVectorizer(analyzer = \"word\", strip_accents=None, tokenizer = None, \\\n",
    "                             preprocessor = None, stop_words = None, max_features = 5000) \n",
    "train_data_features = vectorizer.fit_transform(df_raw['text'])\n",
    "test_data_features = vectorizer.transform(df_raw_test['text'])\n",
    "tfidfier = TfidfTransformer()\n",
    "tfidf = tfidfier.fit_transform(train_data_features)\n",
    "tfidf_test = tfidfier.transform(test_data_features)\n",
    "X_all = tfidf.toarray()\n",
    "y_all = df_raw['positive'].values\n",
    "X_test = tfidf_test.toarray()\n",
    "y_test = df_raw_test['positive'].values"
   ]
  },
  {
   "cell_type": "code",
   "execution_count": 10,
   "metadata": {},
   "outputs": [
    {
     "data": {
      "text/plain": [
       "<25000x5000 sparse matrix of type '<class 'numpy.float64'>'\n",
       "\twith 2956225 stored elements in Compressed Sparse Row format>"
      ]
     },
     "execution_count": 10,
     "metadata": {},
     "output_type": "execute_result"
    }
   ],
   "source": [
    "tfidf"
   ]
  },
  {
   "cell_type": "code",
   "execution_count": 11,
   "metadata": {},
   "outputs": [
    {
     "name": "stderr",
     "output_type": "stream",
     "text": [
      "C:\\Users\\likkhian\\Anaconda3\\envs\\py3env\\lib\\site-packages\\sklearn\\linear_model\\logistic.py:432: FutureWarning: Default solver will be changed to 'lbfgs' in 0.22. Specify a solver to silence this warning.\n",
      "  FutureWarning)\n"
     ]
    },
    {
     "name": "stdout",
     "output_type": "stream",
     "text": [
      "0.88256\n"
     ]
    },
    {
     "data": {
      "text/plain": [
       "LogisticRegression(C=1.0, class_weight=None, dual=False, fit_intercept=True,\n",
       "          intercept_scaling=1, max_iter=100, multi_class='warn',\n",
       "          n_jobs=None, penalty='l2', random_state=None, solver='warn',\n",
       "          tol=0.0001, verbose=0, warm_start=False)"
      ]
     },
     "execution_count": 11,
     "metadata": {},
     "output_type": "execute_result"
    }
   ],
   "source": [
    "# X_train,X_test,y_train,y_test = train_test_split(X_all,y_all,shuffle=True)\n",
    "from sklearn.neighbors import KNeighborsClassifier\n",
    "from sklearn.ensemble import RandomForestClassifier\n",
    "from sklearn.svm import SVC\n",
    "from sklearn.gaussian_process import GaussianProcessClassifier\n",
    "from sklearn.gaussian_process.kernels import RBF\n",
    "from sklearn.linear_model import LogisticRegression\n",
    "def classify():\n",
    "    rf = LogisticRegression()\n",
    "    rf.fit(X_all,y_all)\n",
    "    print(rf.score(X_test,y_test))\n",
    "    return rf\n",
    "classify()"
   ]
  },
  {
   "cell_type": "markdown",
   "metadata": {},
   "source": [
    "# Chapter 3: Playing with Recurrent Neural Networks (RNN)\n",
    "So far, we've only treated text as a simple bag, with reasonable results.  We'll now shift to a more complex representation of language: recurrent neural networks.  To do so, we need to process text at the word or character level, and capture the sequence of a document. \n",
    "\n",
    "Our task here is to build an RNN that 'eats up' sequences of characters in order to predict the next character in a sequence, for every step in the sequence of a document. This is a common (and fun) task, with lots of examples available online. \n",
    "\n",
    "For this task, use existing RNN APIs (don't code everything from scratch) from Keras or PyTorch. \n",
    "\n",
    "**Read up on RNNs and this exercise** below:\n",
    "* http://karpathy.github.io/2015/05/21/rnn-effectiveness/ - start here!\n",
    "* https://github.com/martin-gorner/tensorflow-rnn-shakespeare - video, slides and code going through an example with Shakespeare\n",
    "* http://killianlevacher.github.io/blog/posts/post-2016-03-01/post.html - another nice example based on Trump tweets\n",
    "\n",
    "### Prepare your data\n",
    "\n",
    "Our first step is to prepare our text. **Process your corpora into a format that can be used by an RNN, and walkthough one sequence below**.\n",
    "\n",
    "An **example way to shape your data** for this task is as follows (feel free to play around with different structures):\n",
    "\n",
    "*In this example your corpora starts with the string 'the cat and I'*\n",
    "* RNN input: divide your text into sequences of 10 characters e.g. 'the cat an'\n",
    "* RNN output: the 1 character immediately following RNN input sequences e.g. 'd'. \n",
    "* Note: You may or may not want to divide your text into overlapping strings (e.g. RNN input contains 'the cat an', 'he cat and', 'e cat and ', ...) . How is the model different in each case?\n",
    "* Note: Your 'vocabulary' or `vocab_size` here is the number of unique characters in your text (and therefore the number of classes you want to predict)"
   ]
  },
  {
   "cell_type": "code",
   "execution_count": 5,
   "metadata": {},
   "outputs": [],
   "source": [
    "import torch.nn as nn\n",
    "import torch\n",
    "import torch.optim as optim"
   ]
  },
  {
   "cell_type": "code",
   "execution_count": 6,
   "metadata": {},
   "outputs": [
    {
     "name": "stdout",
     "output_type": "stream",
     "text": [
      "Bromwell High is a cartoon comedy. It ran at the same time as some other programs about school life, such as \"Teachers\". My 35 years in the teaching profession lead me to believe that Bromwell High's satire is much closer to reality than is \"Teachers\". The scramble to survive financially, the insightful students who can see right through their pathetic teachers' pomp, the pettiness of the whole situation, all remind me of the schools I knew and their students. When I saw the episode in which a student repeatedly tried to burn down the school, I immediately recalled ......... at .......... High. A classic line: INSPECTOR: I'm here to sack one of your teachers. STUDENT: Welcome to Bromwell High. I expect that many adults of my age think that Bromwell High is far fetched. What a pity that it isn't!Homelessness (or Houselessness as George Carlin stated) has been an issue for years but never a plan to help those on the street that were once considered human who did everything from going to school, work, or vote for the matter. Most people think of the homeless as just a lost cause while worrying about things such as racism, the war on Iraq, pressuring kids to succeed, technology, the elections, inflation, or worrying if they'll be next to end up on the streets.<br /><br />But what if you were given a bet to live on the streets for a month without the luxuries you once had from a home, the entertainment sets, a bathroom, pictures on the wall, a computer, and everything you once treasure to see what it's like to be homeless? That is Goddard Bolt's lesson.<br /><br />Mel Brooks (who directs) who stars as Bolt plays a rich man who has everything in the world until deciding to make a bet with a sissy rival (Jeffery Tambor) to see if he can live in the streets for thirty days without the luxuries; if Bolt succeeds, he can do what he wants with a future project of making more buildings. The bet's on where Bolt is thrown on the street with a bracelet on his leg to monitor his every move where he can't step off the sidewalk. He's given the nickname Pepto by a vagrant after it's written on his forehead where Bolt meets other characters including a woman by the name of Molly (Lesley Ann Warren) an ex-dancer who got divorce before losing her home, and her pals Sailor (Howard Morris) and Fumes (Teddy Wilson) who are already used to the streets. They're survivors. Bolt isn't. He's not used to reaching mutual agreements like he once did when being rich where it's fight or flight, kill or be killed.<br /><br />While the love connection between Molly and Bolt wasn't necessary to plot, I found \"Life Stinks\" to be one of Mel Brooks' observant films where prior to being a comedy, it shows a tender side compared to his slapstick work such as Blazing Saddles, Young Frankenstein, or Spaceballs for the matter, to show what it's like having something valuable before losing it the next day or on the other hand making a stupid bet like all rich people do when they don't know what to do with their money. Maybe they should give it to the homeless instead of using it like Monopoly money.<br /><br />Or maybe this film will inspire you to help others.Brilliant over-acting by Lesley Ann Warren. Best dramatic hobo lady I have ever seen, and love scenes in clothes warehouse are second to none. The corn on face is a classic, as good as anything in Blazing Saddles. The take on lawyers is also superb. After being accused of being a turncoat, selling out his boss, and being dishonest the lawyer of Pepto Bolt shrugs indifferently \"I'm a lawyer\" he says. Three funny words. Jeffrey Tambor, a favorite from the later Larry Sanders show, is fantastic here too as a mad millionaire who wants to crush the ghetto. His character is more malevolent than usual. The hospital scene, and the scene where the homeless invade a demolition site, are all-time classics. Look for the legs scene and the two big diggers fighting (one bleeds). This movie gets better each time I see it (which is quite often).This is easily the most underrated film inn the Brooks cannon. Sure, its flawed. It does not give a realistic view of homelessness (unlike, say, how Citizen Kane gave a realistic view of lounge singers, or Titanic gave a realistic view of Italians YOU IDIOTS). Many of the jokes fall flat. But still, this film is very lovable in a way many comedies are not, and to pull that off in a story about some of the most traditionally reviled members of society is truly impressive. Its not The Fisher King, but its not crap, either. My only complaint is that Brooks should have cast someone else in the lead (I love Mel as a Director and Writer, not so much as a lead).This is not the typical Mel Brooks film. It was much less slapstick than most of his movies and actually had a plot that was followable. Leslie Ann Warren made the movie, she is such a fantastic, under-rated actress. There were some moments that could have been fleshed out a bit more, and some scenes that could probably have been cut to make the room to do so, but all in all, this is worth the price to rent and see it. The acting was good overall, Brooks himself did a good job without his characteristic speaking to directly to the audience. Again, Warren was the best actor in the movie, but \"Fume\" and \"Sailor\" both played their parts well.This isn't the comedic Robin Williams, nor is it the quirky/insane Robin Williams of recent thriller fame. This is a hybrid of the classic drama without over-dramatization, mixed with Robin's new love of the thriller. But this isn't a thriller, per se. This is more a mystery/suspense vehicle through which Williams attempts to locate a sick boy and his keeper.<br /><br />Also starring Sandra Oh and Rory Culkin, this Suspense Drama plays pretty much like a news report, until William's character gets close to achieving his goal.<br /><br />I must say that I was highly entertained, though this movie fails to teach, guide, inspect, or amuse. It felt more like I was watching a guy (Williams), as he was actually performing the actions, from a third person perspective. In other words, it felt real, and I was able to subscribe to the premise of the story.<br /><br />All in all, it's worth a watch, though it's definitely not Friday/Saturday night fare.<br /><br />It rates a 7.7/10 from...<br /><br />the Fiend :.Yes its an art... to successfully make a slow paced thriller.<br /><br />The story unfolds in nice volumes while you don't even notice it happening.<br /><br />Fine performance by Robin Williams. The sexuality angles in the film can seem unnecessary and can probably affect how much you enjoy the film. However, the core plot is very engaging. The movie doesn't rush onto you and still grips you enough to keep you wondering. The direction is good. Use of lights to achieve desired affects of suspense and unexpectedness is good.<br /><br />Very nice 1 time watch if you are looking to lay back and hear a thrilling short story!In this \"critically acclaimed psychological thriller based on true events, Gabriel (Robin Williams), a celebrated writer and late-night talk show host, becomes captivated by the harrowing story of a young listener and his adoptive mother (Toni Collette). When troubling questions arise about this boy's (story), however, Gabriel finds himself drawn into a widening mystery that hides a deadly secret",
      "\" according to film's official synopsis.<br /><br />You really should STOP reading these comments, and watch the film NOW...<br /><br />The \"How did he lose his leg?\" ending, with Ms. Collette planning her new life, should be chopped off, and sent to \"deleted scenes\" land. It's overkill. The true nature of her physical and mental ailments should be obvious, by the time Mr. Williams returns to New York. Possibly, her blindness could be in question - but a revelation could have be made certain in either the \"highway\" or \"video tape\" scenes. The film would benefit from a re-editing - how about a \"director's cut\"? <br /><br />Williams and Bobby Cannavale (as Jess) don't seem, initially, believable as a couple. A scene or two establishing their relationship might have helped set the stage. Otherwise, the cast is exemplary. Williams offers an exceptionally strong characterization, and not a \"gay impersonation\". Sandra Oh (as Anna), Joe Morton (as Ashe), and Rory Culkin (Pete Logand) are all perfect.<br /><br />Best of all, Collette's \"Donna\" belongs in the creepy hall of fame. Ms. Oh is correct in saying Collette might be, \"you know, like that guy from 'Psycho'.\" There have been several years when organizations giving acting awards seemed to reach for women, due to a slighter dispersion of roles; certainly, they could have noticed Collette with some award consideration. She is that good. And, director Patrick Stettner definitely evokes Hitchcock - he even makes getting a sandwich from a vending machine suspenseful.<br /><br />Finally, writers Stettner, Armistead Maupin, and Terry Anderson deserve gratitude from flight attendants everywhere.<br /><br />******* The Night Listener (1/21/06) Patrick Stettner ~ Robin Williams, Toni Collette, Sandra Oh, Rory CulkinTHE NIGHT LISTENER (2006) **1/2 Robin Williams, Toni Collette, Bobby Cannavale, Rory Culkin, Joe Morton, Sandra Oh, John Cullum, Lisa Emery, Becky Ann Baker. (Dir: Patrick Stettner) <br /><br />Hitchcockian suspenser gives Williams a stand-out low-key performance.<br /><br />What is it about celebrities and fans? What is the near paranoia one associates with the other and why is it almost the norm? <br /><br />In the latest derange fan scenario, based on true events no less, Williams stars as a talk-radio personality named Gabriel No one, who reads stories he's penned over the airwaves and has accumulated an interesting fan in the form of a young boy named Pete Logand (Culkin) who has submitted a manuscript about the travails of his troubled youth to No one's editor Ashe (Morton) who gives it to No one to read for himself. <br /><br />No one is naturally disturbed but ultimately intrigued about the nightmarish existence of Pete being abducted and sexually abused for years until he was finally rescued by a nurse named Donna (Collette giving an excellent performance) who has adopted the boy but her correspondence with No one reveals that Pete is dying from AIDS. Naturally No one wants to meet the fans but is suddenly in doubt to their possibly devious ulterior motives when the seed is planted by his estranged lover Jess (Cannavale) whose sudden departure from their New York City apartment has No one in an emotional tailspin that has only now grown into a tempest in a teacup when he decides to do some investigating into Donna and Pete's backgrounds discovering some truths that he didn't anticipate.<br /><br />Written by Armistead Maupin (who co-wrote the screenplay with his former lover Terry Anderson and the film's novice director Stettner) and based on a true story about a fan's hoax found out has some Hitchcockian moments that run on full tilt like any good old fashioned pot-boiler does. It helps that Williams gives a stand-out, low-key performance as the conflicted good-hearted personality who genuinely wants to believe that his number one fan is in fact real and does love him (the one thing that has escaped his own reality) and has some unsettling dreadful moments with the creepy Collette whose one physical trait I will leave unmentioned but underlines the desperation of her character that can rattle you to the core.<br /><br />However the film runs out of gas and eventually becomes a bit repetitive and predictable despite a finely directed piece of hoodwink and mystery by Stettner, it pays to listen to your own inner voice: be careful of what you hope for.You know, Robin Williams, God bless him, is constantly shooting himself in the foot lately with all these dumb comedies he has done this decade (with perhaps the exception of \"Death To Smoochy\", which bombed when it came out but is now a cult classic). The dramas he has made lately have been fantastic, especially \"Insomnia\" and \"One Hour Photo\". \"The Night Listener\", despite mediocre reviews and a quick DVD release, is among his best work, period.<br /><br />This is a very chilling story, even though it doesn't include a serial killer or anyone that physically dangerous for that matter. The concept of the film is based on an actual case of fraud that still has yet to be officially confirmed. In high school, I read an autobiography by a child named Anthony Godby Johnson, who suffered horrific abuse and eventually contracted AIDS as a result. I was moved by the story until I read reports online that Johnson may not actually exist. When I saw this movie, the confused feelings that Robin Williams so brilliantly portrayed resurfaced in my mind.<br /><br />Toni Collette probably gives her best dramatic performance too as the ultimately sociopathic \"caretaker\". Her role was a far cry from those she had in movies like \"Little Miss Sunshine\". There were even times she looked into the camera where I thought she was staring right at me. It takes a good actress to play that sort of role, and it's this understated (yet well reviewed) role that makes Toni Collette probably one of the best actresses of this generation not to have even been nominated for an Academy Award (as of 2008). It's incredible that there is at least one woman in this world who is like this, and it's scary too.<br /><br />This is a good, dark film that I highly recommend. Be prepared to be unsettled, though, because this movie leaves you with a strange feeling at the end.\n"
     ]
    }
   ],
   "source": [
    "# lets start by predicting just positive stuff.\n",
    "df_pos = df_raw[df_raw['positive']==1]\n",
    "str_all=[]\n",
    "def func(text):\n",
    "    str_all.append(text)\n",
    "df_pos.apply(lambda x: func(x['text']),axis=1)\n",
    "\n",
    "# learn on the first 10 smaples\n",
    "strrring = ''\n",
    "for i in range(10):\n",
    "    strrring+=str_all[i]\n",
    "\n",
    "print(strrring)\n",
    "    "
   ]
  },
  {
   "cell_type": "code",
   "execution_count": 38,
   "metadata": {},
   "outputs": [],
   "source": [
    "# encode the text and map each character to an integer and vice versa\n",
    "\n",
    "# we create two dictionaries:\n",
    "# 1. int2char, which maps integers to characters\n",
    "# 2. char2int, which maps characters to unique integers\n",
    "chars = tuple(set(strrring))\n",
    "int2char = dict(enumerate(chars))\n",
    "char2int = {ch: ii for ii, ch in int2char.items()}\n",
    "\n",
    "# encode the text\n",
    "encoded = np.array([char2int[ch] for ch in strrring])"
   ]
  },
  {
   "cell_type": "code",
   "execution_count": 39,
   "metadata": {},
   "outputs": [
    {
     "data": {
      "text/plain": [
       "{0: '8',\n",
       " 1: 'H',\n",
       " 2: 'y',\n",
       " 3: 'O',\n",
       " 4: 'h',\n",
       " 5: '!',\n",
       " 6: 'N',\n",
       " 7: '5',\n",
       " 8: 'v',\n",
       " 9: 'c',\n",
       " 10: 'g',\n",
       " 11: 'R',\n",
       " 12: 'G',\n",
       " 13: '-',\n",
       " 14: '7',\n",
       " 15: 'x',\n",
       " 16: 'M',\n",
       " 17: 'q',\n",
       " 18: 'L',\n",
       " 19: '6',\n",
       " 20: '3',\n",
       " 21: 'W',\n",
       " 22: 'i',\n",
       " 23: 'F',\n",
       " 24: 'V',\n",
       " 25: '2',\n",
       " 26: 'T',\n",
       " 27: 'U',\n",
       " 28: '1',\n",
       " 29: \"'\",\n",
       " 30: 'a',\n",
       " 31: 'K',\n",
       " 32: 't',\n",
       " 33: '/',\n",
       " 34: ':',\n",
       " 35: 'P',\n",
       " 36: 'z',\n",
       " 37: 'e',\n",
       " 38: 'w',\n",
       " 39: '?',\n",
       " 40: 'S',\n",
       " 41: 'p',\n",
       " 42: '(',\n",
       " 43: ';',\n",
       " 44: ')',\n",
       " 45: '<',\n",
       " 46: ' ',\n",
       " 47: 'l',\n",
       " 48: 'B',\n",
       " 49: '>',\n",
       " 50: 'j',\n",
       " 51: 'C',\n",
       " 52: 'I',\n",
       " 53: '~',\n",
       " 54: 'u',\n",
       " 55: 'E',\n",
       " 56: 'J',\n",
       " 57: 'm',\n",
       " 58: 'b',\n",
       " 59: 'f',\n",
       " 60: 'D',\n",
       " 61: ',',\n",
       " 62: 'r',\n",
       " 63: 'd',\n",
       " 64: '\\x85',\n",
       " 65: 'n',\n",
       " 66: '.',\n",
       " 67: 'o',\n",
       " 68: 'k',\n",
       " 69: 's',\n",
       " 70: 'Y',\n",
       " 71: '*',\n",
       " 72: '\"',\n",
       " 73: 'A',\n",
       " 74: '0'}"
      ]
     },
     "execution_count": 39,
     "metadata": {},
     "output_type": "execute_result"
    }
   ],
   "source": [
    "(encoded.shape)\n",
    "int2char"
   ]
  },
  {
   "cell_type": "code",
   "execution_count": 9,
   "metadata": {},
   "outputs": [],
   "source": [
    "def one_hot_encode(arr, n_labels):\n",
    "    \n",
    "    # Initialize the the encoded array\n",
    "    one_hot = np.zeros([len(arr), n_labels], dtype=np.float32)\n",
    "    \n",
    "    # Fill the appropriate elements with ones\n",
    "#     one_hot[np.arange(one_hot.shape[0]), arr.flatten()] = 1.\n",
    "    one_hot[np.arange(one_hot.shape[0]), arr.flatten()] = 1.\n",
    "    \n",
    "    # Finally reshape it to get back to the original array\n",
    "    one_hot = one_hot.reshape((*arr.shape, n_labels))\n",
    "    \n",
    "    return one_hot"
   ]
  },
  {
   "cell_type": "code",
   "execution_count": 10,
   "metadata": {},
   "outputs": [
    {
     "data": {
      "text/plain": [
       "(13616, 75)"
      ]
     },
     "execution_count": 10,
     "metadata": {},
     "output_type": "execute_result"
    }
   ],
   "source": [
    "arr = one_hot_encode(encoded, len(chars))\n",
    "np.shape(arr)"
   ]
  },
  {
   "cell_type": "code",
   "execution_count": 106,
   "metadata": {},
   "outputs": [
    {
     "name": "stdout",
     "output_type": "stream",
     "text": [
      "torch.Size([13606, 750]) torch.Size([13606, 75])\n"
     ]
    }
   ],
   "source": [
    "def get_batches(arr, seq_length): #try without onehot.\n",
    "    X=[]\n",
    "    y=[]\n",
    "    for ind in range(np.shape(arr)[0]-10):\n",
    "        X.append(arr[ind:ind+seq_length,:])\n",
    "        y.append(arr[ind+seq_length,:])\n",
    "#     return np.moveaxis(np.array(X),0,1),np.array(y)\n",
    "    return torch.from_numpy(np.array(X).reshape(-1,750,)), torch.from_numpy(np.array(y))\n",
    "X,y = get_batches(arr,10)\n",
    "y_cold = y.max(1)[1]\n",
    "print(np.shape(X),np.shape(y))"
   ]
  },
  {
   "cell_type": "code",
   "execution_count": 108,
   "metadata": {},
   "outputs": [
    {
     "data": {
      "text/plain": [
       "tensor([22, 10,  4,  ..., 65, 63, 66])"
      ]
     },
     "execution_count": 108,
     "metadata": {},
     "output_type": "execute_result"
    }
   ],
   "source": [
    "y_cold"
   ]
  },
  {
   "cell_type": "code",
   "execution_count": 109,
   "metadata": {},
   "outputs": [],
   "source": [
    "class RNN(nn.Module):\n",
    "    def __init__(self, input_size, hidden_size, output_size):\n",
    "        super(RNN, self).__init__()\n",
    "        self.hidden_size = hidden_size\n",
    "        self.i2h = nn.Linear(input_size + hidden_size, hidden_size)\n",
    "        self.i2o = nn.Linear(input_size + hidden_size, output_size)\n",
    "        self.softmax = nn.LogSoftmax(dim=1)\n",
    "    \n",
    "    def forward(self, input, hidden):\n",
    "#         print('forward sizes',input.size(),hidden.size())\n",
    "        combined = torch.cat((input,hidden),1)\n",
    "        hidden = self.i2h(combined)\n",
    "        output = self.i2o(combined)\n",
    "        output = self.softmax(output)\n",
    "        return output, hidden\n",
    "    \n",
    "    def initHidden(self):\n",
    "        return torch.zeros(1, self.hidden_size)\n",
    "\n",
    "n_hidden = 128\n",
    "n_letters = len(chars)*10\n",
    "n_categories = len(chars)\n",
    "rnn = RNN(n_letters, n_hidden, n_categories)\n",
    "\n",
    "hidden =torch.zeros(1, n_hidden)\n",
    "output, next_hidden = rnn.forward(X[0,:].reshape(1,-1), hidden)\n",
    "# print(output,next_hidden)"
   ]
  },
  {
   "cell_type": "code",
   "execution_count": 110,
   "metadata": {},
   "outputs": [
    {
     "name": "stdout",
     "output_type": "stream",
     "text": [
      "('t', 32)\n"
     ]
    }
   ],
   "source": [
    "def categoryFromOutput(output):\n",
    "    top_n, top_i = output.topk(1)\n",
    "    category_i = top_i[0].item()\n",
    "    return int2char[category_i], category_i\n",
    "\n",
    "print(categoryFromOutput(output))"
   ]
  },
  {
   "cell_type": "code",
   "execution_count": 111,
   "metadata": {},
   "outputs": [
    {
     "data": {
      "text/plain": [
       "torch.Size([13606, 750])"
      ]
     },
     "execution_count": 111,
     "metadata": {},
     "output_type": "execute_result"
    }
   ],
   "source": [
    "X.size()"
   ]
  },
  {
   "cell_type": "code",
   "execution_count": 114,
   "metadata": {},
   "outputs": [
    {
     "name": "stdout",
     "output_type": "stream",
     "text": [
      "[ hing profe ][ s ]\n"
     ]
    },
    {
     "data": {
      "text/plain": [
       "('hing profe',\n",
       " 's',\n",
       " tensor([[0., 0., 0., 0., 1., 0., 0., 0., 0., 0., 0., 0., 0., 0., 0., 0., 0., 0.,\n",
       "          0., 0., 0., 0., 0., 0., 0., 0., 0., 0., 0., 0., 0., 0., 0., 0., 0., 0.,\n",
       "          0., 0., 0., 0., 0., 0., 0., 0., 0., 0., 0., 0., 0., 0., 0., 0., 0., 0.,\n",
       "          0., 0., 0., 0., 0., 0., 0., 0., 0., 0., 0., 0., 0., 0., 0., 0., 0., 0.,\n",
       "          0., 0., 0., 0., 0., 0., 0., 0., 0., 0., 0., 0., 0., 0., 0., 0., 0., 0.,\n",
       "          0., 0., 0., 0., 0., 0., 0., 1., 0., 0., 0., 0., 0., 0., 0., 0., 0., 0.,\n",
       "          0., 0., 0., 0., 0., 0., 0., 0., 0., 0., 0., 0., 0., 0., 0., 0., 0., 0.,\n",
       "          0., 0., 0., 0., 0., 0., 0., 0., 0., 0., 0., 0., 0., 0., 0., 0., 0., 0.,\n",
       "          0., 0., 0., 0., 0., 0., 0., 0., 0., 0., 0., 0., 0., 0., 0., 0., 0., 0.,\n",
       "          0., 0., 0., 0., 0., 0., 0., 0., 0., 0., 0., 0., 0., 0., 0., 0., 0., 0.,\n",
       "          0., 0., 0., 0., 0., 0., 0., 0., 0., 0., 0., 0., 0., 0., 0., 0., 0., 0.,\n",
       "          0., 0., 0., 0., 0., 0., 0., 0., 0., 0., 0., 0., 0., 0., 0., 0., 0., 1.,\n",
       "          0., 0., 0., 0., 0., 0., 0., 0., 0., 0., 0., 0., 0., 0., 0., 0., 0., 0.,\n",
       "          0., 1., 0., 0., 0., 0., 0., 0., 0., 0., 0., 0., 0., 0., 0., 0., 0., 0.,\n",
       "          0., 0., 0., 0., 0., 0., 0., 0., 0., 0., 0., 0., 0., 0., 0., 0., 0., 0.,\n",
       "          0., 0., 0., 0., 0., 0., 0., 0., 0., 0., 0., 0., 0., 0., 0., 0., 0., 0.,\n",
       "          0., 0., 0., 0., 0., 0., 0., 0., 0., 0., 0., 0., 0., 0., 0., 0., 0., 0.,\n",
       "          0., 0., 0., 0., 0., 0., 0., 0., 0., 0., 0., 0., 0., 0., 0., 0., 0., 0.,\n",
       "          0., 0., 0., 0., 0., 0., 0., 0., 0., 0., 0., 0., 0., 0., 0., 0., 0., 0.,\n",
       "          0., 0., 0., 0., 1., 0., 0., 0., 0., 0., 0., 0., 0., 0., 0., 0., 0., 0.,\n",
       "          0., 0., 0., 0., 0., 0., 0., 0., 0., 0., 0., 0., 0., 0., 0., 0., 0., 0.,\n",
       "          0., 0., 0., 0., 0., 0., 0., 0., 0., 0., 0., 0., 0., 0., 0., 0., 0., 0.,\n",
       "          0., 0., 0., 0., 0., 0., 0., 0., 0., 0., 0., 0., 0., 0., 0., 0., 0., 0.,\n",
       "          0., 0., 1., 0., 0., 0., 0., 0., 0., 0., 0., 0., 0., 0., 0., 0., 0., 0.,\n",
       "          0., 0., 0., 0., 0., 0., 0., 0., 0., 0., 0., 0., 0., 0., 0., 0., 0., 0.,\n",
       "          0., 0., 0., 0., 0., 0., 0., 0., 0., 0., 0., 0., 0., 0., 0., 0., 0., 0.,\n",
       "          0., 0., 0., 0., 0., 0., 0., 0., 0., 0., 0., 0., 0., 0., 0., 0., 0., 0.,\n",
       "          0., 0., 0., 0., 0., 0., 0., 0., 0., 0., 0., 0., 0., 0., 0., 0., 0., 0.,\n",
       "          0., 0., 0., 0., 0., 0., 0., 0., 1., 0., 0., 0., 0., 0., 0., 0., 0., 0.,\n",
       "          0., 0., 0., 0., 0., 0., 0., 0., 0., 0., 0., 0., 0., 0., 0., 0., 0., 0.,\n",
       "          0., 0., 0., 0., 0., 0., 0., 0., 0., 0., 0., 0., 0., 0., 0., 0., 0., 0.,\n",
       "          0., 0., 0., 0., 0., 0., 0., 0., 0., 0., 0., 0., 0., 0., 0., 0., 0., 0.,\n",
       "          0., 0., 0., 0., 0., 0., 0., 0., 0., 0., 0., 0., 0., 0., 0., 0., 1., 0.,\n",
       "          0., 0., 0., 0., 0., 0., 0., 0., 0., 0., 0., 0., 0., 0., 0., 0., 0., 0.,\n",
       "          0., 0., 0., 0., 0., 0., 0., 0., 0., 0., 0., 0., 0., 0., 0., 0., 0., 0.,\n",
       "          0., 0., 0., 0., 0., 0., 0., 0., 0., 0., 0., 0., 0., 0., 0., 0., 0., 0.,\n",
       "          0., 0., 0., 0., 0., 0., 0., 0., 0., 0., 0., 1., 0., 0., 0., 0., 0., 0.,\n",
       "          0., 0., 0., 0., 0., 0., 0., 0., 0., 0., 0., 0., 0., 0., 0., 0., 0., 0.,\n",
       "          0., 0., 0., 0., 0., 0., 0., 0., 0., 0., 0., 0., 0., 0., 0., 0., 0., 0.,\n",
       "          0., 0., 0., 0., 0., 0., 0., 0., 0., 0., 1., 0., 0., 0., 0., 0., 0., 0.,\n",
       "          0., 0., 0., 0., 0., 0., 0., 0., 0., 0., 0., 0., 0., 0., 0., 0., 0., 0.,\n",
       "          0., 0., 0., 0., 0., 0., 0., 0., 0., 0., 0., 0.]]),\n",
       " tensor([0., 0., 0., 0., 0., 0., 0., 0., 0., 0., 0., 0., 0., 0., 0., 0., 0., 0.,\n",
       "         0., 0., 0., 0., 0., 0., 0., 0., 0., 0., 0., 0., 0., 0., 0., 0., 0., 0.,\n",
       "         0., 0., 0., 0., 0., 0., 0., 0., 0., 0., 0., 0., 0., 0., 0., 0., 0., 0.,\n",
       "         0., 0., 0., 0., 0., 0., 0., 0., 0., 0., 0., 0., 0., 0., 0., 1., 0., 0.,\n",
       "         0., 0., 0.]),\n",
       " tensor(69))"
      ]
     },
     "execution_count": 114,
     "metadata": {},
     "output_type": "execute_result"
    }
   ],
   "source": [
    "import random\n",
    "\n",
    "def randomChoice(l, t, tc):\n",
    "    randind = random.randint(0,np.shape(l)[1]-1)\n",
    "    return l[randind ,:], t[randind,:], tc[randind]\n",
    "def randomTrainingExample():\n",
    "    randX, randy, randy_c = randomChoice(X,y,y_cold)\n",
    "    reshaped_str = np.reshape(randX,(10,-1),order='C')\n",
    "    trainstr = ''\n",
    "    train = [int2char[np.argmax(ii).item()] for ii in reshaped_str]\n",
    "    for ii in train: trainstr+=ii\n",
    "    print('[',trainstr,'][',int2char[np.argmax(randy).item()],']')\n",
    "    return trainstr, int2char[np.argmax(randy).item()], randX.reshape(1,-1), randy, randy_c\n",
    "randomTrainingExample()"
   ]
  },
  {
   "cell_type": "code",
   "execution_count": 115,
   "metadata": {},
   "outputs": [],
   "source": [
    "criterion = nn.NLLLoss()\n",
    "# optimizer = optim.Adam(net.parameters(), lr=0.001)"
   ]
  },
  {
   "cell_type": "code",
   "execution_count": 122,
   "metadata": {},
   "outputs": [],
   "source": [
    "def train(category_tensor, line_tensor):\n",
    "    hidden = rnn.initHidden()\n",
    "    rnn.zero_grad()\n",
    "    print(np.shape(line_tensor))\n",
    "    outputs = []\n",
    "    for i in range(line_tensor.size()[0]):\n",
    "        output, hidden = rnn(line_tensor[i].reshape(1,-1), hidden)\n",
    "        outputs.append(output)\n",
    "    outputs = torch.stack(outputs).squeeze()\n",
    "    print('output shapes',outputs.size(),category_tensor.size())\n",
    "    loss = criterion(outputs, category_tensor.long())\n",
    "#     print(torch.min(torch.max(outputs,1)[1].reshape(-1,1).float()),torch.min(torch.max(category_tensor, 1)[1]))\n",
    "#     loss = criterion(torch.max(outputs,1)[1].reshape(-1,1).float(), category_tensor)\n",
    "    loss.backward()\n",
    "\n",
    "    # Add parameters' gradients to their values, multiplied by learning rate\n",
    "    for p in rnn.parameters():\n",
    "        p.data.add_(learning_rate, p.grad.data)\n",
    "\n",
    "    return output, loss.item()"
   ]
  },
  {
   "cell_type": "code",
   "execution_count": null,
   "metadata": {},
   "outputs": [
    {
     "name": "stdout",
     "output_type": "stream",
     "text": [
      "torch.Size([13606, 750])\n",
      "output shapes torch.Size([13606, 75]) torch.Size([13606])\n",
      "torch.Size([13606, 750])\n",
      "output shapes torch.Size([13606, 75]) torch.Size([13606])\n",
      "torch.Size([13606, 750])\n",
      "output shapes torch.Size([13606, 75]) torch.Size([13606])\n",
      "torch.Size([13606, 750])\n",
      "output shapes torch.Size([13606, 75]) torch.Size([13606])\n",
      "torch.Size([13606, 750])\n",
      "output shapes torch.Size([13606, 75]) torch.Size([13606])\n",
      "torch.Size([13606, 750])\n",
      "output shapes torch.Size([13606, 75]) torch.Size([13606])\n",
      "torch.Size([13606, 750])\n",
      "output shapes torch.Size([13606, 75]) torch.Size([13606])\n",
      "torch.Size([13606, 750])\n",
      "output shapes torch.Size([13606, 75]) torch.Size([13606])\n",
      "torch.Size([13606, 750])\n",
      "output shapes torch.Size([13606, 75]) torch.Size([13606])\n",
      "torch.Size([13606, 750])\n",
      "output shapes torch.Size([13606, 75]) torch.Size([13606])\n",
      "torch.Size([13606, 750])\n",
      "output shapes torch.Size([13606, 75]) torch.Size([13606])\n",
      "torch.Size([13606, 750])\n",
      "output shapes torch.Size([13606, 75]) torch.Size([13606])\n",
      "torch.Size([13606, 750])\n",
      "output shapes torch.Size([13606, 75]) torch.Size([13606])\n",
      "torch.Size([13606, 750])\n",
      "output shapes torch.Size([13606, 75]) torch.Size([13606])\n",
      "torch.Size([13606, 750])\n",
      "output shapes torch.Size([13606, 75]) torch.Size([13606])\n",
      "torch.Size([13606, 750])\n",
      "output shapes torch.Size([13606, 75]) torch.Size([13606])\n",
      "torch.Size([13606, 750])\n",
      "output shapes torch.Size([13606, 75]) torch.Size([13606])\n",
      "torch.Size([13606, 750])\n",
      "output shapes torch.Size([13606, 75]) torch.Size([13606])\n",
      "torch.Size([13606, 750])\n",
      "output shapes torch.Size([13606, 75]) torch.Size([13606])\n",
      "torch.Size([13606, 750])\n",
      "output shapes torch.Size([13606, 75]) torch.Size([13606])\n",
      "torch.Size([13606, 750])\n",
      "output shapes torch.Size([13606, 75]) torch.Size([13606])\n",
      "torch.Size([13606, 750])\n",
      "output shapes torch.Size([13606, 75]) torch.Size([13606])\n",
      "torch.Size([13606, 750])\n",
      "output shapes torch.Size([13606, 75]) torch.Size([13606])\n",
      "torch.Size([13606, 750])\n",
      "output shapes torch.Size([13606, 75]) torch.Size([13606])\n",
      "torch.Size([13606, 750])\n",
      "output shapes torch.Size([13606, 75]) torch.Size([13606])\n",
      "torch.Size([13606, 750])\n",
      "output shapes torch.Size([13606, 75]) torch.Size([13606])\n",
      "torch.Size([13606, 750])\n",
      "output shapes torch.Size([13606, 75]) torch.Size([13606])\n",
      "torch.Size([13606, 750])\n",
      "output shapes torch.Size([13606, 75]) torch.Size([13606])\n",
      "torch.Size([13606, 750])\n",
      "output shapes torch.Size([13606, 75]) torch.Size([13606])\n",
      "torch.Size([13606, 750])\n",
      "output shapes torch.Size([13606, 75]) torch.Size([13606])\n",
      "torch.Size([13606, 750])\n",
      "output shapes torch.Size([13606, 75]) torch.Size([13606])\n",
      "torch.Size([13606, 750])\n",
      "output shapes torch.Size([13606, 75]) torch.Size([13606])\n",
      "torch.Size([13606, 750])\n",
      "output shapes torch.Size([13606, 75]) torch.Size([13606])\n",
      "torch.Size([13606, 750])\n",
      "output shapes torch.Size([13606, 75]) torch.Size([13606])\n",
      "torch.Size([13606, 750])\n",
      "output shapes torch.Size([13606, 75]) torch.Size([13606])\n",
      "torch.Size([13606, 750])\n",
      "output shapes torch.Size([13606, 75]) torch.Size([13606])\n",
      "torch.Size([13606, 750])\n",
      "output shapes torch.Size([13606, 75]) torch.Size([13606])\n",
      "torch.Size([13606, 750])\n",
      "output shapes torch.Size([13606, 75]) torch.Size([13606])\n",
      "torch.Size([13606, 750])\n",
      "output shapes torch.Size([13606, 75]) torch.Size([13606])\n",
      "torch.Size([13606, 750])\n",
      "output shapes torch.Size([13606, 75]) torch.Size([13606])\n",
      "torch.Size([13606, 750])\n",
      "output shapes torch.Size([13606, 75]) torch.Size([13606])\n",
      "torch.Size([13606, 750])\n",
      "output shapes torch.Size([13606, 75]) torch.Size([13606])\n",
      "torch.Size([13606, 750])\n",
      "output shapes torch.Size([13606, 75]) torch.Size([13606])\n",
      "torch.Size([13606, 750])\n",
      "output shapes torch.Size([13606, 75]) torch.Size([13606])\n",
      "torch.Size([13606, 750])\n",
      "output shapes torch.Size([13606, 75]) torch.Size([13606])\n",
      "torch.Size([13606, 750])\n",
      "output shapes torch.Size([13606, 75]) torch.Size([13606])\n",
      "torch.Size([13606, 750])\n",
      "output shapes torch.Size([13606, 75]) torch.Size([13606])\n",
      "torch.Size([13606, 750])\n",
      "output shapes torch.Size([13606, 75]) torch.Size([13606])\n",
      "torch.Size([13606, 750])\n",
      "output shapes torch.Size([13606, 75]) torch.Size([13606])\n",
      "torch.Size([13606, 750])\n",
      "output shapes torch.Size([13606, 75]) torch.Size([13606])\n",
      "torch.Size([13606, 750])\n",
      "output shapes torch.Size([13606, 75]) torch.Size([13606])\n",
      "torch.Size([13606, 750])\n",
      "output shapes torch.Size([13606, 75]) torch.Size([13606])\n",
      "torch.Size([13606, 750])\n",
      "output shapes torch.Size([13606, 75]) torch.Size([13606])\n",
      "torch.Size([13606, 750])\n",
      "output shapes torch.Size([13606, 75]) torch.Size([13606])\n",
      "torch.Size([13606, 750])\n",
      "output shapes torch.Size([13606, 75]) torch.Size([13606])\n",
      "torch.Size([13606, 750])\n",
      "output shapes torch.Size([13606, 75]) torch.Size([13606])\n",
      "torch.Size([13606, 750])\n",
      "output shapes torch.Size([13606, 75]) torch.Size([13606])\n",
      "torch.Size([13606, 750])\n",
      "output shapes torch.Size([13606, 75]) torch.Size([13606])\n",
      "torch.Size([13606, 750])\n",
      "output shapes torch.Size([13606, 75]) torch.Size([13606])\n",
      "torch.Size([13606, 750])\n",
      "output shapes torch.Size([13606, 75]) torch.Size([13606])\n",
      "torch.Size([13606, 750])\n",
      "output shapes torch.Size([13606, 75]) torch.Size([13606])\n",
      "torch.Size([13606, 750])\n",
      "output shapes torch.Size([13606, 75]) torch.Size([13606])\n",
      "torch.Size([13606, 750])\n",
      "output shapes torch.Size([13606, 75]) torch.Size([13606])\n",
      "torch.Size([13606, 750])\n",
      "output shapes torch.Size([13606, 75]) torch.Size([13606])\n",
      "torch.Size([13606, 750])\n",
      "output shapes torch.Size([13606, 75]) torch.Size([13606])\n",
      "torch.Size([13606, 750])\n",
      "output shapes torch.Size([13606, 75]) torch.Size([13606])\n",
      "torch.Size([13606, 750])\n",
      "output shapes torch.Size([13606, 75]) torch.Size([13606])\n",
      "torch.Size([13606, 750])\n",
      "output shapes torch.Size([13606, 75]) torch.Size([13606])\n",
      "torch.Size([13606, 750])\n",
      "output shapes torch.Size([13606, 75]) torch.Size([13606])\n",
      "torch.Size([13606, 750])\n",
      "output shapes torch.Size([13606, 75]) torch.Size([13606])\n",
      "torch.Size([13606, 750])\n",
      "output shapes torch.Size([13606, 75]) torch.Size([13606])\n",
      "torch.Size([13606, 750])\n",
      "output shapes torch.Size([13606, 75]) torch.Size([13606])\n",
      "torch.Size([13606, 750])\n",
      "output shapes torch.Size([13606, 75]) torch.Size([13606])\n",
      "torch.Size([13606, 750])\n",
      "output shapes torch.Size([13606, 75]) torch.Size([13606])\n",
      "torch.Size([13606, 750])\n",
      "output shapes torch.Size([13606, 75]) torch.Size([13606])\n",
      "torch.Size([13606, 750])\n",
      "output shapes torch.Size([13606, 75]) torch.Size([13606])\n",
      "torch.Size([13606, 750])\n",
      "output shapes torch.Size([13606, 75]) torch.Size([13606])\n",
      "torch.Size([13606, 750])\n",
      "output shapes torch.Size([13606, 75]) torch.Size([13606])\n",
      "torch.Size([13606, 750])\n",
      "output shapes torch.Size([13606, 75]) torch.Size([13606])\n",
      "torch.Size([13606, 750])\n",
      "output shapes torch.Size([13606, 75]) torch.Size([13606])\n",
      "torch.Size([13606, 750])\n",
      "output shapes torch.Size([13606, 75]) torch.Size([13606])\n",
      "torch.Size([13606, 750])\n",
      "output shapes torch.Size([13606, 75]) torch.Size([13606])\n",
      "torch.Size([13606, 750])\n",
      "output shapes torch.Size([13606, 75]) torch.Size([13606])\n",
      "torch.Size([13606, 750])\n",
      "output shapes torch.Size([13606, 75]) torch.Size([13606])\n",
      "torch.Size([13606, 750])\n",
      "output shapes torch.Size([13606, 75]) torch.Size([13606])\n",
      "torch.Size([13606, 750])\n",
      "output shapes torch.Size([13606, 75]) torch.Size([13606])\n",
      "torch.Size([13606, 750])\n",
      "output shapes torch.Size([13606, 75]) torch.Size([13606])\n",
      "torch.Size([13606, 750])\n",
      "output shapes torch.Size([13606, 75]) torch.Size([13606])\n",
      "torch.Size([13606, 750])\n",
      "output shapes torch.Size([13606, 75]) torch.Size([13606])\n",
      "torch.Size([13606, 750])\n",
      "output shapes torch.Size([13606, 75]) torch.Size([13606])\n",
      "torch.Size([13606, 750])\n",
      "output shapes torch.Size([13606, 75]) torch.Size([13606])\n",
      "torch.Size([13606, 750])\n",
      "output shapes torch.Size([13606, 75]) torch.Size([13606])\n",
      "torch.Size([13606, 750])\n",
      "output shapes torch.Size([13606, 75]) torch.Size([13606])\n",
      "torch.Size([13606, 750])\n",
      "output shapes torch.Size([13606, 75]) torch.Size([13606])\n",
      "torch.Size([13606, 750])\n",
      "output shapes torch.Size([13606, 75]) torch.Size([13606])\n",
      "torch.Size([13606, 750])\n",
      "output shapes torch.Size([13606, 75]) torch.Size([13606])\n",
      "torch.Size([13606, 750])\n",
      "output shapes torch.Size([13606, 75]) torch.Size([13606])\n",
      "torch.Size([13606, 750])\n",
      "output shapes torch.Size([13606, 75]) torch.Size([13606])\n",
      "torch.Size([13606, 750])\n",
      "output shapes torch.Size([13606, 75]) torch.Size([13606])\n"
     ]
    },
    {
     "name": "stdout",
     "output_type": "stream",
     "text": [
      "torch.Size([13606, 750])\n",
      "output shapes torch.Size([13606, 75]) torch.Size([13606])\n",
      "torch.Size([13606, 750])\n",
      "output shapes torch.Size([13606, 75]) torch.Size([13606])\n",
      "torch.Size([13606, 750])\n",
      "output shapes torch.Size([13606, 75]) torch.Size([13606])\n",
      "torch.Size([13606, 750])\n",
      "output shapes torch.Size([13606, 75]) torch.Size([13606])\n",
      "torch.Size([13606, 750])\n",
      "output shapes torch.Size([13606, 75]) torch.Size([13606])\n",
      "torch.Size([13606, 750])\n",
      "output shapes torch.Size([13606, 75]) torch.Size([13606])\n",
      "torch.Size([13606, 750])\n",
      "output shapes torch.Size([13606, 75]) torch.Size([13606])\n",
      "torch.Size([13606, 750])\n",
      "output shapes torch.Size([13606, 75]) torch.Size([13606])\n",
      "torch.Size([13606, 750])\n",
      "output shapes torch.Size([13606, 75]) torch.Size([13606])\n",
      "torch.Size([13606, 750])\n",
      "output shapes torch.Size([13606, 75]) torch.Size([13606])\n",
      "torch.Size([13606, 750])\n",
      "output shapes torch.Size([13606, 75]) torch.Size([13606])\n",
      "torch.Size([13606, 750])\n",
      "output shapes torch.Size([13606, 75]) torch.Size([13606])\n",
      "torch.Size([13606, 750])\n",
      "output shapes torch.Size([13606, 75]) torch.Size([13606])\n",
      "torch.Size([13606, 750])\n",
      "output shapes torch.Size([13606, 75]) torch.Size([13606])\n",
      "torch.Size([13606, 750])\n",
      "output shapes torch.Size([13606, 75]) torch.Size([13606])\n",
      "torch.Size([13606, 750])\n",
      "output shapes torch.Size([13606, 75]) torch.Size([13606])\n",
      "torch.Size([13606, 750])\n",
      "output shapes torch.Size([13606, 75]) torch.Size([13606])\n",
      "torch.Size([13606, 750])\n",
      "output shapes torch.Size([13606, 75]) torch.Size([13606])\n",
      "torch.Size([13606, 750])\n",
      "output shapes torch.Size([13606, 75]) torch.Size([13606])\n",
      "torch.Size([13606, 750])\n",
      "output shapes torch.Size([13606, 75]) torch.Size([13606])\n",
      "torch.Size([13606, 750])\n",
      "output shapes torch.Size([13606, 75]) torch.Size([13606])\n",
      "torch.Size([13606, 750])\n",
      "output shapes torch.Size([13606, 75]) torch.Size([13606])\n",
      "torch.Size([13606, 750])\n",
      "output shapes torch.Size([13606, 75]) torch.Size([13606])\n",
      "torch.Size([13606, 750])\n",
      "output shapes torch.Size([13606, 75]) torch.Size([13606])\n",
      "torch.Size([13606, 750])\n",
      "output shapes torch.Size([13606, 75]) torch.Size([13606])\n",
      "torch.Size([13606, 750])\n",
      "output shapes torch.Size([13606, 75]) torch.Size([13606])\n",
      "torch.Size([13606, 750])\n",
      "output shapes torch.Size([13606, 75]) torch.Size([13606])\n",
      "torch.Size([13606, 750])\n",
      "output shapes torch.Size([13606, 75]) torch.Size([13606])\n",
      "torch.Size([13606, 750])\n",
      "output shapes torch.Size([13606, 75]) torch.Size([13606])\n",
      "torch.Size([13606, 750])\n",
      "output shapes torch.Size([13606, 75]) torch.Size([13606])\n",
      "torch.Size([13606, 750])\n",
      "output shapes torch.Size([13606, 75]) torch.Size([13606])\n",
      "torch.Size([13606, 750])\n",
      "output shapes torch.Size([13606, 75]) torch.Size([13606])\n",
      "torch.Size([13606, 750])\n",
      "output shapes torch.Size([13606, 75]) torch.Size([13606])\n"
     ]
    }
   ],
   "source": [
    "import time\n",
    "import math\n",
    "\n",
    "n_iters = 100000\n",
    "print_every = 5000\n",
    "plot_every = 1000\n",
    "learning_rate = 0.005\n",
    "\n",
    "# Keep track of losses for plotting\n",
    "current_loss = 0\n",
    "all_losses = []\n",
    "\n",
    "def timeSince(since):\n",
    "    now = time.time()\n",
    "    s = now - since\n",
    "    m = math.floor(s / 60)\n",
    "    s -= m * 60\n",
    "    return '%dm %ds' % (m, s)\n",
    "\n",
    "start = time.time()\n",
    "for iter in range(1, n_iters + 1):\n",
    "#     category, line, category_tensor, line_tensor = randomTrainingExample()\n",
    "#     output, loss = train(category_tensor, line_tensor)\n",
    "    output, loss = train(y_cold, X)\n",
    "    current_loss += loss\n",
    "\n",
    "    # Print iter number, loss, name and guess\n",
    "    if iter % print_every == 0:\n",
    "        guess, guess_i = categoryFromOutput(output)\n",
    "        correct = '✓' if guess == category else '✗ (%s)' % category\n",
    "        print('%d %d%% (%s) %.4f %s / %s %s' % (iter, iter / n_iters * 100, timeSince(start), loss, line, guess, correct))\n",
    "\n",
    "    # Add current loss avg to list of losses\n",
    "    if iter % plot_every == 0:\n",
    "        all_losses.append(current_loss / plot_every)\n",
    "        current_loss = 0"
   ]
  },
  {
   "cell_type": "code",
   "execution_count": 313,
   "metadata": {},
   "outputs": [
    {
     "data": {
      "text/plain": [
       "2"
      ]
     },
     "execution_count": 313,
     "metadata": {},
     "output_type": "execute_result"
    }
   ],
   "source": [
    "X.dim()"
   ]
  },
  {
   "cell_type": "code",
   "execution_count": 95,
   "metadata": {},
   "outputs": [],
   "source": [
    "\n",
    "class CharRNN(nn.Module):\n",
    "    \n",
    "    def __init__(self, tokens, n_hidden=256, n_layers=2,\n",
    "                               drop_prob=0.5, lr=0.001):\n",
    "        super().__init__()\n",
    "        self.drop_prob = drop_prob\n",
    "        self.n_layers = n_layers\n",
    "        self.n_hidden = n_hidden\n",
    "        self.lr = lr\n",
    "        \n",
    "        # creating character dictionaries\n",
    "        self.chars = tokens\n",
    "        self.int2char = dict(enumerate(self.chars))\n",
    "        self.char2int = {ch: ii for ii, ch in self.int2char.items()}\n",
    "        \n",
    "        ## TODO: define the LSTM\n",
    "        self.lstm = nn.LSTM(len(self.chars), n_hidden, n_layers, \n",
    "                            dropout=drop_prob, batch_first=True)\n",
    "        \n",
    "        ## TODO: define a dropout layer\n",
    "        self.dropout = nn.Dropout(drop_prob)\n",
    "        \n",
    "        ## TODO: define the final, fully-connected output layer\n",
    "        self.fc = nn.Linear(n_hidden, len(self.chars))\n",
    "      \n",
    "    \n",
    "    def forward(self, x, hidden):\n",
    "        ''' Forward pass through the network. \n",
    "            These inputs are x, and the hidden/cell state `hidden`. '''\n",
    "                \n",
    "        ## TODO: Get the outputs and the new hidden state from the lstm\n",
    "        r_output, hidden = self.lstm(x, hidden)\n",
    "        \n",
    "        ## TODO: pass through a dropout layer\n",
    "        out = self.dropout(r_output)\n",
    "        \n",
    "        # Stack up LSTM outputs using view\n",
    "        # you may need to use contiguous to reshape the output\n",
    "        out = out.contiguous().view(-1, self.n_hidden)\n",
    "        \n",
    "        ## TODO: put x through the fully-connected layer\n",
    "        out = self.fc(out)\n",
    "        \n",
    "        # return the final output and the hidden state\n",
    "        return out, hidden\n",
    "    \n",
    "    \n",
    "    def init_hidden(self, batch_size):\n",
    "        ''' Initializes hidden state '''\n",
    "        # Create two new tensors with sizes n_layers x batch_size x n_hidden,\n",
    "        # initialized to zero, for hidden state and cell state of LSTM\n",
    "        weight = next(self.parameters()).data\n",
    "        \n",
    "        if (train_on_gpu):\n",
    "            hidden = (weight.new(self.n_layers, batch_size, self.n_hidden).zero_().cuda(),\n",
    "                  weight.new(self.n_layers, batch_size, self.n_hidden).zero_().cuda())\n",
    "        else:\n",
    "            hidden = (weight.new(self.n_layers, batch_size, self.n_hidden).zero_(),\n",
    "                      weight.new(self.n_layers, batch_size, self.n_hidden).zero_())\n",
    "        \n",
    "        return hidden"
   ]
  },
  {
   "cell_type": "code",
   "execution_count": null,
   "metadata": {},
   "outputs": [],
   "source": []
  },
  {
   "cell_type": "code",
   "execution_count": 19,
   "metadata": {},
   "outputs": [],
   "source": [
    "import string\n",
    "\n",
    "all_letters = string.ascii_letters + \" .,;?!1234567890'\"\n",
    "\n",
    "# Find letter index from all_letters, e.g. \"a\" = 0\n",
    "def letterToIndex(letter):\n",
    "    return all_letters.find(letter)\n",
    "\n",
    "# Turn a line into a <line_length x 1 x n_letters>,\n",
    "# or an array of one-hot letter vectors\n",
    "def lineToTensor(line):\n",
    "    tensor = torch.zeros(len(line), 1, n_letters)\n",
    "    for li, letter in enumerate(line):\n",
    "        tensor[li][0][letterToIndex(letter)] = 1\n",
    "    return tensor\n",
    "\n",
    "seq_len = 10 #read 10 chars at a time\n",
    "n_hidden = 128 #hidden layer\n",
    "n_letters = len(all_letters)\n",
    "n_categories = n_categories\n",
    "rnn = RNN(n_letters, n_hidden, n_categories)\n",
    "\n",
    "input = lineToTensor('Albertddfw')\n",
    "hidden = torch.zeros(1, n_hidden)\n",
    "output, next_hidden = rnn(input[0], hidden)\n",
    "criterion = nn.CrossEntropyLoss()\n",
    "optimizer = optim.Adam(model.parameters(), lr=0.001)\n"
   ]
  },
  {
   "cell_type": "markdown",
   "metadata": {},
   "source": [
    "### Generate text\n",
    "\n",
    "Once the model is trained, we can use it to generate completely new text in the style of your training data.  **Train a model using your original choice of corpus below, and generate some sample sentences.** Don't worry too much about your loss / accuracy during training, but instead check on the text your model is generating. Your generated text should be somewhat coherent, i.e. similar to your training text in structure, and not excessively mispelled.\n",
    "\n",
    "An **example model architecture** is as follows (feel free to play around with different structures):\n",
    "* Embedding (for each character in your vocab) of dimension 64\n",
    "* Dropout of 20% for the embedding input to the RNN\n",
    "* 2 LSTM layers, each of dimension 512 (play around with the number and dimension of hidden layers)\n",
    "* Dropout of 50% for each LSTM layer\n",
    "* Dense softmax layer of same dimension as your vocab size (e.g. if your vocab size is 100, this layer is the probabilty that your output is one of 100 possible characters)\n",
    "    \n",
    "**You should understand what each of the above elements are and how they work at a high level by the end of this week's exercise.**"
   ]
  },
  {
   "cell_type": "code",
   "execution_count": null,
   "metadata": {},
   "outputs": [],
   "source": []
  },
  {
   "cell_type": "markdown",
   "metadata": {},
   "source": [
    "### Generalizing the exercise\n",
    "How do you think you can apply what you learned in the above exercise to other problems involving text? For example, how would you tackle the previous IMDB sentiment classification task using an RNN architecture? **Discuss below.**\n",
    "\n",
    "(*Bonus*: create an RNN model for the IMDB classification task and discuss your results. How does the performance compare to your bag of words model?)"
   ]
  },
  {
   "cell_type": "code",
   "execution_count": null,
   "metadata": {},
   "outputs": [],
   "source": []
  },
  {
   "cell_type": "markdown",
   "metadata": {},
   "source": [
    "# Chapter 4: RNNs from scratch\n",
    "Now that you understand how to use RNNs, it's time to build a basic one from scratch.  You won't understand how they work until you get stuck in the weeds! \n",
    "\n",
    "### Generate text (Version 2)\n",
    "Your task is now to **build the forward pass of a simple RNN, without using any existing RNN APIs**. You can use PyTorch or Tensorflow (Keras is too high level for this exercise), both of which will automatically handle backpropagation for you.  If you use Tensorflow, please research and use Eager execution - it replaces Tensorflow's default graph / session framework, which is very difficult to learn and debug.\n",
    "\n",
    "Similar to last week's exercise, create a class for your network (write forward and loss steps, allowing PyTorch or Tensorflow to handle backpropagation for you).  Consider appropriate sizes for your input, hidden and output layers - your __init__ method should take in the params `hidden_size`, `vocab_size`, and `embedding_size` (if you use embeddings). Using these variables, you should initialise three weight layers `input_layer`, `hidden_layer`, and `output_layer`.  In an RNN, you will also have to deal with another item - the `hidden_state`. (Note: your RNN structure may vary slightly from this depending on your learning materials, but the key part is always `hidden_state`)\n",
    "\n",
    "You should **train your RNN on the same data and task as in Chapter 3.**"
   ]
  },
  {
   "cell_type": "code",
   "execution_count": null,
   "metadata": {},
   "outputs": [],
   "source": []
  },
  {
   "cell_type": "markdown",
   "metadata": {},
   "source": [
    "**How do the results of your basic RNN compare to your model in Chapter 3?**  What do you think explains the difference in performance? Discuss below.\n",
    "\n",
    "Some relevant resources on LSTMs (and RNN theory) below if you are interested:\n",
    "* http://colah.github.io/posts/2015-08-Understanding-LSTMs/\n",
    "* https://www.youtube.com/watch?v=93rzMHtYT_0&list=LLpNVCNE9cYqVrjb2O8bZUGg&index=2&t=0s\n",
    "* https://www.youtube.com/watch?v=zQxm3Upr3_I\n",
    "* http://harinisuresh.com/2016/10/09/lstms/"
   ]
  },
  {
   "cell_type": "code",
   "execution_count": null,
   "metadata": {},
   "outputs": [],
   "source": []
  },
  {
   "cell_type": "markdown",
   "metadata": {},
   "source": [
    "### Bonus Challenges (not required!):\n",
    "1. Build the forward pass of an LSTM, without using any existing RNN APIs (as above, with PyTorch or Tensorflow)\n",
    "1. Build a basic RNN or LSTM in Numpy - including forward pass as well as backpropogation"
   ]
  },
  {
   "cell_type": "code",
   "execution_count": null,
   "metadata": {},
   "outputs": [],
   "source": []
  }
 ],
 "metadata": {
  "kernelspec": {
   "display_name": "Python (py3env)",
   "language": "python",
   "name": "py3env"
  },
  "language_info": {
   "codemirror_mode": {
    "name": "ipython",
    "version": 3
   },
   "file_extension": ".py",
   "mimetype": "text/x-python",
   "name": "python",
   "nbconvert_exporter": "python",
   "pygments_lexer": "ipython3",
   "version": "3.6.6"
  }
 },
 "nbformat": 4,
 "nbformat_minor": 2
}
